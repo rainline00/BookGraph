{
 "cells": [
  {
   "cell_type": "code",
   "execution_count": 5,
   "metadata": {},
   "outputs": [],
   "source": [
    "from pathlib import Path\n",
    "import pandas as pd\n",
    "from bookgraph.reader import YaneuraBookReader\n",
    "from bookgraph.util import get_project_root\n",
    "from cshogi import Board"
   ]
  },
  {
   "cell_type": "code",
   "execution_count": 6,
   "metadata": {},
   "outputs": [],
   "source": [
    "reader = YaneuraBookReader()"
   ]
  },
  {
   "cell_type": "code",
   "execution_count": 7,
   "metadata": {},
   "outputs": [],
   "source": [
    "path = get_project_root() / Path(\"data/book.db\")\n",
    "nodes = list(reader.from_file(path))"
   ]
  },
  {
   "cell_type": "code",
   "execution_count": 8,
   "metadata": {},
   "outputs": [],
   "source": [
    "df = pd.DataFrame(nodes, columns=[\"node\"])"
   ]
  },
  {
   "cell_type": "code",
   "execution_count": 9,
   "metadata": {},
   "outputs": [],
   "source": [
    "df[\"board\"] = df[\"node\"].map(lambda x: x.sfen_for_hash)\n",
    "df[\"next_move\"] = df[\"node\"].map(lambda x: x.candidate_moves[0].chosen_move_code)"
   ]
  },
  {
   "cell_type": "code",
   "execution_count": 10,
   "metadata": {},
   "outputs": [
    {
     "data": {
      "text/plain": [
       "19"
      ]
     },
     "execution_count": 10,
     "metadata": {},
     "output_type": "execute_result"
    }
   ],
   "source": [
    "df.iloc[0].node.board.move_number"
   ]
  },
  {
   "cell_type": "code",
   "execution_count": 11,
   "metadata": {},
   "outputs": [],
   "source": [
    "moves = []\n",
    "for moves_list in (node.candidate_moves for node in nodes):\n",
    "    moves += moves_list\n",
    "moves = moves[:100]"
   ]
  },
  {
   "cell_type": "code",
   "execution_count": 12,
   "metadata": {},
   "outputs": [
    {
     "name": "stdout",
     "output_type": "stream",
     "text": [
      "sfen_for_hash: +Bn1g1g1nl/2s2k1s1/pp1ppp1p1/6p1p/9/9/PP1PPPPPP/9/+bNSGKGSNL b RLPrlp\n",
      "next_sfen_for_hash: +Bn1g1g1nl/R1s2k1s1/pp1ppp1p1/6p1p/9/9/PP1PPPPPP/9/+bNSGKGSNL w LPrlp\n",
      "chosen_move_code: R*9b\n",
      "expected_next_move_code: 4b3a\n",
      "evaluation_value: 0\n",
      "metadata: {'0': '32'}\n",
      "\n"
     ]
    }
   ],
   "source": [
    "print(moves[0])"
   ]
  },
  {
   "cell_type": "code",
   "execution_count": 13,
   "metadata": {},
   "outputs": [],
   "source": [
    "board_set = set(move.sfen_for_hash for move in moves) | set(move.next_sfen_for_hash for move in moves)\n",
    "sfen_to_id_dict = {sfen_for_hash: idx for idx, sfen_for_hash in enumerate(board_set)}"
   ]
  },
  {
   "cell_type": "code",
   "execution_count": 14,
   "metadata": {},
   "outputs": [
    {
     "data": {
      "text/plain": [
       "{'1ns2g1nl/lkg2srb1/pppppp1pp/9/1P7/2PP2p2/P1BSPPSPP/1R2GK3/LN3G1NL b P': 0,\n",
       " '1n1g1g1nl/1Bsk3s1/lppp1p1pp/p5p2/7P1/P1P1r4/1PSP1PP1P/5S1R1/LNKG1G1NL w Pbp': 1,\n",
       " '1ns2g1nl/lkg3rb1/ppppsp1pp/4p4/1P4p2/2PP5/P1BSPPPPP/1R2G1S2/LN3GKNL w -': 2,\n",
       " '1ns2g1nl/lk1g1rsb1/pppp3pp/2P1ppp2/9/4P1PP1/PP1PSP2P/1BR6/LNSGKG1NL b -': 3,\n",
       " 'kns1g1snl/l1g3rb1/pppppp1pp/9/2P3p2/1R1P5/P1BSPPPPP/9/LN1GKGSNL b P': 4,\n",
       " '1n1gkg1nl/r1s3r2/ppp1p1spp/3p1pp2/7P1/2P3P2/PP1PPP1SP/1B4GK1/LNSG3NL b Lb': 5,\n",
       " '1ns2g1nl/lkg3rb1/ppppps1pp/5p3/1PSP5/2P3p2/P1B1PPPPP/1R3K3/LN1G1GSNL b -': 6,\n",
       " '1ns2g1nl/lk1g1rsb1/ppppp2pp/5pp2/9/4P1PP1/PP1PSP2P/1BR6/LNSGKG1NL b P': 7,\n",
       " '1ns2g1nl/lkg2srb1/pppppp1pp/9/1P7/2PP5/P1BSPPSPP/1R2GK3/LN3G1NL w Pp': 8,\n",
       " '1ns2gsnl/l1kg1r1b1/ppppp2pp/2P2pp2/9/4P2P1/PP1PSPP1P/1BR6/LNSGKG1NL w -': 9,\n",
       " '1ns2g1nl/lkg1rs3/pppp2bpp/4ppp2/7P1/2P1P4/PPBPSPP1P/L6R1/KNSG1G1NL w -': 10,\n",
       " '1ns2g1nl/lkg3rb1/ppppsp1pp/4p4/1P4p2/2PP5/P1BSPPPPP/1R2GKS2/LN3G1NL b -': 11,\n",
       " 'kns2g1nl/l1g2srb1/pppppp1pp/9/6p2/2PP5/P1BSPPPPP/1R4S2/LN1GKG1NL b P': 12,\n",
       " '1ns2g1nl/lkg2srb1/pppppp1pp/6p2/9/2PP1P3/PPBSP1PPP/1R4S2/LN1GKG1NL b -': 13,\n",
       " '1ns2g1nl/lkg2srb1/pppppp1pp/9/1P4p2/2PP5/P1BSPPPPP/1R3K1S1/LN1G1G1NL w -': 14,\n",
       " '1n1gkg1nl/r1s3r2/ppppppspp/6p2/7P1/2P3P2/PP1PPP2P/1B4GS1/LNSG2KNL b Lb': 15,\n",
       " '+Bn1g1g1nl/2sk3s1/ppppp2pp/9/6p2/2P2r1P1/PP1PPpP1P/1K5R1/LNSGSG1NL w LPb': 16,\n",
       " '1ns1g1snl/lkg3rb1/pppppp1pp/9/6p2/1RPP5/P1BSPPPPP/2G6/LN2KGSNL w P': 17,\n",
       " '1ns2gsnl/l1kg1r1b1/ppppp2pp/2R2pp2/9/4P2P1/PP1PSPP1P/1B7/LNSGKG1NL b P': 18,\n",
       " '1ns2g1nl/lkg2s1b1/pppppp1pp/6r2/1P4p2/2PP5/P1BSPPPPP/1R2G1S2/LN2KG1NL b -': 19,\n",
       " '1ns2g1nl/lkg2srb1/pppppp1pp/1R4p2/9/2PP5/P1BSPPPPP/9/LN1GKGSNL b P': 20,\n",
       " '1n1g1g1nl/1Bskr2s1/lppp1p1pp/p5p2/7P1/P1P6/1PSP1PP1P/5S1R1/LNKG1G1NL b Pbp': 21,\n",
       " '1ns2gsnl/l1kg1r1b1/ppppp2pp/5pp2/9/4P2P1/PP1PSPP1P/1BR6/LNSGKG1NL w P': 22,\n",
       " '1n1gkg1nl/r1s3rs1/pppppp1pp/6p2/7P1/2P3P2/PP1PPP2P/1B3KGS1/LNSG3NL b Lb': 23,\n",
       " '1npg1gknl/R+Bs4s1/pp1ppp1p1/6p1p/9/9/PP1PPPPPP/2S6/+bN1GKGSNL w LPrl': 24,\n",
       " '+Bn1gkg1nl/r1s3rs1/pppppp1pp/6p2/7P1/2P3P2/PP1PPP2P/1B4GS1/LNSGK2NL w L': 25,\n",
       " '1ns2g1nl/lkg2srb1/pppppp1pp/6p2/9/2PP1P3/PPBSP1PPP/1R2G1S2/LN2KG1NL w -': 26,\n",
       " '1ns2g1nl/lkg2srb1/pppppp1pp/6p2/1P7/2PP5/P1BSPPPPP/1R3K3/LN1G1GSNL w -': 27,\n",
       " '1ns2gsnl/l1kg1r1b1/pp1pp2pp/2p2pp2/9/4P2P1/PP1PSPP1P/1BR6/LNSGKG1NL b p': 28,\n",
       " '1npg1gknl/R+Bs4s1/pplppp1p1/6p1p/9/9/PP1PPPPPP/2S6/+bN1GKGSNL b LPr': 29,\n",
       " '1ns2g1nl/lkg2s1b1/pppppp1pp/6r2/1P4p2/2PP5/P1BSPPPPP/1R2GKS2/LN3G1NL w -': 30,\n",
       " '1n1g1g1nl/lks3rb1/p1ppsp1pp/1p2p4/1N4p2/PPPP5/3SPPPPP/1B1R2S2/L2G1GKNL b -': 31,\n",
       " 'kns2g1nl/l1g2srb1/pppppp1pp/6p2/9/2PP1P3/PPBSP1PPP/1R2G1S2/LN2KG1NL b -': 32,\n",
       " 'kns1g1snl/l1g3rb1/pppppp1pp/6p2/1PP6/3P5/P1BSPPPPP/1R7/LN1GKGSNL b -': 33,\n",
       " '1n1gkg1nl/r1s3r2/ppppp1spp/5pp2/7P1/2P3P2/PP1PPP1SP/1B4G2/LNSG2KNL b Lb': 34,\n",
       " '1n1gkg1nl/r1s3r2/ppppppspp/6p2/7P1/2P3P2/PP1PPP1SP/1B4G2/LNSG2KNL w Lb': 35,\n",
       " '1ns2g1nl/lkg2srb1/pppppp1pp/9/1P4p2/2PPS4/P1B1PPPPP/1R3K3/LN1G1GSNL w -': 36,\n",
       " '1ns4nl/lkg1rsgb1/pppp1p1pp/4p1p2/7R1/2PP5/P1B1PPPPP/5K3/LNSG1GSNL b P': 37,\n",
       " '+Bn1g1g1nl/2sk2rs1/pppppp1pp/9/4b4/2P6/PP2PPSPP/3R5/LNSGKG1NL w L2Pp': 38,\n",
       " 'rn1g1g1nl/3s1k1b1/p2p3pp/1pp1spp2/9/2P6/PP1P1PPPP/4RK3/LNSG1GSNL b Lb2p': 39,\n",
       " '1n1g1g1nl/1Bskr2s1/lppp1p1pp/p5p2/7P1/P1P1p4/1P1PPPP1P/2S2S1R1/LNKG1G1NL b b': 40,\n",
       " '1ns1g1snl/lkg3rb1/pppppp1pp/6p2/9/1RPP5/P1BSPPPPP/9/LN1GKGSNL w P': 41,\n",
       " '1ns2g1nl/lkg1rs3/pppp2bpp/4ppp2/7P1/2P1P4/PPBPSPP1P/LK5R1/1NSG1G1NL b -': 42,\n",
       " '1ns2g1nl/lkg2srb1/p1pppp1pp/1p4p2/9/2PP5/P1BSPPPPP/1R7/LN1GKGSNL b p': 43,\n",
       " '1ns1g1snl/lkg3rb1/pppppp1pp/1P4p2/9/2PP5/P1BSPPPPP/1R7/LN1GKGSNL w -': 44,\n",
       " '1n1g1g1nl/1Bsk3s1/lppp1p1pp/p5p2/7P1/P1P1r4/1P1P1PP1P/2S2S1R1/LNKG1G1NL b Pbp': 45,\n",
       " 'kns2g1nl/l1g2s1b1/pppppp1pp/6r2/1P4p2/2PP5/P1BSPPPPP/1R2GKS2/LN3G1NL b -': 46,\n",
       " '1ns1g1snl/lkg3rb1/pppppp1pp/1R4p2/9/2PP5/P1BSPPPPP/9/LN1GKGSNL b P': 47,\n",
       " 'kns2g1nl/l1g3rb1/ppppsp1pp/4p4/1P4p2/2PP5/P1BSPPPPP/1R2G1S2/LN3GKNL b -': 48,\n",
       " 'kns2gs1l/l1g4b1/ppppppnpp/6r2/1P1P2p2/2P6/P1BSPPPPP/1RG2K3/LN3GSNL b -': 49,\n",
       " '1n1gkg1nl/1Bs1r2s1/lppp1p1pp/p5p2/7P1/P1P6/1PSPPPP1P/3K1S1R1/LN1G1G1NL w bp': 50,\n",
       " '1n1g1g1nl/1Bsk3s1/lpp2p1pp/p2p2p2/7P1/P1P1r4/1PSP1PP1P/2K2S1R1/LN1G1G1NL b Pbp': 51,\n",
       " '1n1g1g1nl/1Bskr2s1/lppp1p1pp/p5p2/7P1/P1P1P4/1P1P1PP1P/2S2S1R1/LNKG1G1NL w Pb': 52,\n",
       " 'rn1gkg1nl/2s3rs1/pppppp1pp/6p2/7P1/2P3P2/PP1PPP2P/1B4GS1/LNSGK2NL b Lb': 53,\n",
       " '+Bn1g1g1nl/2s2k1s1/pp1pppbp1/6p1p/9/9/PP1PPPPPP/9/LNSGKGSNL w RLPrp': 54,\n",
       " '1n1g1g1nl/1Bskr2s1/lppp1p1pp/p5p2/4p2P1/P1P6/1P1PPPP1P/2S2S1R1/LNKG1G1NL w b': 55,\n",
       " '1ns2g1nl/lkg2srb1/pppppp1pp/9/1P4p2/2PP5/P1BSPPPPP/1R3K3/LN1G1GSNL b -': 56,\n",
       " '1ns1g1snl/lkg3rb1/pppppp1pp/9/2P3p2/1R1P5/P1BSPPPPP/9/LN1GKGSNL w P': 57,\n",
       " '1ns2g1nl/lkg3rb1/ppppsp1pp/4p4/PP4p2/2PP5/2BSPPPPP/1R5S1/LN1GKG1NL b -': 58,\n",
       " '1ns2g1nl/lkg2srb1/pppppp1pp/9/6p2/2PP5/P1BSPPPPP/1R4S2/LN1GKG1NL w P': 59,\n",
       " '1ns2gsnl/l1kg1r1b1/ppppp2pp/5pp2/2P6/4P2P1/PP1PSPP1P/1BR6/LNSGKG1NL b -': 60,\n",
       " '1ns2g1nl/lkg2srb1/pppppp1pp/1P4p2/9/2PP5/P1BSPPPPP/1R7/LN1GKGSNL w -': 61,\n",
       " 'kns1g1snl/l1g3rb1/pppppp1pp/9/1P4p2/2PP5/P1BSPPPPP/1R4G2/LN1G1KSNL b -': 62,\n",
       " '+Bn1g1g1nl/r2s1k1b1/p2p3pp/1pp1spp2/9/2P6/PP1P1PPPP/4RK3/LNSG1GSNL w L2p': 63,\n",
       " '1npg1gknl/R+Bs4s1/pp1ppp1p1/6p1p/9/9/PP1PPPPPP/9/+bNSGKGSNL b LPrl': 64,\n",
       " '+Bn1g1g1nl/2sk3s1/ppppp2pp/9/9/2P2rpP1/PP1PPpP1P/1K5R1/LNSGSG1NL b LPb': 65,\n",
       " '1n1gkg1nl/r1s3r2/ppppp1spp/5pp2/7P1/2P3P2/PP1PPP1SP/1B4GK1/LNSG3NL w Lb': 66,\n",
       " 'kns1g1snl/l1g3rb1/pppppp1pp/6p2/1P1P5/2P6/P1BSPPPPP/1R7/LN1GKGSNL b -': 67,\n",
       " '1ns2g1nl/lkg2srb1/pppppp1pp/9/2P3p2/1R1P5/P1BSPPPPP/9/LN1GKGSNL w P': 68,\n",
       " 'kns2g1nl/l1g2srb1/pppppp1pp/9/1P4p2/2PP5/P1BSPPPPP/1R3KS2/LN1G1G1NL b -': 69,\n",
       " '+Bn1g1g1nl/2sk2rs1/pppppp1pp/9/4b4/2P6/PP2PP+pPP/3R3S1/LNSGKG1NL b LPp': 70,\n",
       " 'kns2g1nl/l1g2srb1/pppppp1pp/9/1P4p2/2PPS4/P1B1PPPPP/1R3K3/LN1G1GSNL b -': 71,\n",
       " '1ns1g1snl/lkg3rb1/pppppp1pp/9/1P4p2/2PP5/P1BSPPPPP/1R4G2/LN1G1KSNL w -': 72,\n",
       " '1ns2g1nl/l1kg1rsb1/ppppp2pp/5pp2/9/4P1PP1/PP1PSP2P/1BR6/LNSGKG1NL w P': 73,\n",
       " '1n1g1g1nl/1Bsk3s1/lppp1p1pp/p5p2/7P1/P1P1r4/1PSP1PP1P/2K2S1R1/LN1G1G1NL w Pbp': 74,\n",
       " '1n1gkg1nl/r1s3rs1/pppppp1pp/6p2/7P1/2P3P2/PP1PPP2P/1B4GS1/LNSG2KNL w Lb': 75,\n",
       " '1ns1g1snl/lkg4b1/pppppp1pp/6r2/6p2/1RPP5/P1BSPPPPP/2G6/LN2KGSNL b P': 76,\n",
       " '1ns2gs1l/lkg4b1/ppppppnpp/6r2/1P1P2p2/2P6/P1BSPPPPP/1RG6/LN2KGSNL b -': 77,\n",
       " '1ns2g1nl/lkg2srb1/pppppp1pp/9/1P7/2PP5/P1BSPPSPP/1R3K3/LN1G1G1NL b Pp': 78,\n",
       " '+Bn1g1g1nl/2sk2rs1/pppppp1pp/9/4b4/2P3p2/PP2PPPPP/3R3S1/LNSGKG1NL w LP': 79,\n",
       " '1ns2g1nl/lk1g1rsb1/ppppp2pp/2P2pp2/9/4P1PP1/PP1PSP2P/1BR6/LNSGKG1NL w -': 80,\n",
       " '1ns2gsnl/l1kg1r1b1/pp1pp2pp/2R2pp2/9/4P2P1/PP1PSPP1P/1B7/LNSGKG1NL w Pp': 81,\n",
       " '1ns1g1snl/lkg3rb1/pppppp1pp/6p2/1P1P5/2P6/P1BSPPPPP/1R7/LN1GKGSNL w -': 82,\n",
       " '1ns2g1nl/l1kg1rsb1/ppppp2pp/5pp2/9/4P2P1/PP1PSPP1P/1BR6/LNSGKG1NL b P': 83,\n",
       " '+Bn1g1g1nl/2sk2rs1/pppppp1pp/9/4b4/2P3p2/PP2PPPPP/3R5/LNSGKGSNL b LP': 84,\n",
       " '1ns2g1nl/lkg2srb1/pppppp1pp/9/6p2/1RPP5/P1BSPPPPP/9/LN1GKGSNL b P': 85,\n",
       " '1ns2g1nl/lkg2srb1/pppppp1pp/9/6p2/2PP5/P1BSPPPPP/1R7/LN1GKGSNL b P': 86,\n",
       " '1ns1g1snl/lkg3rb1/p1pppp1pp/1p4p2/9/2PP5/P1BSPPPPP/1R7/LN1GKGSNL b p': 87,\n",
       " '1ns2g1nl/lkg1rs1b1/pppp1p1pp/4p1p2/1R7/2PP5/P1B1PPPPP/5K3/LNSG1GSNL b P': 88,\n",
       " '1ns4nl/lkg1gsrb1/pppppp1pp/9/1P4p2/2PP5/P1BSPPPPP/1R3KS2/LN1G1G1NL b -': 89,\n",
       " '1n1g1g1nl/1Bskr2s1/lppp1p1pp/p5p2/4p2P1/P1P6/1P1PPPP1P/2S4R1/LNKG1GSNL b b': 90,\n",
       " '1ns2g1nl/lkg2srb1/p1pppp1pp/1R4p2/9/2PP5/P1BSPPPPP/9/LN1GKGSNL w Pp': 91,\n",
       " '1ns2g1nl/lkg2srb1/pppppp1pp/6p2/1P7/2PP5/P1BSPPPPP/1R7/LN1GKGSNL b -': 92,\n",
       " '1ns2g1nl/lkg1rs1b1/pppp1p1pp/4p1p2/7R1/2PP5/P1B1PPPPP/5K3/LNSG1GSNL w P': 93,\n",
       " '1n1gkg1nl/1Bs1r2s1/lppp1p1pp/p5p2/7P1/P1P6/1PSPPPP1P/5S1R1/LN1GKG1NL b bp': 94,\n",
       " '1nsg2snl/lkg3rb1/pppppp1pp/9/1P4p2/P1PP5/2BSPPPPP/1R2G4/LN2KGSNL b -': 95,\n",
       " '1ns2gs1l/lkg4b1/ppppppnpp/6r2/1P1P2p2/2P6/P1BSPPPPP/1RG2K3/LN3GSNL w -': 96,\n",
       " '1n1gkg1nl/1Bs1r4/lppp1pspp/p5p2/7P1/P1P6/1PSPPPP1P/3K1S1R1/LN1G1G1NL b bp': 97,\n",
       " '1ns2g1nl/lkg3rb1/ppppps1pp/5p3/1P1P2p2/2PS5/P1B1PPPPP/1R3K3/LN1G1GSNL b -': 98,\n",
       " '+Bn1g1g1nl/R1s2k1s1/pp1ppp1p1/6p1p/9/9/PP1PPPPPP/9/+bNSGKGSNL w LPrlp': 99,\n",
       " '1ns2g1nl/lkg2srb1/pppppp1pp/9/1P4p2/2PP5/P1BSPPPPP/1R3KS2/LN1G1G1NL w -': 100,\n",
       " '1n1g1g1nl/lks3rb1/p1ppsp1pp/1p2p1p2/1N7/PPPP5/3SPPPPP/1B1R2S2/L2G1GKNL w -': 101,\n",
       " '1ns1g1snl/lkg3rb1/pppppp1pp/6p2/1PP6/3P5/P1BSPPPPP/1R7/LN1GKGSNL w -': 102,\n",
       " '1ns1g1snl/lkg3rb1/p1pppp1pp/1R4p2/9/2PP5/P1BSPPPPP/9/LN1GKGSNL w Pp': 103,\n",
       " 'kns2g1nl/l1g1rs3/pppp2bpp/4ppp2/7P1/2P1P4/PPBPSPP1P/L6R1/KNSG1G1NL b -': 104,\n",
       " '1ns1g1snl/lkg3rb1/pppppp1pp/9/1P4p2/2PP5/P1BSPPPPP/1R2G4/LN2KGSNL b -': 105,\n",
       " '+Bn1g1g1nl/2sk2rs1/pppppp1pp/9/4b1p2/2P6/PP2PPPPP/3R5/LNSGKGSNL w LP': 106,\n",
       " '+Bn1g1gknl/R1s4s1/pp1ppp1p1/6p1p/9/9/PP1PPPPPP/9/+bNSGKGSNL b LPrlp': 107,\n",
       " '1ns1g1snl/lkg3rb1/pppppp1pp/9/1P4p2/2PP5/P1BSPPPPP/1R4G2/LN1GK1SNL b -': 108,\n",
       " '1ns1g1snl/lkg3rb1/pppppp1pp/9/1P4p2/P1PP5/2BSPPPPP/1R2G4/LN2KGSNL w -': 109,\n",
       " '1ns2g1nl/lkg2srb1/pppppp1pp/9/1P4p2/2PP5/P1BSPPPPP/1R2G4/LN2KGSNL b -': 110,\n",
       " '1ns2g1nl/lkg2srb1/pppppp1pp/6p2/9/1RPP5/P1BSPPPPP/9/LN1GKGSNL w P': 111,\n",
       " 'kns2g1nl/l1g3rb1/ppppsp1pp/4p4/PP4p2/2PP5/2BSPPPPP/1R3K1S1/LN1G1G1NL b -': 112,\n",
       " '1ns2g1nl/lkg3rb1/ppppsp1pp/4p4/PP4p2/2PP5/2BSPPPPP/1R3K1S1/LN1G1G1NL w -': 113,\n",
       " '1ns2g1nl/lkg2srb1/pppppp1pp/9/1P4p2/2PP5/P1BSPPPPP/1R2G1S2/LN2KG1NL w -': 114,\n",
       " '+Bn1g1g1nl/2sk2rs1/pppppp1pp/9/9/2P6/PP2PPSPP/3R5/+bNSGKG1NL b L2Plp': 115,\n",
       " '1ns1g1snl/lkg3rb1/pppppp1pp/9/6p2/1RPP5/P1BSPPPPP/9/LN1GKGSNL b P': 116,\n",
       " '1ns1g1snl/lkg3rb1/pppppp1pp/6p2/1P7/2PP5/P1BSPPPPP/1R7/LN1GKGSNL b -': 117,\n",
       " 'kns2g1nl/l1g2srb1/pppppp1pp/9/1P4p2/2PP5/P1BSPPPPP/1R3K1S1/LN1G1G1NL b -': 118,\n",
       " '1ns2g1nl/lkg3rb1/ppppps1pp/5p3/1PSP2p2/2P6/P1B1PPPPP/1R3K3/LN1G1GSNL w -': 119,\n",
       " '+Bn1g1g1nl/2s2k1s1/pp1ppp1p1/6p1p/9/9/PP1PPPPPP/9/+bNSGKGSNL b RLPrlp': 120,\n",
       " '1n1g1gknl/R+Bs4s1/pp1ppp1p1/6p1p/9/9/PP1PPPPPP/9/+bNSGKGSNL w LPrlp': 121,\n",
       " '1n1g1g1nl/1Bsk3s1/lppp1p1pp/p5p2/7P1/P1P1r4/1PSP1PP1P/3K1S1R1/LN1G1G1NL b Pbp': 122,\n",
       " '1n1g1g1nl/lks3rb1/p1ppsp1pp/1p2p1p2/1N7/PPPP5/3SPPPPP/1B1R1KS2/L2G1G1NL b -': 123,\n",
       " '1ns2g1nl/lkg2srb1/pppppp1pp/9/2P6/1R1P2p2/P1BSPPPPP/9/LN1GKGSNL b P': 124,\n",
       " '1ns2g1nl/lkg2srb1/pppppp1pp/9/1P4p2/2PP5/P1BSPPPPP/1R4S2/LN1GKG1NL b -': 125}"
      ]
     },
     "execution_count": 14,
     "metadata": {},
     "output_type": "execute_result"
    }
   ],
   "source": [
    "sfen_to_id_dict"
   ]
  },
  {
   "cell_type": "code",
   "execution_count": 15,
   "metadata": {},
   "outputs": [],
   "source": [
    "df_move = pd.DataFrame(moves, columns=[\"move\"])"
   ]
  },
  {
   "cell_type": "code",
   "execution_count": 16,
   "metadata": {},
   "outputs": [],
   "source": [
    "df_move[\"from\"] = df_move[\"move\"].map(lambda x: sfen_to_id_dict[x.sfen_for_hash])\n",
    "df_move[\"to\"] = df_move[\"move\"].map(lambda x: sfen_to_id_dict[x.next_sfen_for_hash])"
   ]
  },
  {
   "cell_type": "code",
   "execution_count": 17,
   "metadata": {},
   "outputs": [],
   "source": [
    "edge_df = df_move[[\"from\", \"to\"]].copy()"
   ]
  },
  {
   "cell_type": "code",
   "execution_count": 28,
   "metadata": {},
   "outputs": [
    {
     "data": {
      "text/plain": [
       "0"
      ]
     },
     "execution_count": 28,
     "metadata": {},
     "output_type": "execute_result"
    }
   ],
   "source": [
    "sum(edge_df[\"from\"] == 0)"
   ]
  },
  {
   "cell_type": "code",
   "execution_count": 14,
   "metadata": {},
   "outputs": [],
   "source": [
    "node_df = pd.DataFrame(sfen_to_id_dict.keys(), columns=[\"title\"], index=sfen_to_id_dict.values())"
   ]
  },
  {
   "cell_type": "code",
   "execution_count": 15,
   "metadata": {},
   "outputs": [],
   "source": [
    "node_df[\"id\"] = node_df.index"
   ]
  },
  {
   "cell_type": "code",
   "execution_count": 16,
   "metadata": {},
   "outputs": [
    {
     "data": {
      "text/html": [
       "<div>\n",
       "<style scoped>\n",
       "    .dataframe tbody tr th:only-of-type {\n",
       "        vertical-align: middle;\n",
       "    }\n",
       "\n",
       "    .dataframe tbody tr th {\n",
       "        vertical-align: top;\n",
       "    }\n",
       "\n",
       "    .dataframe thead th {\n",
       "        text-align: right;\n",
       "    }\n",
       "</style>\n",
       "<table border=\"1\" class=\"dataframe\">\n",
       "  <thead>\n",
       "    <tr style=\"text-align: right;\">\n",
       "      <th></th>\n",
       "      <th>title</th>\n",
       "      <th>id</th>\n",
       "    </tr>\n",
       "  </thead>\n",
       "  <tbody>\n",
       "    <tr>\n",
       "      <th>0</th>\n",
       "      <td>1ns2g1nl/lkg2srb1/p1pppp1pp/1R4p2/9/2PP5/P1BSP...</td>\n",
       "      <td>0</td>\n",
       "    </tr>\n",
       "    <tr>\n",
       "      <th>1</th>\n",
       "      <td>1ns1g1snl/lkg3rb1/pppppp1pp/6p2/1P1P5/2P6/P1BS...</td>\n",
       "      <td>1</td>\n",
       "    </tr>\n",
       "    <tr>\n",
       "      <th>2</th>\n",
       "      <td>1ns2g1nl/lkg2srb1/pppppp1pp/6p2/9/1RPP5/P1BSPP...</td>\n",
       "      <td>2</td>\n",
       "    </tr>\n",
       "    <tr>\n",
       "      <th>3</th>\n",
       "      <td>+Bn1g1g1nl/2sk2rs1/pppppp1pp/9/4b1p2/2P6/PP2PP...</td>\n",
       "      <td>3</td>\n",
       "    </tr>\n",
       "    <tr>\n",
       "      <th>4</th>\n",
       "      <td>+Bn1g1g1nl/2sk2rs1/pppppp1pp/9/4b4/2P3p2/PP2PP...</td>\n",
       "      <td>4</td>\n",
       "    </tr>\n",
       "    <tr>\n",
       "      <th>...</th>\n",
       "      <td>...</td>\n",
       "      <td>...</td>\n",
       "    </tr>\n",
       "    <tr>\n",
       "      <th>121</th>\n",
       "      <td>1ns2g1nl/lkg2s1b1/pppppp1pp/6r2/1P4p2/2PP5/P1B...</td>\n",
       "      <td>121</td>\n",
       "    </tr>\n",
       "    <tr>\n",
       "      <th>122</th>\n",
       "      <td>1ns2g1nl/lkg3rb1/ppppsp1pp/4p4/1P4p2/2PP5/P1BS...</td>\n",
       "      <td>122</td>\n",
       "    </tr>\n",
       "    <tr>\n",
       "      <th>123</th>\n",
       "      <td>1ns1g1snl/lkg3rb1/pppppp1pp/9/6p2/1RPP5/P1BSPP...</td>\n",
       "      <td>123</td>\n",
       "    </tr>\n",
       "    <tr>\n",
       "      <th>124</th>\n",
       "      <td>1n1gkg1nl/r1s3r2/ppppp1spp/5pp2/7P1/2P3P2/PP1P...</td>\n",
       "      <td>124</td>\n",
       "    </tr>\n",
       "    <tr>\n",
       "      <th>125</th>\n",
       "      <td>1ns2g1nl/lkg3rb1/ppppps1pp/5p3/1P1P2p2/2PS5/P1...</td>\n",
       "      <td>125</td>\n",
       "    </tr>\n",
       "  </tbody>\n",
       "</table>\n",
       "<p>126 rows × 2 columns</p>\n",
       "</div>"
      ],
      "text/plain": [
       "                                                 title   id\n",
       "0    1ns2g1nl/lkg2srb1/p1pppp1pp/1R4p2/9/2PP5/P1BSP...    0\n",
       "1    1ns1g1snl/lkg3rb1/pppppp1pp/6p2/1P1P5/2P6/P1BS...    1\n",
       "2    1ns2g1nl/lkg2srb1/pppppp1pp/6p2/9/1RPP5/P1BSPP...    2\n",
       "3    +Bn1g1g1nl/2sk2rs1/pppppp1pp/9/4b1p2/2P6/PP2PP...    3\n",
       "4    +Bn1g1g1nl/2sk2rs1/pppppp1pp/9/4b4/2P3p2/PP2PP...    4\n",
       "..                                                 ...  ...\n",
       "121  1ns2g1nl/lkg2s1b1/pppppp1pp/6r2/1P4p2/2PP5/P1B...  121\n",
       "122  1ns2g1nl/lkg3rb1/ppppsp1pp/4p4/1P4p2/2PP5/P1BS...  122\n",
       "123  1ns1g1snl/lkg3rb1/pppppp1pp/9/6p2/1RPP5/P1BSPP...  123\n",
       "124  1n1gkg1nl/r1s3r2/ppppp1spp/5pp2/7P1/2P3P2/PP1P...  124\n",
       "125  1ns2g1nl/lkg3rb1/ppppps1pp/5p3/1P1P2p2/2PS5/P1...  125\n",
       "\n",
       "[126 rows x 2 columns]"
      ]
     },
     "execution_count": 16,
     "metadata": {},
     "output_type": "execute_result"
    }
   ],
   "source": [
    "node_df"
   ]
  },
  {
   "cell_type": "code",
   "execution_count": 17,
   "metadata": {},
   "outputs": [],
   "source": [
    "node_df[\"board\"] = node_df[\"title\"].map(lambda x: Board(sfen=x))"
   ]
  },
  {
   "cell_type": "code",
   "execution_count": 18,
   "metadata": {},
   "outputs": [
    {
     "data": {
      "text/plain": [
       "'<svg xmlns=\"http://www.w3.org/2000/svg\" version=\"1.1\" xmlns:xlink=\"http://www.w3.org/1999/xlink\" width=\"230.0\" height=\"192.0\" viewBox=\"0 0 230 192\"><defs><g id=\"black-pawn\"><text font-family=\"serif\" font-size=\"17\" text-anchor=\"middle\" x=\"10.5\" y=\"16.5\">&#27497;</text></g><g id=\"black-lance\"><text font-family=\"serif\" font-size=\"17\" text-anchor=\"middle\" x=\"10.5\" y=\"16.5\">&#39321;</text></g><g id=\"black-knight\"><text font-family=\"serif\" font-size=\"17\" text-anchor=\"middle\" x=\"10.5\" y=\"16.5\">&#26690;</text></g><g id=\"black-silver\"><text font-family=\"serif\" font-size=\"17\" text-anchor=\"middle\" x=\"10.5\" y=\"16.5\">&#37504;</text></g><g id=\"black-gold\"><text font-family=\"serif\" font-size=\"17\" text-anchor=\"middle\" x=\"10.5\" y=\"16.5\">&#37329;</text></g><g id=\"black-bishop\"><text font-family=\"serif\" font-size=\"17\" text-anchor=\"middle\" x=\"10.5\" y=\"16.5\">&#35282;</text></g><g id=\"black-rook\"><text font-family=\"serif\" font-size=\"17\" text-anchor=\"middle\" x=\"10.5\" y=\"16.5\">&#39131;</text></g><g id=\"black-king\"><text font-family=\"serif\" font-size=\"17\" text-anchor=\"middle\" x=\"10.5\" y=\"16.5\">&#29579;</text></g><g id=\"black-pro-pawn\"><text font-family=\"serif\" font-size=\"17\" text-anchor=\"middle\" x=\"10.5\" y=\"16.5\">&#12392;</text></g><g id=\"black-pro-lance\" transform=\"scale(1.0, 0.5)\"><text font-family=\"serif\" font-size=\"17\" text-anchor=\"middle\" x=\"10.5\" y=\"18\">&#25104;</text><text font-family=\"serif\" font-size=\"17\" text-anchor=\"middle\" x=\"10.5\" y=\"34\">&#39321;</text></g><g id=\"black-pro-knight\" transform=\"scale(1.0, 0.5)\"><text font-family=\"serif\" font-size=\"17\" text-anchor=\"middle\" x=\"10.5\" y=\"18\">&#25104;</text><text font-family=\"serif\" font-size=\"17\" text-anchor=\"middle\" x=\"10.5\" y=\"34\">&#26690;</text></g><g id=\"black-pro-silver\" transform=\"scale(1.0, 0.5)\"><text font-family=\"serif\" font-size=\"17\" text-anchor=\"middle\" x=\"10.5\" y=\"18\">&#25104;</text><text font-family=\"serif\" font-size=\"17\" text-anchor=\"middle\" x=\"10.5\" y=\"34\">&#37504;</text></g><g id=\"black-horse\"><text font-family=\"serif\" font-size=\"17\" text-anchor=\"middle\" x=\"10.5\" y=\"16.5\">&#39340;</text></g><g id=\"black-dragon\"><text font-family=\"serif\" font-size=\"17\" text-anchor=\"middle\" x=\"10.5\" y=\"16.5\">&#40845;</text></g><g id=\"white-pawn\" transform=\"rotate(180)\"><text font-family=\"serif\" font-size=\"17\" text-anchor=\"middle\" x=\"-10.5\" y=\"-3.5\">&#27497;</text></g><g id=\"white-lance\" transform=\"rotate(180)\"><text font-family=\"serif\" font-size=\"17\" text-anchor=\"middle\" x=\"-10.5\" y=\"-3.5\">&#39321;</text></g><g id=\"white-knight\" transform=\"rotate(180)\"><text font-family=\"serif\" font-size=\"17\" text-anchor=\"middle\" x=\"-10.5\" y=\"-3.5\">&#26690;</text></g><g id=\"white-silver\" transform=\"rotate(180)\"><text font-family=\"serif\" font-size=\"17\" text-anchor=\"middle\" x=\"-10.5\" y=\"-3.5\">&#37504;</text></g><g id=\"white-gold\" transform=\"rotate(180)\"><text font-family=\"serif\" font-size=\"17\" text-anchor=\"middle\" x=\"-10.5\" y=\"-3.5\">&#37329;</text></g><g id=\"white-bishop\" transform=\"rotate(180)\"><text font-family=\"serif\" font-size=\"17\" text-anchor=\"middle\" x=\"-10.5\" y=\"-3.5\">&#35282;</text></g><g id=\"white-rook\" transform=\"rotate(180)\"><text font-family=\"serif\" font-size=\"17\" text-anchor=\"middle\" x=\"-10.5\" y=\"-3.5\">&#39131;</text></g><g id=\"white-king\" transform=\"rotate(180)\"><text font-family=\"serif\" font-size=\"17\" text-anchor=\"middle\" x=\"-10.5\" y=\"-3.5\">&#29579;</text></g><g id=\"white-pro-pawn\" transform=\"rotate(180)\"><text font-family=\"serif\" font-size=\"17\" text-anchor=\"middle\" x=\"-10.5\" y=\"-3.5\">&#12392;</text></g><g id=\"white-pro-lance\" transform=\"scale(1.0, 0.5) rotate(180)\"><text font-family=\"serif\" font-size=\"17\" text-anchor=\"middle\" x=\"-10.5\" y=\"-22\">&#25104;</text><text font-family=\"serif\" font-size=\"17\" text-anchor=\"middle\" x=\"-10.5\" y=\"-6\">&#39321;</text></g><g id=\"white-pro-knight\" transform=\"scale(1.0, 0.5) rotate(180)\"><text font-family=\"serif\" font-size=\"17\" text-anchor=\"middle\" x=\"-10.5\" y=\"-22\">&#25104;</text><text font-family=\"serif\" font-size=\"17\" text-anchor=\"middle\" x=\"-10.5\" y=\"-6\">&#26690;</text></g><g id=\"white-pro-silver\" transform=\"scale(1.0, 0.5) rotate(180)\"><text font-family=\"serif\" font-size=\"17\" text-anchor=\"middle\" x=\"-10.5\" y=\"-22\">&#25104;</text><text font-family=\"serif\" font-size=\"17\" text-anchor=\"middle\" x=\"-10.5\" y=\"-6\">&#37504;</text></g><g id=\"white-horse\" transform=\"rotate(180)\"><text font-family=\"serif\" font-size=\"17\" text-anchor=\"middle\" x=\"-10.5\" y=\"-3.5\">&#39340;</text></g><g id=\"white-dragon\" transform=\"rotate(180)\"><text font-family=\"serif\" font-size=\"17\" text-anchor=\"middle\" x=\"-10.5\" y=\"-3.5\">&#40845;</text></g></defs><g stroke=\"black\"><rect x=\"20\" y=\"10\" width=\"181\" height=\"181\" fill=\"none\" stroke-width=\"1.5\" /><line x1=\"20.5\" y1=\"30.5\" x2=\"200.5\" y2=\"30.5\" stroke-width=\"1.0\" /><line x1=\"20.5\" y1=\"50.5\" x2=\"200.5\" y2=\"50.5\" stroke-width=\"1.0\" /><line x1=\"20.5\" y1=\"70.5\" x2=\"200.5\" y2=\"70.5\" stroke-width=\"1.0\" /><line x1=\"20.5\" y1=\"90.5\" x2=\"200.5\" y2=\"90.5\" stroke-width=\"1.0\" /><line x1=\"20.5\" y1=\"110.5\" x2=\"200.5\" y2=\"110.5\" stroke-width=\"1.0\" /><line x1=\"20.5\" y1=\"130.5\" x2=\"200.5\" y2=\"130.5\" stroke-width=\"1.0\" /><line x1=\"20.5\" y1=\"150.5\" x2=\"200.5\" y2=\"150.5\" stroke-width=\"1.0\" /><line x1=\"20.5\" y1=\"170.5\" x2=\"200.5\" y2=\"170.5\" stroke-width=\"1.0\" /><line x1=\"40.5\" y1=\"10.5\" x2=\"40.5\" y2=\"190.5\" stroke-width=\"1.0\" /><line x1=\"60.5\" y1=\"10.5\" x2=\"60.5\" y2=\"190.5\" stroke-width=\"1.0\" /><line x1=\"80.5\" y1=\"10.5\" x2=\"80.5\" y2=\"190.5\" stroke-width=\"1.0\" /><line x1=\"100.5\" y1=\"10.5\" x2=\"100.5\" y2=\"190.5\" stroke-width=\"1.0\" /><line x1=\"120.5\" y1=\"10.5\" x2=\"120.5\" y2=\"190.5\" stroke-width=\"1.0\" /><line x1=\"140.5\" y1=\"10.5\" x2=\"140.5\" y2=\"190.5\" stroke-width=\"1.0\" /><line x1=\"160.5\" y1=\"10.5\" x2=\"160.5\" y2=\"190.5\" stroke-width=\"1.0\" /><line x1=\"180.5\" y1=\"10.5\" x2=\"180.5\" y2=\"190.5\" stroke-width=\"1.0\" /></g><g><text font-family=\"serif\" text-anchor=\"middle\" font-size=\"9\" x=\"30.5\" y=\"8\">9</text><text font-family=\"serif\" text-anchor=\"middle\" font-size=\"9\" x=\"50.5\" y=\"8\">8</text><text font-family=\"serif\" text-anchor=\"middle\" font-size=\"9\" x=\"70.5\" y=\"8\">7</text><text font-family=\"serif\" text-anchor=\"middle\" font-size=\"9\" x=\"90.5\" y=\"8\">6</text><text font-family=\"serif\" text-anchor=\"middle\" font-size=\"9\" x=\"110.5\" y=\"8\">5</text><text font-family=\"serif\" text-anchor=\"middle\" font-size=\"9\" x=\"130.5\" y=\"8\">4</text><text font-family=\"serif\" text-anchor=\"middle\" font-size=\"9\" x=\"150.5\" y=\"8\">3</text><text font-family=\"serif\" text-anchor=\"middle\" font-size=\"9\" x=\"170.5\" y=\"8\">2</text><text font-family=\"serif\" text-anchor=\"middle\" font-size=\"9\" x=\"190.5\" y=\"8\">1</text><text font-family=\"serif\" font-size=\"9\" x=\"203.5\" y=\"23\">&#19968;</text><text font-family=\"serif\" font-size=\"9\" x=\"203.5\" y=\"43\">&#20108;</text><text font-family=\"serif\" font-size=\"9\" x=\"203.5\" y=\"63\">&#19977;</text><text font-family=\"serif\" font-size=\"9\" x=\"203.5\" y=\"83\">&#22235;</text><text font-family=\"serif\" font-size=\"9\" x=\"203.5\" y=\"103\">&#20116;</text><text font-family=\"serif\" font-size=\"9\" x=\"203.5\" y=\"123\">&#20845;</text><text font-family=\"serif\" font-size=\"9\" x=\"203.5\" y=\"143\">&#19971;</text><text font-family=\"serif\" font-size=\"9\" x=\"203.5\" y=\"163\">&#20843;</text><text font-family=\"serif\" font-size=\"9\" x=\"203.5\" y=\"183\">&#20061;</text></g><use xlink:href=\"#white-lance\" x=\"180.5\" y=\"10.5\" /><use xlink:href=\"#white-pawn\" x=\"180.5\" y=\"50.5\" /><use xlink:href=\"#black-pawn\" x=\"180.5\" y=\"130.5\" /><use xlink:href=\"#black-lance\" x=\"180.5\" y=\"170.5\" /><use xlink:href=\"#white-knight\" x=\"160.5\" y=\"10.5\" /><use xlink:href=\"#white-bishop\" x=\"160.5\" y=\"30.5\" /><use xlink:href=\"#white-pawn\" x=\"160.5\" y=\"50.5\" /><use xlink:href=\"#black-pawn\" x=\"160.5\" y=\"130.5\" /><use xlink:href=\"#black-knight\" x=\"160.5\" y=\"170.5\" /><use xlink:href=\"#white-rook\" x=\"140.5\" y=\"30.5\" /><use xlink:href=\"#white-pawn\" x=\"140.5\" y=\"70.5\" /><use xlink:href=\"#black-pawn\" x=\"140.5\" y=\"130.5\" /><use xlink:href=\"#black-silver\" x=\"140.5\" y=\"170.5\" /><use xlink:href=\"#white-gold\" x=\"120.5\" y=\"10.5\" /><use xlink:href=\"#white-silver\" x=\"120.5\" y=\"30.5\" /><use xlink:href=\"#white-pawn\" x=\"120.5\" y=\"50.5\" /><use xlink:href=\"#black-pawn\" x=\"120.5\" y=\"130.5\" /><use xlink:href=\"#black-gold\" x=\"120.5\" y=\"170.5\" /><use xlink:href=\"#white-pawn\" x=\"100.5\" y=\"50.5\" /><use xlink:href=\"#black-pawn\" x=\"100.5\" y=\"130.5\" /><use xlink:href=\"#black-king\" x=\"100.5\" y=\"170.5\" /><use xlink:href=\"#white-pawn\" x=\"80.5\" y=\"50.5\" /><use xlink:href=\"#black-pawn\" x=\"80.5\" y=\"110.5\" /><use xlink:href=\"#black-silver\" x=\"80.5\" y=\"130.5\" /><use xlink:href=\"#black-gold\" x=\"80.5\" y=\"170.5\" /><use xlink:href=\"#white-silver\" x=\"60.5\" y=\"10.5\" /><use xlink:href=\"#white-gold\" x=\"60.5\" y=\"30.5\" /><use xlink:href=\"#white-pawn\" x=\"60.5\" y=\"50.5\" /><use xlink:href=\"#black-pawn\" x=\"60.5\" y=\"110.5\" /><use xlink:href=\"#black-bishop\" x=\"60.5\" y=\"130.5\" /><use xlink:href=\"#white-knight\" x=\"40.5\" y=\"10.5\" /><use xlink:href=\"#white-king\" x=\"40.5\" y=\"30.5\" /><use xlink:href=\"#black-rook\" x=\"40.5\" y=\"70.5\" /><use xlink:href=\"#black-knight\" x=\"40.5\" y=\"170.5\" /><use xlink:href=\"#white-lance\" x=\"20.5\" y=\"30.5\" /><use xlink:href=\"#white-pawn\" x=\"20.5\" y=\"50.5\" /><use xlink:href=\"#black-pawn\" x=\"20.5\" y=\"130.5\" /><use xlink:href=\"#black-lance\" x=\"20.5\" y=\"170.5\" /><text font-family=\"serif\" font-size=\"14\" x=\"214\" y=\"190\">&#27497;</text><text font-family=\"serif\" font-size=\"14\" x=\"214\" y=\"162\">&#25163;</text><text font-family=\"serif\" font-size=\"14\" x=\"214\" y=\"148\">&#20808;</text><text font-family=\"serif\" font-size=\"14\" x=\"214\" y=\"134\">&#9751;</text><text font-family=\"serif\" font-size=\"14\" x=\"-16\" y=\"-10\" transform=\"rotate(180)\">&#27497;</text><text font-family=\"serif\" font-size=\"14\" x=\"-16\" y=\"-38\" transform=\"rotate(180)\">&#25163;</text><text font-family=\"serif\" font-size=\"14\" x=\"-16\" y=\"-52\" transform=\"rotate(180)\">&#24460;</text><text font-family=\"serif\" font-size=\"14\" x=\"-16\" y=\"-66\" transform=\"rotate(180)\">&#9750;</text></svg>'"
      ]
     },
     "execution_count": 18,
     "metadata": {},
     "output_type": "execute_result"
    }
   ],
   "source": [
    "node_df.iloc[0][\"board\"].to_svg().__str__()"
   ]
  },
  {
   "cell_type": "code",
   "execution_count": 21,
   "metadata": {},
   "outputs": [],
   "source": [
    "svg = node_df.iloc[0][\"board\"].to_svg()"
   ]
  },
  {
   "cell_type": "code",
   "execution_count": 28,
   "metadata": {},
   "outputs": [
    {
     "data": {
      "image/svg+xml": [
       "<svg xmlns=\"http://www.w3.org/2000/svg\" version=\"1.1\" xmlns:xlink=\"http://www.w3.org/1999/xlink\" width=\"230.0\" height=\"192.0\" viewBox=\"0 0 230 192\"><defs><g id=\"black-pawn\"><text font-family=\"serif\" font-size=\"17\" text-anchor=\"middle\" x=\"10.5\" y=\"16.5\">&#27497;</text></g><g id=\"black-lance\"><text font-family=\"serif\" font-size=\"17\" text-anchor=\"middle\" x=\"10.5\" y=\"16.5\">&#39321;</text></g><g id=\"black-knight\"><text font-family=\"serif\" font-size=\"17\" text-anchor=\"middle\" x=\"10.5\" y=\"16.5\">&#26690;</text></g><g id=\"black-silver\"><text font-family=\"serif\" font-size=\"17\" text-anchor=\"middle\" x=\"10.5\" y=\"16.5\">&#37504;</text></g><g id=\"black-gold\"><text font-family=\"serif\" font-size=\"17\" text-anchor=\"middle\" x=\"10.5\" y=\"16.5\">&#37329;</text></g><g id=\"black-bishop\"><text font-family=\"serif\" font-size=\"17\" text-anchor=\"middle\" x=\"10.5\" y=\"16.5\">&#35282;</text></g><g id=\"black-rook\"><text font-family=\"serif\" font-size=\"17\" text-anchor=\"middle\" x=\"10.5\" y=\"16.5\">&#39131;</text></g><g id=\"black-king\"><text font-family=\"serif\" font-size=\"17\" text-anchor=\"middle\" x=\"10.5\" y=\"16.5\">&#29579;</text></g><g id=\"black-pro-pawn\"><text font-family=\"serif\" font-size=\"17\" text-anchor=\"middle\" x=\"10.5\" y=\"16.5\">&#12392;</text></g><g id=\"black-pro-lance\" transform=\"scale(1.0, 0.5)\"><text font-family=\"serif\" font-size=\"17\" text-anchor=\"middle\" x=\"10.5\" y=\"18\">&#25104;</text><text font-family=\"serif\" font-size=\"17\" text-anchor=\"middle\" x=\"10.5\" y=\"34\">&#39321;</text></g><g id=\"black-pro-knight\" transform=\"scale(1.0, 0.5)\"><text font-family=\"serif\" font-size=\"17\" text-anchor=\"middle\" x=\"10.5\" y=\"18\">&#25104;</text><text font-family=\"serif\" font-size=\"17\" text-anchor=\"middle\" x=\"10.5\" y=\"34\">&#26690;</text></g><g id=\"black-pro-silver\" transform=\"scale(1.0, 0.5)\"><text font-family=\"serif\" font-size=\"17\" text-anchor=\"middle\" x=\"10.5\" y=\"18\">&#25104;</text><text font-family=\"serif\" font-size=\"17\" text-anchor=\"middle\" x=\"10.5\" y=\"34\">&#37504;</text></g><g id=\"black-horse\"><text font-family=\"serif\" font-size=\"17\" text-anchor=\"middle\" x=\"10.5\" y=\"16.5\">&#39340;</text></g><g id=\"black-dragon\"><text font-family=\"serif\" font-size=\"17\" text-anchor=\"middle\" x=\"10.5\" y=\"16.5\">&#40845;</text></g><g id=\"white-pawn\" transform=\"rotate(180)\"><text font-family=\"serif\" font-size=\"17\" text-anchor=\"middle\" x=\"-10.5\" y=\"-3.5\">&#27497;</text></g><g id=\"white-lance\" transform=\"rotate(180)\"><text font-family=\"serif\" font-size=\"17\" text-anchor=\"middle\" x=\"-10.5\" y=\"-3.5\">&#39321;</text></g><g id=\"white-knight\" transform=\"rotate(180)\"><text font-family=\"serif\" font-size=\"17\" text-anchor=\"middle\" x=\"-10.5\" y=\"-3.5\">&#26690;</text></g><g id=\"white-silver\" transform=\"rotate(180)\"><text font-family=\"serif\" font-size=\"17\" text-anchor=\"middle\" x=\"-10.5\" y=\"-3.5\">&#37504;</text></g><g id=\"white-gold\" transform=\"rotate(180)\"><text font-family=\"serif\" font-size=\"17\" text-anchor=\"middle\" x=\"-10.5\" y=\"-3.5\">&#37329;</text></g><g id=\"white-bishop\" transform=\"rotate(180)\"><text font-family=\"serif\" font-size=\"17\" text-anchor=\"middle\" x=\"-10.5\" y=\"-3.5\">&#35282;</text></g><g id=\"white-rook\" transform=\"rotate(180)\"><text font-family=\"serif\" font-size=\"17\" text-anchor=\"middle\" x=\"-10.5\" y=\"-3.5\">&#39131;</text></g><g id=\"white-king\" transform=\"rotate(180)\"><text font-family=\"serif\" font-size=\"17\" text-anchor=\"middle\" x=\"-10.5\" y=\"-3.5\">&#29579;</text></g><g id=\"white-pro-pawn\" transform=\"rotate(180)\"><text font-family=\"serif\" font-size=\"17\" text-anchor=\"middle\" x=\"-10.5\" y=\"-3.5\">&#12392;</text></g><g id=\"white-pro-lance\" transform=\"scale(1.0, 0.5) rotate(180)\"><text font-family=\"serif\" font-size=\"17\" text-anchor=\"middle\" x=\"-10.5\" y=\"-22\">&#25104;</text><text font-family=\"serif\" font-size=\"17\" text-anchor=\"middle\" x=\"-10.5\" y=\"-6\">&#39321;</text></g><g id=\"white-pro-knight\" transform=\"scale(1.0, 0.5) rotate(180)\"><text font-family=\"serif\" font-size=\"17\" text-anchor=\"middle\" x=\"-10.5\" y=\"-22\">&#25104;</text><text font-family=\"serif\" font-size=\"17\" text-anchor=\"middle\" x=\"-10.5\" y=\"-6\">&#26690;</text></g><g id=\"white-pro-silver\" transform=\"scale(1.0, 0.5) rotate(180)\"><text font-family=\"serif\" font-size=\"17\" text-anchor=\"middle\" x=\"-10.5\" y=\"-22\">&#25104;</text><text font-family=\"serif\" font-size=\"17\" text-anchor=\"middle\" x=\"-10.5\" y=\"-6\">&#37504;</text></g><g id=\"white-horse\" transform=\"rotate(180)\"><text font-family=\"serif\" font-size=\"17\" text-anchor=\"middle\" x=\"-10.5\" y=\"-3.5\">&#39340;</text></g><g id=\"white-dragon\" transform=\"rotate(180)\"><text font-family=\"serif\" font-size=\"17\" text-anchor=\"middle\" x=\"-10.5\" y=\"-3.5\">&#40845;</text></g></defs><g stroke=\"black\"><rect x=\"20\" y=\"10\" width=\"181\" height=\"181\" fill=\"none\" stroke-width=\"1.5\" /><line x1=\"20.5\" y1=\"30.5\" x2=\"200.5\" y2=\"30.5\" stroke-width=\"1.0\" /><line x1=\"20.5\" y1=\"50.5\" x2=\"200.5\" y2=\"50.5\" stroke-width=\"1.0\" /><line x1=\"20.5\" y1=\"70.5\" x2=\"200.5\" y2=\"70.5\" stroke-width=\"1.0\" /><line x1=\"20.5\" y1=\"90.5\" x2=\"200.5\" y2=\"90.5\" stroke-width=\"1.0\" /><line x1=\"20.5\" y1=\"110.5\" x2=\"200.5\" y2=\"110.5\" stroke-width=\"1.0\" /><line x1=\"20.5\" y1=\"130.5\" x2=\"200.5\" y2=\"130.5\" stroke-width=\"1.0\" /><line x1=\"20.5\" y1=\"150.5\" x2=\"200.5\" y2=\"150.5\" stroke-width=\"1.0\" /><line x1=\"20.5\" y1=\"170.5\" x2=\"200.5\" y2=\"170.5\" stroke-width=\"1.0\" /><line x1=\"40.5\" y1=\"10.5\" x2=\"40.5\" y2=\"190.5\" stroke-width=\"1.0\" /><line x1=\"60.5\" y1=\"10.5\" x2=\"60.5\" y2=\"190.5\" stroke-width=\"1.0\" /><line x1=\"80.5\" y1=\"10.5\" x2=\"80.5\" y2=\"190.5\" stroke-width=\"1.0\" /><line x1=\"100.5\" y1=\"10.5\" x2=\"100.5\" y2=\"190.5\" stroke-width=\"1.0\" /><line x1=\"120.5\" y1=\"10.5\" x2=\"120.5\" y2=\"190.5\" stroke-width=\"1.0\" /><line x1=\"140.5\" y1=\"10.5\" x2=\"140.5\" y2=\"190.5\" stroke-width=\"1.0\" /><line x1=\"160.5\" y1=\"10.5\" x2=\"160.5\" y2=\"190.5\" stroke-width=\"1.0\" /><line x1=\"180.5\" y1=\"10.5\" x2=\"180.5\" y2=\"190.5\" stroke-width=\"1.0\" /></g><g><text font-family=\"serif\" text-anchor=\"middle\" font-size=\"9\" x=\"30.5\" y=\"8\">9</text><text font-family=\"serif\" text-anchor=\"middle\" font-size=\"9\" x=\"50.5\" y=\"8\">8</text><text font-family=\"serif\" text-anchor=\"middle\" font-size=\"9\" x=\"70.5\" y=\"8\">7</text><text font-family=\"serif\" text-anchor=\"middle\" font-size=\"9\" x=\"90.5\" y=\"8\">6</text><text font-family=\"serif\" text-anchor=\"middle\" font-size=\"9\" x=\"110.5\" y=\"8\">5</text><text font-family=\"serif\" text-anchor=\"middle\" font-size=\"9\" x=\"130.5\" y=\"8\">4</text><text font-family=\"serif\" text-anchor=\"middle\" font-size=\"9\" x=\"150.5\" y=\"8\">3</text><text font-family=\"serif\" text-anchor=\"middle\" font-size=\"9\" x=\"170.5\" y=\"8\">2</text><text font-family=\"serif\" text-anchor=\"middle\" font-size=\"9\" x=\"190.5\" y=\"8\">1</text><text font-family=\"serif\" font-size=\"9\" x=\"203.5\" y=\"23\">&#19968;</text><text font-family=\"serif\" font-size=\"9\" x=\"203.5\" y=\"43\">&#20108;</text><text font-family=\"serif\" font-size=\"9\" x=\"203.5\" y=\"63\">&#19977;</text><text font-family=\"serif\" font-size=\"9\" x=\"203.5\" y=\"83\">&#22235;</text><text font-family=\"serif\" font-size=\"9\" x=\"203.5\" y=\"103\">&#20116;</text><text font-family=\"serif\" font-size=\"9\" x=\"203.5\" y=\"123\">&#20845;</text><text font-family=\"serif\" font-size=\"9\" x=\"203.5\" y=\"143\">&#19971;</text><text font-family=\"serif\" font-size=\"9\" x=\"203.5\" y=\"163\">&#20843;</text><text font-family=\"serif\" font-size=\"9\" x=\"203.5\" y=\"183\">&#20061;</text></g><use xlink:href=\"#white-lance\" x=\"180.5\" y=\"10.5\" /><use xlink:href=\"#white-pawn\" x=\"180.5\" y=\"50.5\" /><use xlink:href=\"#black-pawn\" x=\"180.5\" y=\"130.5\" /><use xlink:href=\"#black-lance\" x=\"180.5\" y=\"170.5\" /><use xlink:href=\"#white-knight\" x=\"160.5\" y=\"10.5\" /><use xlink:href=\"#white-bishop\" x=\"160.5\" y=\"30.5\" /><use xlink:href=\"#white-pawn\" x=\"160.5\" y=\"50.5\" /><use xlink:href=\"#black-pawn\" x=\"160.5\" y=\"130.5\" /><use xlink:href=\"#black-knight\" x=\"160.5\" y=\"170.5\" /><use xlink:href=\"#white-rook\" x=\"140.5\" y=\"30.5\" /><use xlink:href=\"#white-pawn\" x=\"140.5\" y=\"70.5\" /><use xlink:href=\"#black-pawn\" x=\"140.5\" y=\"130.5\" /><use xlink:href=\"#black-silver\" x=\"140.5\" y=\"170.5\" /><use xlink:href=\"#white-gold\" x=\"120.5\" y=\"10.5\" /><use xlink:href=\"#white-silver\" x=\"120.5\" y=\"30.5\" /><use xlink:href=\"#white-pawn\" x=\"120.5\" y=\"50.5\" /><use xlink:href=\"#black-pawn\" x=\"120.5\" y=\"130.5\" /><use xlink:href=\"#black-gold\" x=\"120.5\" y=\"170.5\" /><use xlink:href=\"#white-pawn\" x=\"100.5\" y=\"50.5\" /><use xlink:href=\"#black-pawn\" x=\"100.5\" y=\"130.5\" /><use xlink:href=\"#black-king\" x=\"100.5\" y=\"170.5\" /><use xlink:href=\"#white-pawn\" x=\"80.5\" y=\"50.5\" /><use xlink:href=\"#black-pawn\" x=\"80.5\" y=\"110.5\" /><use xlink:href=\"#black-silver\" x=\"80.5\" y=\"130.5\" /><use xlink:href=\"#black-gold\" x=\"80.5\" y=\"170.5\" /><use xlink:href=\"#white-silver\" x=\"60.5\" y=\"10.5\" /><use xlink:href=\"#white-gold\" x=\"60.5\" y=\"30.5\" /><use xlink:href=\"#white-pawn\" x=\"60.5\" y=\"50.5\" /><use xlink:href=\"#black-pawn\" x=\"60.5\" y=\"110.5\" /><use xlink:href=\"#black-bishop\" x=\"60.5\" y=\"130.5\" /><use xlink:href=\"#white-knight\" x=\"40.5\" y=\"10.5\" /><use xlink:href=\"#white-king\" x=\"40.5\" y=\"30.5\" /><use xlink:href=\"#black-rook\" x=\"40.5\" y=\"70.5\" /><use xlink:href=\"#black-knight\" x=\"40.5\" y=\"170.5\" /><use xlink:href=\"#white-lance\" x=\"20.5\" y=\"30.5\" /><use xlink:href=\"#white-pawn\" x=\"20.5\" y=\"50.5\" /><use xlink:href=\"#black-pawn\" x=\"20.5\" y=\"130.5\" /><use xlink:href=\"#black-lance\" x=\"20.5\" y=\"170.5\" /><text font-family=\"serif\" font-size=\"14\" x=\"214\" y=\"190\">&#27497;</text><text font-family=\"serif\" font-size=\"14\" x=\"214\" y=\"162\">&#25163;</text><text font-family=\"serif\" font-size=\"14\" x=\"214\" y=\"148\">&#20808;</text><text font-family=\"serif\" font-size=\"14\" x=\"214\" y=\"134\">&#9751;</text><text font-family=\"serif\" font-size=\"14\" x=\"-16\" y=\"-10\" transform=\"rotate(180)\">&#27497;</text><text font-family=\"serif\" font-size=\"14\" x=\"-16\" y=\"-38\" transform=\"rotate(180)\">&#25163;</text><text font-family=\"serif\" font-size=\"14\" x=\"-16\" y=\"-52\" transform=\"rotate(180)\">&#24460;</text><text font-family=\"serif\" font-size=\"14\" x=\"-16\" y=\"-66\" transform=\"rotate(180)\">&#9750;</text></svg>"
      ],
      "text/plain": [
       "'<svg xmlns=\"http://www.w3.org/2000/svg\" version=\"1.1\" xmlns:xlink=\"http://www.w3.org/1999/xlink\" width=\"230.0\" height=\"192.0\" viewBox=\"0 0 230 192\"><defs><g id=\"black-pawn\"><text font-family=\"serif\" font-size=\"17\" text-anchor=\"middle\" x=\"10.5\" y=\"16.5\">&#27497;</text></g><g id=\"black-lance\"><text font-family=\"serif\" font-size=\"17\" text-anchor=\"middle\" x=\"10.5\" y=\"16.5\">&#39321;</text></g><g id=\"black-knight\"><text font-family=\"serif\" font-size=\"17\" text-anchor=\"middle\" x=\"10.5\" y=\"16.5\">&#26690;</text></g><g id=\"black-silver\"><text font-family=\"serif\" font-size=\"17\" text-anchor=\"middle\" x=\"10.5\" y=\"16.5\">&#37504;</text></g><g id=\"black-gold\"><text font-family=\"serif\" font-size=\"17\" text-anchor=\"middle\" x=\"10.5\" y=\"16.5\">&#37329;</text></g><g id=\"black-bishop\"><text font-family=\"serif\" font-size=\"17\" text-anchor=\"middle\" x=\"10.5\" y=\"16.5\">&#35282;</text></g><g id=\"black-rook\"><text font-family=\"serif\" font-size=\"17\" text-anchor=\"middle\" x=\"10.5\" y=\"16.5\">&#39131;</text></g><g id=\"black-king\"><text font-family=\"serif\" font-size=\"17\" text-anchor=\"middle\" x=\"10.5\" y=\"16.5\">&#29579;</text></g><g id=\"black-pro-pawn\"><text font-family=\"serif\" font-size=\"17\" text-anchor=\"middle\" x=\"10.5\" y=\"16.5\">&#12392;</text></g><g id=\"black-pro-lance\" transform=\"scale(1.0, 0.5)\"><text font-family=\"serif\" font-size=\"17\" text-anchor=\"middle\" x=\"10.5\" y=\"18\">&#25104;</text><text font-family=\"serif\" font-size=\"17\" text-anchor=\"middle\" x=\"10.5\" y=\"34\">&#39321;</text></g><g id=\"black-pro-knight\" transform=\"scale(1.0, 0.5)\"><text font-family=\"serif\" font-size=\"17\" text-anchor=\"middle\" x=\"10.5\" y=\"18\">&#25104;</text><text font-family=\"serif\" font-size=\"17\" text-anchor=\"middle\" x=\"10.5\" y=\"34\">&#26690;</text></g><g id=\"black-pro-silver\" transform=\"scale(1.0, 0.5)\"><text font-family=\"serif\" font-size=\"17\" text-anchor=\"middle\" x=\"10.5\" y=\"18\">&#25104;</text><text font-family=\"serif\" font-size=\"17\" text-anchor=\"middle\" x=\"10.5\" y=\"34\">&#37504;</text></g><g id=\"black-horse\"><text font-family=\"serif\" font-size=\"17\" text-anchor=\"middle\" x=\"10.5\" y=\"16.5\">&#39340;</text></g><g id=\"black-dragon\"><text font-family=\"serif\" font-size=\"17\" text-anchor=\"middle\" x=\"10.5\" y=\"16.5\">&#40845;</text></g><g id=\"white-pawn\" transform=\"rotate(180)\"><text font-family=\"serif\" font-size=\"17\" text-anchor=\"middle\" x=\"-10.5\" y=\"-3.5\">&#27497;</text></g><g id=\"white-lance\" transform=\"rotate(180)\"><text font-family=\"serif\" font-size=\"17\" text-anchor=\"middle\" x=\"-10.5\" y=\"-3.5\">&#39321;</text></g><g id=\"white-knight\" transform=\"rotate(180)\"><text font-family=\"serif\" font-size=\"17\" text-anchor=\"middle\" x=\"-10.5\" y=\"-3.5\">&#26690;</text></g><g id=\"white-silver\" transform=\"rotate(180)\"><text font-family=\"serif\" font-size=\"17\" text-anchor=\"middle\" x=\"-10.5\" y=\"-3.5\">&#37504;</text></g><g id=\"white-gold\" transform=\"rotate(180)\"><text font-family=\"serif\" font-size=\"17\" text-anchor=\"middle\" x=\"-10.5\" y=\"-3.5\">&#37329;</text></g><g id=\"white-bishop\" transform=\"rotate(180)\"><text font-family=\"serif\" font-size=\"17\" text-anchor=\"middle\" x=\"-10.5\" y=\"-3.5\">&#35282;</text></g><g id=\"white-rook\" transform=\"rotate(180)\"><text font-family=\"serif\" font-size=\"17\" text-anchor=\"middle\" x=\"-10.5\" y=\"-3.5\">&#39131;</text></g><g id=\"white-king\" transform=\"rotate(180)\"><text font-family=\"serif\" font-size=\"17\" text-anchor=\"middle\" x=\"-10.5\" y=\"-3.5\">&#29579;</text></g><g id=\"white-pro-pawn\" transform=\"rotate(180)\"><text font-family=\"serif\" font-size=\"17\" text-anchor=\"middle\" x=\"-10.5\" y=\"-3.5\">&#12392;</text></g><g id=\"white-pro-lance\" transform=\"scale(1.0, 0.5) rotate(180)\"><text font-family=\"serif\" font-size=\"17\" text-anchor=\"middle\" x=\"-10.5\" y=\"-22\">&#25104;</text><text font-family=\"serif\" font-size=\"17\" text-anchor=\"middle\" x=\"-10.5\" y=\"-6\">&#39321;</text></g><g id=\"white-pro-knight\" transform=\"scale(1.0, 0.5) rotate(180)\"><text font-family=\"serif\" font-size=\"17\" text-anchor=\"middle\" x=\"-10.5\" y=\"-22\">&#25104;</text><text font-family=\"serif\" font-size=\"17\" text-anchor=\"middle\" x=\"-10.5\" y=\"-6\">&#26690;</text></g><g id=\"white-pro-silver\" transform=\"scale(1.0, 0.5) rotate(180)\"><text font-family=\"serif\" font-size=\"17\" text-anchor=\"middle\" x=\"-10.5\" y=\"-22\">&#25104;</text><text font-family=\"serif\" font-size=\"17\" text-anchor=\"middle\" x=\"-10.5\" y=\"-6\">&#37504;</text></g><g id=\"white-horse\" transform=\"rotate(180)\"><text font-family=\"serif\" font-size=\"17\" text-anchor=\"middle\" x=\"-10.5\" y=\"-3.5\">&#39340;</text></g><g id=\"white-dragon\" transform=\"rotate(180)\"><text font-family=\"serif\" font-size=\"17\" text-anchor=\"middle\" x=\"-10.5\" y=\"-3.5\">&#40845;</text></g></defs><g stroke=\"black\"><rect x=\"20\" y=\"10\" width=\"181\" height=\"181\" fill=\"none\" stroke-width=\"1.5\" /><line x1=\"20.5\" y1=\"30.5\" x2=\"200.5\" y2=\"30.5\" stroke-width=\"1.0\" /><line x1=\"20.5\" y1=\"50.5\" x2=\"200.5\" y2=\"50.5\" stroke-width=\"1.0\" /><line x1=\"20.5\" y1=\"70.5\" x2=\"200.5\" y2=\"70.5\" stroke-width=\"1.0\" /><line x1=\"20.5\" y1=\"90.5\" x2=\"200.5\" y2=\"90.5\" stroke-width=\"1.0\" /><line x1=\"20.5\" y1=\"110.5\" x2=\"200.5\" y2=\"110.5\" stroke-width=\"1.0\" /><line x1=\"20.5\" y1=\"130.5\" x2=\"200.5\" y2=\"130.5\" stroke-width=\"1.0\" /><line x1=\"20.5\" y1=\"150.5\" x2=\"200.5\" y2=\"150.5\" stroke-width=\"1.0\" /><line x1=\"20.5\" y1=\"170.5\" x2=\"200.5\" y2=\"170.5\" stroke-width=\"1.0\" /><line x1=\"40.5\" y1=\"10.5\" x2=\"40.5\" y2=\"190.5\" stroke-width=\"1.0\" /><line x1=\"60.5\" y1=\"10.5\" x2=\"60.5\" y2=\"190.5\" stroke-width=\"1.0\" /><line x1=\"80.5\" y1=\"10.5\" x2=\"80.5\" y2=\"190.5\" stroke-width=\"1.0\" /><line x1=\"100.5\" y1=\"10.5\" x2=\"100.5\" y2=\"190.5\" stroke-width=\"1.0\" /><line x1=\"120.5\" y1=\"10.5\" x2=\"120.5\" y2=\"190.5\" stroke-width=\"1.0\" /><line x1=\"140.5\" y1=\"10.5\" x2=\"140.5\" y2=\"190.5\" stroke-width=\"1.0\" /><line x1=\"160.5\" y1=\"10.5\" x2=\"160.5\" y2=\"190.5\" stroke-width=\"1.0\" /><line x1=\"180.5\" y1=\"10.5\" x2=\"180.5\" y2=\"190.5\" stroke-width=\"1.0\" /></g><g><text font-family=\"serif\" text-anchor=\"middle\" font-size=\"9\" x=\"30.5\" y=\"8\">9</text><text font-family=\"serif\" text-anchor=\"middle\" font-size=\"9\" x=\"50.5\" y=\"8\">8</text><text font-family=\"serif\" text-anchor=\"middle\" font-size=\"9\" x=\"70.5\" y=\"8\">7</text><text font-family=\"serif\" text-anchor=\"middle\" font-size=\"9\" x=\"90.5\" y=\"8\">6</text><text font-family=\"serif\" text-anchor=\"middle\" font-size=\"9\" x=\"110.5\" y=\"8\">5</text><text font-family=\"serif\" text-anchor=\"middle\" font-size=\"9\" x=\"130.5\" y=\"8\">4</text><text font-family=\"serif\" text-anchor=\"middle\" font-size=\"9\" x=\"150.5\" y=\"8\">3</text><text font-family=\"serif\" text-anchor=\"middle\" font-size=\"9\" x=\"170.5\" y=\"8\">2</text><text font-family=\"serif\" text-anchor=\"middle\" font-size=\"9\" x=\"190.5\" y=\"8\">1</text><text font-family=\"serif\" font-size=\"9\" x=\"203.5\" y=\"23\">&#19968;</text><text font-family=\"serif\" font-size=\"9\" x=\"203.5\" y=\"43\">&#20108;</text><text font-family=\"serif\" font-size=\"9\" x=\"203.5\" y=\"63\">&#19977;</text><text font-family=\"serif\" font-size=\"9\" x=\"203.5\" y=\"83\">&#22235;</text><text font-family=\"serif\" font-size=\"9\" x=\"203.5\" y=\"103\">&#20116;</text><text font-family=\"serif\" font-size=\"9\" x=\"203.5\" y=\"123\">&#20845;</text><text font-family=\"serif\" font-size=\"9\" x=\"203.5\" y=\"143\">&#19971;</text><text font-family=\"serif\" font-size=\"9\" x=\"203.5\" y=\"163\">&#20843;</text><text font-family=\"serif\" font-size=\"9\" x=\"203.5\" y=\"183\">&#20061;</text></g><use xlink:href=\"#white-lance\" x=\"180.5\" y=\"10.5\" /><use xlink:href=\"#white-pawn\" x=\"180.5\" y=\"50.5\" /><use xlink:href=\"#black-pawn\" x=\"180.5\" y=\"130.5\" /><use xlink:href=\"#black-lance\" x=\"180.5\" y=\"170.5\" /><use xlink:href=\"#white-knight\" x=\"160.5\" y=\"10.5\" /><use xlink:href=\"#white-bishop\" x=\"160.5\" y=\"30.5\" /><use xlink:href=\"#white-pawn\" x=\"160.5\" y=\"50.5\" /><use xlink:href=\"#black-pawn\" x=\"160.5\" y=\"130.5\" /><use xlink:href=\"#black-knight\" x=\"160.5\" y=\"170.5\" /><use xlink:href=\"#white-rook\" x=\"140.5\" y=\"30.5\" /><use xlink:href=\"#white-pawn\" x=\"140.5\" y=\"70.5\" /><use xlink:href=\"#black-pawn\" x=\"140.5\" y=\"130.5\" /><use xlink:href=\"#black-silver\" x=\"140.5\" y=\"170.5\" /><use xlink:href=\"#white-gold\" x=\"120.5\" y=\"10.5\" /><use xlink:href=\"#white-silver\" x=\"120.5\" y=\"30.5\" /><use xlink:href=\"#white-pawn\" x=\"120.5\" y=\"50.5\" /><use xlink:href=\"#black-pawn\" x=\"120.5\" y=\"130.5\" /><use xlink:href=\"#black-gold\" x=\"120.5\" y=\"170.5\" /><use xlink:href=\"#white-pawn\" x=\"100.5\" y=\"50.5\" /><use xlink:href=\"#black-pawn\" x=\"100.5\" y=\"130.5\" /><use xlink:href=\"#black-king\" x=\"100.5\" y=\"170.5\" /><use xlink:href=\"#white-pawn\" x=\"80.5\" y=\"50.5\" /><use xlink:href=\"#black-pawn\" x=\"80.5\" y=\"110.5\" /><use xlink:href=\"#black-silver\" x=\"80.5\" y=\"130.5\" /><use xlink:href=\"#black-gold\" x=\"80.5\" y=\"170.5\" /><use xlink:href=\"#white-silver\" x=\"60.5\" y=\"10.5\" /><use xlink:href=\"#white-gold\" x=\"60.5\" y=\"30.5\" /><use xlink:href=\"#white-pawn\" x=\"60.5\" y=\"50.5\" /><use xlink:href=\"#black-pawn\" x=\"60.5\" y=\"110.5\" /><use xlink:href=\"#black-bishop\" x=\"60.5\" y=\"130.5\" /><use xlink:href=\"#white-knight\" x=\"40.5\" y=\"10.5\" /><use xlink:href=\"#white-king\" x=\"40.5\" y=\"30.5\" /><use xlink:href=\"#black-rook\" x=\"40.5\" y=\"70.5\" /><use xlink:href=\"#black-knight\" x=\"40.5\" y=\"170.5\" /><use xlink:href=\"#white-lance\" x=\"20.5\" y=\"30.5\" /><use xlink:href=\"#white-pawn\" x=\"20.5\" y=\"50.5\" /><use xlink:href=\"#black-pawn\" x=\"20.5\" y=\"130.5\" /><use xlink:href=\"#black-lance\" x=\"20.5\" y=\"170.5\" /><text font-family=\"serif\" font-size=\"14\" x=\"214\" y=\"190\">&#27497;</text><text font-family=\"serif\" font-size=\"14\" x=\"214\" y=\"162\">&#25163;</text><text font-family=\"serif\" font-size=\"14\" x=\"214\" y=\"148\">&#20808;</text><text font-family=\"serif\" font-size=\"14\" x=\"214\" y=\"134\">&#9751;</text><text font-family=\"serif\" font-size=\"14\" x=\"-16\" y=\"-10\" transform=\"rotate(180)\">&#27497;</text><text font-family=\"serif\" font-size=\"14\" x=\"-16\" y=\"-38\" transform=\"rotate(180)\">&#25163;</text><text font-family=\"serif\" font-size=\"14\" x=\"-16\" y=\"-52\" transform=\"rotate(180)\">&#24460;</text><text font-family=\"serif\" font-size=\"14\" x=\"-16\" y=\"-66\" transform=\"rotate(180)\">&#9750;</text></svg>'"
      ]
     },
     "execution_count": 28,
     "metadata": {},
     "output_type": "execute_result"
    }
   ],
   "source": [
    "svg"
   ]
  },
  {
   "cell_type": "code",
   "execution_count": 27,
   "metadata": {},
   "outputs": [
    {
     "name": "stdout",
     "output_type": "stream",
     "text": [
      "<svg xmlns=\"http://www.w3.org/2000/svg\" version=\"1.1\" xmlns:xlink=\"http://www.w3.org/1999/xlink\" width=\"230.0\" height=\"192.0\" viewBox=\"0 0 230 192\"><defs><g id=\"black-pawn\"><text font-family=\"serif\" font-size=\"17\" text-anchor=\"middle\" x=\"10.5\" y=\"16.5\">&#27497;</text></g><g id=\"black-lance\"><text font-family=\"serif\" font-size=\"17\" text-anchor=\"middle\" x=\"10.5\" y=\"16.5\">&#39321;</text></g><g id=\"black-knight\"><text font-family=\"serif\" font-size=\"17\" text-anchor=\"middle\" x=\"10.5\" y=\"16.5\">&#26690;</text></g><g id=\"black-silver\"><text font-family=\"serif\" font-size=\"17\" text-anchor=\"middle\" x=\"10.5\" y=\"16.5\">&#37504;</text></g><g id=\"black-gold\"><text font-family=\"serif\" font-size=\"17\" text-anchor=\"middle\" x=\"10.5\" y=\"16.5\">&#37329;</text></g><g id=\"black-bishop\"><text font-family=\"serif\" font-size=\"17\" text-anchor=\"middle\" x=\"10.5\" y=\"16.5\">&#35282;</text></g><g id=\"black-rook\"><text font-family=\"serif\" font-size=\"17\" text-anchor=\"middle\" x=\"10.5\" y=\"16.5\">&#39131;</text></g><g id=\"black-king\"><text font-family=\"serif\" font-size=\"17\" text-anchor=\"middle\" x=\"10.5\" y=\"16.5\">&#29579;</text></g><g id=\"black-pro-pawn\"><text font-family=\"serif\" font-size=\"17\" text-anchor=\"middle\" x=\"10.5\" y=\"16.5\">&#12392;</text></g><g id=\"black-pro-lance\" transform=\"scale(1.0, 0.5)\"><text font-family=\"serif\" font-size=\"17\" text-anchor=\"middle\" x=\"10.5\" y=\"18\">&#25104;</text><text font-family=\"serif\" font-size=\"17\" text-anchor=\"middle\" x=\"10.5\" y=\"34\">&#39321;</text></g><g id=\"black-pro-knight\" transform=\"scale(1.0, 0.5)\"><text font-family=\"serif\" font-size=\"17\" text-anchor=\"middle\" x=\"10.5\" y=\"18\">&#25104;</text><text font-family=\"serif\" font-size=\"17\" text-anchor=\"middle\" x=\"10.5\" y=\"34\">&#26690;</text></g><g id=\"black-pro-silver\" transform=\"scale(1.0, 0.5)\"><text font-family=\"serif\" font-size=\"17\" text-anchor=\"middle\" x=\"10.5\" y=\"18\">&#25104;</text><text font-family=\"serif\" font-size=\"17\" text-anchor=\"middle\" x=\"10.5\" y=\"34\">&#37504;</text></g><g id=\"black-horse\"><text font-family=\"serif\" font-size=\"17\" text-anchor=\"middle\" x=\"10.5\" y=\"16.5\">&#39340;</text></g><g id=\"black-dragon\"><text font-family=\"serif\" font-size=\"17\" text-anchor=\"middle\" x=\"10.5\" y=\"16.5\">&#40845;</text></g><g id=\"white-pawn\" transform=\"rotate(180)\"><text font-family=\"serif\" font-size=\"17\" text-anchor=\"middle\" x=\"-10.5\" y=\"-3.5\">&#27497;</text></g><g id=\"white-lance\" transform=\"rotate(180)\"><text font-family=\"serif\" font-size=\"17\" text-anchor=\"middle\" x=\"-10.5\" y=\"-3.5\">&#39321;</text></g><g id=\"white-knight\" transform=\"rotate(180)\"><text font-family=\"serif\" font-size=\"17\" text-anchor=\"middle\" x=\"-10.5\" y=\"-3.5\">&#26690;</text></g><g id=\"white-silver\" transform=\"rotate(180)\"><text font-family=\"serif\" font-size=\"17\" text-anchor=\"middle\" x=\"-10.5\" y=\"-3.5\">&#37504;</text></g><g id=\"white-gold\" transform=\"rotate(180)\"><text font-family=\"serif\" font-size=\"17\" text-anchor=\"middle\" x=\"-10.5\" y=\"-3.5\">&#37329;</text></g><g id=\"white-bishop\" transform=\"rotate(180)\"><text font-family=\"serif\" font-size=\"17\" text-anchor=\"middle\" x=\"-10.5\" y=\"-3.5\">&#35282;</text></g><g id=\"white-rook\" transform=\"rotate(180)\"><text font-family=\"serif\" font-size=\"17\" text-anchor=\"middle\" x=\"-10.5\" y=\"-3.5\">&#39131;</text></g><g id=\"white-king\" transform=\"rotate(180)\"><text font-family=\"serif\" font-size=\"17\" text-anchor=\"middle\" x=\"-10.5\" y=\"-3.5\">&#29579;</text></g><g id=\"white-pro-pawn\" transform=\"rotate(180)\"><text font-family=\"serif\" font-size=\"17\" text-anchor=\"middle\" x=\"-10.5\" y=\"-3.5\">&#12392;</text></g><g id=\"white-pro-lance\" transform=\"scale(1.0, 0.5) rotate(180)\"><text font-family=\"serif\" font-size=\"17\" text-anchor=\"middle\" x=\"-10.5\" y=\"-22\">&#25104;</text><text font-family=\"serif\" font-size=\"17\" text-anchor=\"middle\" x=\"-10.5\" y=\"-6\">&#39321;</text></g><g id=\"white-pro-knight\" transform=\"scale(1.0, 0.5) rotate(180)\"><text font-family=\"serif\" font-size=\"17\" text-anchor=\"middle\" x=\"-10.5\" y=\"-22\">&#25104;</text><text font-family=\"serif\" font-size=\"17\" text-anchor=\"middle\" x=\"-10.5\" y=\"-6\">&#26690;</text></g><g id=\"white-pro-silver\" transform=\"scale(1.0, 0.5) rotate(180)\"><text font-family=\"serif\" font-size=\"17\" text-anchor=\"middle\" x=\"-10.5\" y=\"-22\">&#25104;</text><text font-family=\"serif\" font-size=\"17\" text-anchor=\"middle\" x=\"-10.5\" y=\"-6\">&#37504;</text></g><g id=\"white-horse\" transform=\"rotate(180)\"><text font-family=\"serif\" font-size=\"17\" text-anchor=\"middle\" x=\"-10.5\" y=\"-3.5\">&#39340;</text></g><g id=\"white-dragon\" transform=\"rotate(180)\"><text font-family=\"serif\" font-size=\"17\" text-anchor=\"middle\" x=\"-10.5\" y=\"-3.5\">&#40845;</text></g></defs><g stroke=\"black\"><rect x=\"20\" y=\"10\" width=\"181\" height=\"181\" fill=\"none\" stroke-width=\"1.5\" /><line x1=\"20.5\" y1=\"30.5\" x2=\"200.5\" y2=\"30.5\" stroke-width=\"1.0\" /><line x1=\"20.5\" y1=\"50.5\" x2=\"200.5\" y2=\"50.5\" stroke-width=\"1.0\" /><line x1=\"20.5\" y1=\"70.5\" x2=\"200.5\" y2=\"70.5\" stroke-width=\"1.0\" /><line x1=\"20.5\" y1=\"90.5\" x2=\"200.5\" y2=\"90.5\" stroke-width=\"1.0\" /><line x1=\"20.5\" y1=\"110.5\" x2=\"200.5\" y2=\"110.5\" stroke-width=\"1.0\" /><line x1=\"20.5\" y1=\"130.5\" x2=\"200.5\" y2=\"130.5\" stroke-width=\"1.0\" /><line x1=\"20.5\" y1=\"150.5\" x2=\"200.5\" y2=\"150.5\" stroke-width=\"1.0\" /><line x1=\"20.5\" y1=\"170.5\" x2=\"200.5\" y2=\"170.5\" stroke-width=\"1.0\" /><line x1=\"40.5\" y1=\"10.5\" x2=\"40.5\" y2=\"190.5\" stroke-width=\"1.0\" /><line x1=\"60.5\" y1=\"10.5\" x2=\"60.5\" y2=\"190.5\" stroke-width=\"1.0\" /><line x1=\"80.5\" y1=\"10.5\" x2=\"80.5\" y2=\"190.5\" stroke-width=\"1.0\" /><line x1=\"100.5\" y1=\"10.5\" x2=\"100.5\" y2=\"190.5\" stroke-width=\"1.0\" /><line x1=\"120.5\" y1=\"10.5\" x2=\"120.5\" y2=\"190.5\" stroke-width=\"1.0\" /><line x1=\"140.5\" y1=\"10.5\" x2=\"140.5\" y2=\"190.5\" stroke-width=\"1.0\" /><line x1=\"160.5\" y1=\"10.5\" x2=\"160.5\" y2=\"190.5\" stroke-width=\"1.0\" /><line x1=\"180.5\" y1=\"10.5\" x2=\"180.5\" y2=\"190.5\" stroke-width=\"1.0\" /></g><g><text font-family=\"serif\" text-anchor=\"middle\" font-size=\"9\" x=\"30.5\" y=\"8\">9</text><text font-family=\"serif\" text-anchor=\"middle\" font-size=\"9\" x=\"50.5\" y=\"8\">8</text><text font-family=\"serif\" text-anchor=\"middle\" font-size=\"9\" x=\"70.5\" y=\"8\">7</text><text font-family=\"serif\" text-anchor=\"middle\" font-size=\"9\" x=\"90.5\" y=\"8\">6</text><text font-family=\"serif\" text-anchor=\"middle\" font-size=\"9\" x=\"110.5\" y=\"8\">5</text><text font-family=\"serif\" text-anchor=\"middle\" font-size=\"9\" x=\"130.5\" y=\"8\">4</text><text font-family=\"serif\" text-anchor=\"middle\" font-size=\"9\" x=\"150.5\" y=\"8\">3</text><text font-family=\"serif\" text-anchor=\"middle\" font-size=\"9\" x=\"170.5\" y=\"8\">2</text><text font-family=\"serif\" text-anchor=\"middle\" font-size=\"9\" x=\"190.5\" y=\"8\">1</text><text font-family=\"serif\" font-size=\"9\" x=\"203.5\" y=\"23\">&#19968;</text><text font-family=\"serif\" font-size=\"9\" x=\"203.5\" y=\"43\">&#20108;</text><text font-family=\"serif\" font-size=\"9\" x=\"203.5\" y=\"63\">&#19977;</text><text font-family=\"serif\" font-size=\"9\" x=\"203.5\" y=\"83\">&#22235;</text><text font-family=\"serif\" font-size=\"9\" x=\"203.5\" y=\"103\">&#20116;</text><text font-family=\"serif\" font-size=\"9\" x=\"203.5\" y=\"123\">&#20845;</text><text font-family=\"serif\" font-size=\"9\" x=\"203.5\" y=\"143\">&#19971;</text><text font-family=\"serif\" font-size=\"9\" x=\"203.5\" y=\"163\">&#20843;</text><text font-family=\"serif\" font-size=\"9\" x=\"203.5\" y=\"183\">&#20061;</text></g><use xlink:href=\"#white-lance\" x=\"180.5\" y=\"10.5\" /><use xlink:href=\"#white-pawn\" x=\"180.5\" y=\"50.5\" /><use xlink:href=\"#black-pawn\" x=\"180.5\" y=\"130.5\" /><use xlink:href=\"#black-lance\" x=\"180.5\" y=\"170.5\" /><use xlink:href=\"#white-knight\" x=\"160.5\" y=\"10.5\" /><use xlink:href=\"#white-bishop\" x=\"160.5\" y=\"30.5\" /><use xlink:href=\"#white-pawn\" x=\"160.5\" y=\"50.5\" /><use xlink:href=\"#black-pawn\" x=\"160.5\" y=\"130.5\" /><use xlink:href=\"#black-knight\" x=\"160.5\" y=\"170.5\" /><use xlink:href=\"#white-rook\" x=\"140.5\" y=\"30.5\" /><use xlink:href=\"#white-pawn\" x=\"140.5\" y=\"70.5\" /><use xlink:href=\"#black-pawn\" x=\"140.5\" y=\"130.5\" /><use xlink:href=\"#black-silver\" x=\"140.5\" y=\"170.5\" /><use xlink:href=\"#white-gold\" x=\"120.5\" y=\"10.5\" /><use xlink:href=\"#white-silver\" x=\"120.5\" y=\"30.5\" /><use xlink:href=\"#white-pawn\" x=\"120.5\" y=\"50.5\" /><use xlink:href=\"#black-pawn\" x=\"120.5\" y=\"130.5\" /><use xlink:href=\"#black-gold\" x=\"120.5\" y=\"170.5\" /><use xlink:href=\"#white-pawn\" x=\"100.5\" y=\"50.5\" /><use xlink:href=\"#black-pawn\" x=\"100.5\" y=\"130.5\" /><use xlink:href=\"#black-king\" x=\"100.5\" y=\"170.5\" /><use xlink:href=\"#white-pawn\" x=\"80.5\" y=\"50.5\" /><use xlink:href=\"#black-pawn\" x=\"80.5\" y=\"110.5\" /><use xlink:href=\"#black-silver\" x=\"80.5\" y=\"130.5\" /><use xlink:href=\"#black-gold\" x=\"80.5\" y=\"170.5\" /><use xlink:href=\"#white-silver\" x=\"60.5\" y=\"10.5\" /><use xlink:href=\"#white-gold\" x=\"60.5\" y=\"30.5\" /><use xlink:href=\"#white-pawn\" x=\"60.5\" y=\"50.5\" /><use xlink:href=\"#black-pawn\" x=\"60.5\" y=\"110.5\" /><use xlink:href=\"#black-bishop\" x=\"60.5\" y=\"130.5\" /><use xlink:href=\"#white-knight\" x=\"40.5\" y=\"10.5\" /><use xlink:href=\"#white-king\" x=\"40.5\" y=\"30.5\" /><use xlink:href=\"#black-rook\" x=\"40.5\" y=\"70.5\" /><use xlink:href=\"#black-knight\" x=\"40.5\" y=\"170.5\" /><use xlink:href=\"#white-lance\" x=\"20.5\" y=\"30.5\" /><use xlink:href=\"#white-pawn\" x=\"20.5\" y=\"50.5\" /><use xlink:href=\"#black-pawn\" x=\"20.5\" y=\"130.5\" /><use xlink:href=\"#black-lance\" x=\"20.5\" y=\"170.5\" /><text font-family=\"serif\" font-size=\"14\" x=\"214\" y=\"190\">&#27497;</text><text font-family=\"serif\" font-size=\"14\" x=\"214\" y=\"162\">&#25163;</text><text font-family=\"serif\" font-size=\"14\" x=\"214\" y=\"148\">&#20808;</text><text font-family=\"serif\" font-size=\"14\" x=\"214\" y=\"134\">&#9751;</text><text font-family=\"serif\" font-size=\"14\" x=\"-16\" y=\"-10\" transform=\"rotate(180)\">&#27497;</text><text font-family=\"serif\" font-size=\"14\" x=\"-16\" y=\"-38\" transform=\"rotate(180)\">&#25163;</text><text font-family=\"serif\" font-size=\"14\" x=\"-16\" y=\"-52\" transform=\"rotate(180)\">&#24460;</text><text font-family=\"serif\" font-size=\"14\" x=\"-16\" y=\"-66\" transform=\"rotate(180)\">&#9750;</text></svg>\n"
     ]
    }
   ],
   "source": [
    "print(str(svg))"
   ]
  },
  {
   "cell_type": "code",
   "execution_count": 20,
   "metadata": {},
   "outputs": [
    {
     "data": {
      "text/html": [
       "<div>\n",
       "<style scoped>\n",
       "    .dataframe tbody tr th:only-of-type {\n",
       "        vertical-align: middle;\n",
       "    }\n",
       "\n",
       "    .dataframe tbody tr th {\n",
       "        vertical-align: top;\n",
       "    }\n",
       "\n",
       "    .dataframe thead th {\n",
       "        text-align: right;\n",
       "    }\n",
       "</style>\n",
       "<table border=\"1\" class=\"dataframe\">\n",
       "  <thead>\n",
       "    <tr style=\"text-align: right;\">\n",
       "      <th></th>\n",
       "      <th>title</th>\n",
       "      <th>id</th>\n",
       "      <th>board</th>\n",
       "    </tr>\n",
       "  </thead>\n",
       "  <tbody>\n",
       "    <tr>\n",
       "      <th>0</th>\n",
       "      <td>1ns2g1nl/lkg2srb1/p1pppp1pp/1R4p2/9/2PP5/P1BSP...</td>\n",
       "      <td>0</td>\n",
       "      <td>'  9  8  7  6  5  4  3  2  1\\nP1 * -KE-GI *  *...</td>\n",
       "    </tr>\n",
       "    <tr>\n",
       "      <th>1</th>\n",
       "      <td>1ns1g1snl/lkg3rb1/pppppp1pp/6p2/1P1P5/2P6/P1BS...</td>\n",
       "      <td>1</td>\n",
       "      <td>'  9  8  7  6  5  4  3  2  1\\nP1 * -KE-GI * -K...</td>\n",
       "    </tr>\n",
       "    <tr>\n",
       "      <th>2</th>\n",
       "      <td>1ns2g1nl/lkg2srb1/pppppp1pp/6p2/9/1RPP5/P1BSPP...</td>\n",
       "      <td>2</td>\n",
       "      <td>'  9  8  7  6  5  4  3  2  1\\nP1 * -KE-GI *  *...</td>\n",
       "    </tr>\n",
       "    <tr>\n",
       "      <th>3</th>\n",
       "      <td>+Bn1g1g1nl/2sk2rs1/pppppp1pp/9/4b1p2/2P6/PP2PP...</td>\n",
       "      <td>3</td>\n",
       "      <td>'  9  8  7  6  5  4  3  2  1\\nP1+UM-KE * -KI *...</td>\n",
       "    </tr>\n",
       "    <tr>\n",
       "      <th>4</th>\n",
       "      <td>+Bn1g1g1nl/2sk2rs1/pppppp1pp/9/4b4/2P3p2/PP2PP...</td>\n",
       "      <td>4</td>\n",
       "      <td>'  9  8  7  6  5  4  3  2  1\\nP1+UM-KE * -KI *...</td>\n",
       "    </tr>\n",
       "    <tr>\n",
       "      <th>...</th>\n",
       "      <td>...</td>\n",
       "      <td>...</td>\n",
       "      <td>...</td>\n",
       "    </tr>\n",
       "    <tr>\n",
       "      <th>121</th>\n",
       "      <td>1ns2g1nl/lkg2s1b1/pppppp1pp/6r2/1P4p2/2PP5/P1B...</td>\n",
       "      <td>121</td>\n",
       "      <td>'  9  8  7  6  5  4  3  2  1\\nP1 * -KE-GI *  *...</td>\n",
       "    </tr>\n",
       "    <tr>\n",
       "      <th>122</th>\n",
       "      <td>1ns2g1nl/lkg3rb1/ppppsp1pp/4p4/1P4p2/2PP5/P1BS...</td>\n",
       "      <td>122</td>\n",
       "      <td>'  9  8  7  6  5  4  3  2  1\\nP1 * -KE-GI *  *...</td>\n",
       "    </tr>\n",
       "    <tr>\n",
       "      <th>123</th>\n",
       "      <td>1ns1g1snl/lkg3rb1/pppppp1pp/9/6p2/1RPP5/P1BSPP...</td>\n",
       "      <td>123</td>\n",
       "      <td>'  9  8  7  6  5  4  3  2  1\\nP1 * -KE-GI * -K...</td>\n",
       "    </tr>\n",
       "    <tr>\n",
       "      <th>124</th>\n",
       "      <td>1n1gkg1nl/r1s3r2/ppppp1spp/5pp2/7P1/2P3P2/PP1P...</td>\n",
       "      <td>124</td>\n",
       "      <td>'  9  8  7  6  5  4  3  2  1\\nP1 * -KE * -KI-O...</td>\n",
       "    </tr>\n",
       "    <tr>\n",
       "      <th>125</th>\n",
       "      <td>1ns2g1nl/lkg3rb1/ppppps1pp/5p3/1P1P2p2/2PS5/P1...</td>\n",
       "      <td>125</td>\n",
       "      <td>'  9  8  7  6  5  4  3  2  1\\nP1 * -KE-GI *  *...</td>\n",
       "    </tr>\n",
       "  </tbody>\n",
       "</table>\n",
       "<p>126 rows × 3 columns</p>\n",
       "</div>"
      ],
      "text/plain": [
       "                                                 title   id  \\\n",
       "0    1ns2g1nl/lkg2srb1/p1pppp1pp/1R4p2/9/2PP5/P1BSP...    0   \n",
       "1    1ns1g1snl/lkg3rb1/pppppp1pp/6p2/1P1P5/2P6/P1BS...    1   \n",
       "2    1ns2g1nl/lkg2srb1/pppppp1pp/6p2/9/1RPP5/P1BSPP...    2   \n",
       "3    +Bn1g1g1nl/2sk2rs1/pppppp1pp/9/4b1p2/2P6/PP2PP...    3   \n",
       "4    +Bn1g1g1nl/2sk2rs1/pppppp1pp/9/4b4/2P3p2/PP2PP...    4   \n",
       "..                                                 ...  ...   \n",
       "121  1ns2g1nl/lkg2s1b1/pppppp1pp/6r2/1P4p2/2PP5/P1B...  121   \n",
       "122  1ns2g1nl/lkg3rb1/ppppsp1pp/4p4/1P4p2/2PP5/P1BS...  122   \n",
       "123  1ns1g1snl/lkg3rb1/pppppp1pp/9/6p2/1RPP5/P1BSPP...  123   \n",
       "124  1n1gkg1nl/r1s3r2/ppppp1spp/5pp2/7P1/2P3P2/PP1P...  124   \n",
       "125  1ns2g1nl/lkg3rb1/ppppps1pp/5p3/1P1P2p2/2PS5/P1...  125   \n",
       "\n",
       "                                                 board  \n",
       "0    '  9  8  7  6  5  4  3  2  1\\nP1 * -KE-GI *  *...  \n",
       "1    '  9  8  7  6  5  4  3  2  1\\nP1 * -KE-GI * -K...  \n",
       "2    '  9  8  7  6  5  4  3  2  1\\nP1 * -KE-GI *  *...  \n",
       "3    '  9  8  7  6  5  4  3  2  1\\nP1+UM-KE * -KI *...  \n",
       "4    '  9  8  7  6  5  4  3  2  1\\nP1+UM-KE * -KI *...  \n",
       "..                                                 ...  \n",
       "121  '  9  8  7  6  5  4  3  2  1\\nP1 * -KE-GI *  *...  \n",
       "122  '  9  8  7  6  5  4  3  2  1\\nP1 * -KE-GI *  *...  \n",
       "123  '  9  8  7  6  5  4  3  2  1\\nP1 * -KE-GI * -K...  \n",
       "124  '  9  8  7  6  5  4  3  2  1\\nP1 * -KE * -KI-O...  \n",
       "125  '  9  8  7  6  5  4  3  2  1\\nP1 * -KE-GI *  *...  \n",
       "\n",
       "[126 rows x 3 columns]"
      ]
     },
     "execution_count": 20,
     "metadata": {},
     "output_type": "execute_result"
    }
   ],
   "source": [
    "node_df"
   ]
  },
  {
   "cell_type": "code",
   "execution_count": 40,
   "metadata": {},
   "outputs": [],
   "source": [
    "PROJECT_ROOT = Path()\n",
    "BOARD_DIR = PROJECT_ROOT / \"data\" / \"board\"\n",
    "for node in node_df.itertuples(index=True):\n",
    "    with open(BOARD_DIR / f\"board_{node[0]}.svg\", mode=\"w\") as f:\n",
    "        f.write(str(node.board.to_svg()))"
   ]
  },
  {
   "cell_type": "code",
   "execution_count": 55,
   "metadata": {},
   "outputs": [],
   "source": [
    "nodes = '\\n'.join([f'\\tboard_{idx}(<img src=\\'/board/board_{idx}.svg\\' width=\\'69\\' height=\\'59.4\\' /><br>局面{idx})' for idx in range(len(node_df))])\n",
    "edges = '\\n'.join([f\"\\tboard_{edge[1]} --> board_{edge[2]}\" for edge in edge_df.itertuples()])\n",
    "graph_mermaid = f\"\"\"\n",
    "\\tgraph LR\n",
    "{nodes}\n",
    "{edges}\"\"\""
   ]
  },
  {
   "cell_type": "code",
   "execution_count": 56,
   "metadata": {},
   "outputs": [
    {
     "name": "stdout",
     "output_type": "stream",
     "text": [
      "\n",
      "\tgraph LR\n",
      "\tboard_0(<img src='/board/board_0.svg' width='69' height='59.4' /><br>局面0)\n",
      "\tboard_1(<img src='/board/board_1.svg' width='69' height='59.4' /><br>局面1)\n",
      "\tboard_2(<img src='/board/board_2.svg' width='69' height='59.4' /><br>局面2)\n",
      "\tboard_3(<img src='/board/board_3.svg' width='69' height='59.4' /><br>局面3)\n",
      "\tboard_4(<img src='/board/board_4.svg' width='69' height='59.4' /><br>局面4)\n",
      "\tboard_5(<img src='/board/board_5.svg' width='69' height='59.4' /><br>局面5)\n",
      "\tboard_6(<img src='/board/board_6.svg' width='69' height='59.4' /><br>局面6)\n",
      "\tboard_7(<img src='/board/board_7.svg' width='69' height='59.4' /><br>局面7)\n",
      "\tboard_8(<img src='/board/board_8.svg' width='69' height='59.4' /><br>局面8)\n",
      "\tboard_9(<img src='/board/board_9.svg' width='69' height='59.4' /><br>局面9)\n",
      "\tboard_10(<img src='/board/board_10.svg' width='69' height='59.4' /><br>局面10)\n",
      "\tboard_11(<img src='/board/board_11.svg' width='69' height='59.4' /><br>局面11)\n",
      "\tboard_12(<img src='/board/board_12.svg' width='69' height='59.4' /><br>局面12)\n",
      "\tboard_13(<img src='/board/board_13.svg' width='69' height='59.4' /><br>局面13)\n",
      "\tboard_14(<img src='/board/board_14.svg' width='69' height='59.4' /><br>局面14)\n",
      "\tboard_15(<img src='/board/board_15.svg' width='69' height='59.4' /><br>局面15)\n",
      "\tboard_16(<img src='/board/board_16.svg' width='69' height='59.4' /><br>局面16)\n",
      "\tboard_17(<img src='/board/board_17.svg' width='69' height='59.4' /><br>局面17)\n",
      "\tboard_18(<img src='/board/board_18.svg' width='69' height='59.4' /><br>局面18)\n",
      "\tboard_19(<img src='/board/board_19.svg' width='69' height='59.4' /><br>局面19)\n",
      "\tboard_20(<img src='/board/board_20.svg' width='69' height='59.4' /><br>局面20)\n",
      "\tboard_21(<img src='/board/board_21.svg' width='69' height='59.4' /><br>局面21)\n",
      "\tboard_22(<img src='/board/board_22.svg' width='69' height='59.4' /><br>局面22)\n",
      "\tboard_23(<img src='/board/board_23.svg' width='69' height='59.4' /><br>局面23)\n",
      "\tboard_24(<img src='/board/board_24.svg' width='69' height='59.4' /><br>局面24)\n",
      "\tboard_25(<img src='/board/board_25.svg' width='69' height='59.4' /><br>局面25)\n",
      "\tboard_26(<img src='/board/board_26.svg' width='69' height='59.4' /><br>局面26)\n",
      "\tboard_27(<img src='/board/board_27.svg' width='69' height='59.4' /><br>局面27)\n",
      "\tboard_28(<img src='/board/board_28.svg' width='69' height='59.4' /><br>局面28)\n",
      "\tboard_29(<img src='/board/board_29.svg' width='69' height='59.4' /><br>局面29)\n",
      "\tboard_30(<img src='/board/board_30.svg' width='69' height='59.4' /><br>局面30)\n",
      "\tboard_31(<img src='/board/board_31.svg' width='69' height='59.4' /><br>局面31)\n",
      "\tboard_32(<img src='/board/board_32.svg' width='69' height='59.4' /><br>局面32)\n",
      "\tboard_33(<img src='/board/board_33.svg' width='69' height='59.4' /><br>局面33)\n",
      "\tboard_34(<img src='/board/board_34.svg' width='69' height='59.4' /><br>局面34)\n",
      "\tboard_35(<img src='/board/board_35.svg' width='69' height='59.4' /><br>局面35)\n",
      "\tboard_36(<img src='/board/board_36.svg' width='69' height='59.4' /><br>局面36)\n",
      "\tboard_37(<img src='/board/board_37.svg' width='69' height='59.4' /><br>局面37)\n",
      "\tboard_38(<img src='/board/board_38.svg' width='69' height='59.4' /><br>局面38)\n",
      "\tboard_39(<img src='/board/board_39.svg' width='69' height='59.4' /><br>局面39)\n",
      "\tboard_40(<img src='/board/board_40.svg' width='69' height='59.4' /><br>局面40)\n",
      "\tboard_41(<img src='/board/board_41.svg' width='69' height='59.4' /><br>局面41)\n",
      "\tboard_42(<img src='/board/board_42.svg' width='69' height='59.4' /><br>局面42)\n",
      "\tboard_43(<img src='/board/board_43.svg' width='69' height='59.4' /><br>局面43)\n",
      "\tboard_44(<img src='/board/board_44.svg' width='69' height='59.4' /><br>局面44)\n",
      "\tboard_45(<img src='/board/board_45.svg' width='69' height='59.4' /><br>局面45)\n",
      "\tboard_46(<img src='/board/board_46.svg' width='69' height='59.4' /><br>局面46)\n",
      "\tboard_47(<img src='/board/board_47.svg' width='69' height='59.4' /><br>局面47)\n",
      "\tboard_48(<img src='/board/board_48.svg' width='69' height='59.4' /><br>局面48)\n",
      "\tboard_49(<img src='/board/board_49.svg' width='69' height='59.4' /><br>局面49)\n",
      "\tboard_50(<img src='/board/board_50.svg' width='69' height='59.4' /><br>局面50)\n",
      "\tboard_51(<img src='/board/board_51.svg' width='69' height='59.4' /><br>局面51)\n",
      "\tboard_52(<img src='/board/board_52.svg' width='69' height='59.4' /><br>局面52)\n",
      "\tboard_53(<img src='/board/board_53.svg' width='69' height='59.4' /><br>局面53)\n",
      "\tboard_54(<img src='/board/board_54.svg' width='69' height='59.4' /><br>局面54)\n",
      "\tboard_55(<img src='/board/board_55.svg' width='69' height='59.4' /><br>局面55)\n",
      "\tboard_56(<img src='/board/board_56.svg' width='69' height='59.4' /><br>局面56)\n",
      "\tboard_57(<img src='/board/board_57.svg' width='69' height='59.4' /><br>局面57)\n",
      "\tboard_58(<img src='/board/board_58.svg' width='69' height='59.4' /><br>局面58)\n",
      "\tboard_59(<img src='/board/board_59.svg' width='69' height='59.4' /><br>局面59)\n",
      "\tboard_60(<img src='/board/board_60.svg' width='69' height='59.4' /><br>局面60)\n",
      "\tboard_61(<img src='/board/board_61.svg' width='69' height='59.4' /><br>局面61)\n",
      "\tboard_62(<img src='/board/board_62.svg' width='69' height='59.4' /><br>局面62)\n",
      "\tboard_63(<img src='/board/board_63.svg' width='69' height='59.4' /><br>局面63)\n",
      "\tboard_64(<img src='/board/board_64.svg' width='69' height='59.4' /><br>局面64)\n",
      "\tboard_65(<img src='/board/board_65.svg' width='69' height='59.4' /><br>局面65)\n",
      "\tboard_66(<img src='/board/board_66.svg' width='69' height='59.4' /><br>局面66)\n",
      "\tboard_67(<img src='/board/board_67.svg' width='69' height='59.4' /><br>局面67)\n",
      "\tboard_68(<img src='/board/board_68.svg' width='69' height='59.4' /><br>局面68)\n",
      "\tboard_69(<img src='/board/board_69.svg' width='69' height='59.4' /><br>局面69)\n",
      "\tboard_70(<img src='/board/board_70.svg' width='69' height='59.4' /><br>局面70)\n",
      "\tboard_71(<img src='/board/board_71.svg' width='69' height='59.4' /><br>局面71)\n",
      "\tboard_72(<img src='/board/board_72.svg' width='69' height='59.4' /><br>局面72)\n",
      "\tboard_73(<img src='/board/board_73.svg' width='69' height='59.4' /><br>局面73)\n",
      "\tboard_74(<img src='/board/board_74.svg' width='69' height='59.4' /><br>局面74)\n",
      "\tboard_75(<img src='/board/board_75.svg' width='69' height='59.4' /><br>局面75)\n",
      "\tboard_76(<img src='/board/board_76.svg' width='69' height='59.4' /><br>局面76)\n",
      "\tboard_77(<img src='/board/board_77.svg' width='69' height='59.4' /><br>局面77)\n",
      "\tboard_78(<img src='/board/board_78.svg' width='69' height='59.4' /><br>局面78)\n",
      "\tboard_79(<img src='/board/board_79.svg' width='69' height='59.4' /><br>局面79)\n",
      "\tboard_80(<img src='/board/board_80.svg' width='69' height='59.4' /><br>局面80)\n",
      "\tboard_81(<img src='/board/board_81.svg' width='69' height='59.4' /><br>局面81)\n",
      "\tboard_82(<img src='/board/board_82.svg' width='69' height='59.4' /><br>局面82)\n",
      "\tboard_83(<img src='/board/board_83.svg' width='69' height='59.4' /><br>局面83)\n",
      "\tboard_84(<img src='/board/board_84.svg' width='69' height='59.4' /><br>局面84)\n",
      "\tboard_85(<img src='/board/board_85.svg' width='69' height='59.4' /><br>局面85)\n",
      "\tboard_86(<img src='/board/board_86.svg' width='69' height='59.4' /><br>局面86)\n",
      "\tboard_87(<img src='/board/board_87.svg' width='69' height='59.4' /><br>局面87)\n",
      "\tboard_88(<img src='/board/board_88.svg' width='69' height='59.4' /><br>局面88)\n",
      "\tboard_89(<img src='/board/board_89.svg' width='69' height='59.4' /><br>局面89)\n",
      "\tboard_90(<img src='/board/board_90.svg' width='69' height='59.4' /><br>局面90)\n",
      "\tboard_91(<img src='/board/board_91.svg' width='69' height='59.4' /><br>局面91)\n",
      "\tboard_92(<img src='/board/board_92.svg' width='69' height='59.4' /><br>局面92)\n",
      "\tboard_93(<img src='/board/board_93.svg' width='69' height='59.4' /><br>局面93)\n",
      "\tboard_94(<img src='/board/board_94.svg' width='69' height='59.4' /><br>局面94)\n",
      "\tboard_95(<img src='/board/board_95.svg' width='69' height='59.4' /><br>局面95)\n",
      "\tboard_96(<img src='/board/board_96.svg' width='69' height='59.4' /><br>局面96)\n",
      "\tboard_97(<img src='/board/board_97.svg' width='69' height='59.4' /><br>局面97)\n",
      "\tboard_98(<img src='/board/board_98.svg' width='69' height='59.4' /><br>局面98)\n",
      "\tboard_99(<img src='/board/board_99.svg' width='69' height='59.4' /><br>局面99)\n",
      "\tboard_100(<img src='/board/board_100.svg' width='69' height='59.4' /><br>局面100)\n",
      "\tboard_101(<img src='/board/board_101.svg' width='69' height='59.4' /><br>局面101)\n",
      "\tboard_102(<img src='/board/board_102.svg' width='69' height='59.4' /><br>局面102)\n",
      "\tboard_103(<img src='/board/board_103.svg' width='69' height='59.4' /><br>局面103)\n",
      "\tboard_104(<img src='/board/board_104.svg' width='69' height='59.4' /><br>局面104)\n",
      "\tboard_105(<img src='/board/board_105.svg' width='69' height='59.4' /><br>局面105)\n",
      "\tboard_106(<img src='/board/board_106.svg' width='69' height='59.4' /><br>局面106)\n",
      "\tboard_107(<img src='/board/board_107.svg' width='69' height='59.4' /><br>局面107)\n",
      "\tboard_108(<img src='/board/board_108.svg' width='69' height='59.4' /><br>局面108)\n",
      "\tboard_109(<img src='/board/board_109.svg' width='69' height='59.4' /><br>局面109)\n",
      "\tboard_110(<img src='/board/board_110.svg' width='69' height='59.4' /><br>局面110)\n",
      "\tboard_111(<img src='/board/board_111.svg' width='69' height='59.4' /><br>局面111)\n",
      "\tboard_112(<img src='/board/board_112.svg' width='69' height='59.4' /><br>局面112)\n",
      "\tboard_113(<img src='/board/board_113.svg' width='69' height='59.4' /><br>局面113)\n",
      "\tboard_114(<img src='/board/board_114.svg' width='69' height='59.4' /><br>局面114)\n",
      "\tboard_115(<img src='/board/board_115.svg' width='69' height='59.4' /><br>局面115)\n",
      "\tboard_116(<img src='/board/board_116.svg' width='69' height='59.4' /><br>局面116)\n",
      "\tboard_117(<img src='/board/board_117.svg' width='69' height='59.4' /><br>局面117)\n",
      "\tboard_118(<img src='/board/board_118.svg' width='69' height='59.4' /><br>局面118)\n",
      "\tboard_119(<img src='/board/board_119.svg' width='69' height='59.4' /><br>局面119)\n",
      "\tboard_120(<img src='/board/board_120.svg' width='69' height='59.4' /><br>局面120)\n",
      "\tboard_121(<img src='/board/board_121.svg' width='69' height='59.4' /><br>局面121)\n",
      "\tboard_122(<img src='/board/board_122.svg' width='69' height='59.4' /><br>局面122)\n",
      "\tboard_123(<img src='/board/board_123.svg' width='69' height='59.4' /><br>局面123)\n",
      "\tboard_124(<img src='/board/board_124.svg' width='69' height='59.4' /><br>局面124)\n",
      "\tboard_125(<img src='/board/board_125.svg' width='69' height='59.4' /><br>局面125)\n",
      "\tboard_13 --> board_37\n",
      "\tboard_28 --> board_13\n",
      "\tboard_3 --> board_4\n",
      "\tboard_59 --> board_110\n",
      "\tboard_4 --> board_59\n",
      "\tboard_110 --> board_85\n",
      "\tboard_85 --> board_91\n",
      "\tboard_32 --> board_103\n",
      "\tboard_37 --> board_80\n",
      "\tboard_23 --> board_105\n",
      "\tboard_80 --> board_98\n",
      "\tboard_66 --> board_11\n",
      "\tboard_15 --> board_44\n",
      "\tboard_5 --> board_94\n",
      "\tboard_43 --> board_5\n",
      "\tboard_44 --> board_111\n",
      "\tboard_46 --> board_61\n",
      "\tboard_29 --> board_46\n",
      "\tboard_115 --> board_15\n",
      "\tboard_61 --> board_115\n",
      "\tboard_33 --> board_97\n",
      "\tboard_97 --> board_8\n",
      "\tboard_98 --> board_99\n",
      "\tboard_42 --> board_10\n",
      "\tboard_100 --> board_42\n",
      "\tboard_34 --> board_124\n",
      "\tboard_124 --> board_118\n",
      "\tboard_20 --> board_34\n",
      "\tboard_25 --> board_20\n",
      "\tboard_73 --> board_18\n",
      "\tboard_18 --> board_25\n",
      "\tboard_101 --> board_60\n",
      "\tboard_99 --> board_101\n",
      "\tboard_87 --> board_116\n",
      "\tboard_21 --> board_87\n",
      "\tboard_38 --> board_21\n",
      "\tboard_116 --> board_108\n",
      "\tboard_1 --> board_89\n",
      "\tboard_68 --> board_38\n",
      "\tboard_68 --> board_1\n",
      "\tboard_68 --> board_16\n",
      "\tboard_16 --> board_12\n",
      "\tboard_108 --> board_123\n",
      "\tboard_112 --> board_113\n",
      "\tboard_54 --> board_62\n",
      "\tboard_88 --> board_54\n",
      "\tboard_113 --> board_24\n",
      "\tboard_55 --> board_14\n",
      "\tboard_81 --> board_9\n",
      "\tboard_123 --> board_81\n",
      "\tboard_123 --> board_55\n",
      "\tboard_69 --> board_114\n",
      "\tboard_92 --> board_69\n",
      "\tboard_117 --> board_7\n",
      "\tboard_114 --> board_117\n",
      "\tboard_74 --> board_50\n",
      "\tboard_50 --> board_95\n",
      "\tboard_83 --> board_47\n",
      "\tboard_67 --> board_83\n",
      "\tboard_121 --> board_51\n",
      "\tboard_51 --> board_77\n",
      "\tboard_0 --> board_31\n",
      "\tboard_109 --> board_0\n",
      "\tboard_72 --> board_109\n",
      "\tboard_31 --> board_2\n",
      "\tboard_71 --> board_30\n",
      "\tboard_86 --> board_71\n",
      "\tboard_86 --> board_72\n",
      "\tboard_2 --> board_106\n",
      "\tboard_78 --> board_19\n",
      "\tboard_57 --> board_78\n",
      "\tboard_65 --> board_121\n",
      "\tboard_70 --> board_65\n",
      "\tboard_96 --> board_104\n",
      "\tboard_30 --> board_84\n",
      "\tboard_30 --> board_49\n",
      "\tboard_30 --> board_96\n",
      "\tboard_84 --> board_102\n",
      "\tboard_84 --> board_79\n",
      "\tboard_53 --> board_84\n",
      "\tboard_49 --> board_52\n",
      "\tboard_58 --> board_120\n",
      "\tboard_82 --> board_58\n",
      "\tboard_41 --> board_63\n",
      "\tboard_106 --> board_41\n",
      "\tboard_26 --> board_93\n",
      "\tboard_45 --> board_26\n",
      "\tboard_125 --> board_76\n",
      "\tboard_76 --> board_40\n",
      "\tboard_122 --> board_17\n",
      "\tboard_90 --> board_122\n",
      "\tboard_75 --> board_119\n",
      "\tboard_48 --> board_75\n",
      "\tboard_27 --> board_107\n",
      "\tboard_35 --> board_27\n",
      "\tboard_39 --> board_64\n",
      "\tboard_6 --> board_39\n",
      "\tboard_36 --> board_6\n",
      "\tboard_64 --> board_22\n",
      "\tboard_56 --> board_36\n"
     ]
    }
   ],
   "source": [
    "print(graph_mermaid)"
   ]
  },
  {
   "cell_type": "code",
   "execution_count": 1,
   "metadata": {},
   "outputs": [],
   "source": [
    "from bookgraph.mermaid import draw_graph\n",
    "from bookgraph.loader import MermaidGraphGenerator\n"
   ]
  },
  {
   "cell_type": "code",
   "execution_count": 2,
   "metadata": {},
   "outputs": [],
   "source": [
    "\n",
    "generator = MermaidGraphGenerator(hash_with_move_number=True)"
   ]
  },
  {
   "cell_type": "code",
   "execution_count": 32,
   "metadata": {},
   "outputs": [
    {
     "name": "stdout",
     "output_type": "stream",
     "text": [
      "[] {370, 291, 29, 103}\n",
      "[] {370, 291, 29, 103}\n",
      "[29] {370, 291, 29, 103}\n",
      "[103, 291, 370] {370, 291, 103, 29}\n",
      "[19, 194, 308] {370, 291, 308, 19, 194, 103, 29}\n",
      "[413] {370, 291, 308, 19, 194, 103, 29, 413}\n",
      "[4] {194, 291, 4, 103, 370, 19, 308, 29, 413}\n",
      "[112] {194, 291, 4, 103, 112, 370, 19, 308, 29, 413}\n",
      "[90] {194, 291, 4, 103, 112, 370, 19, 308, 90, 29, 413}\n",
      "[110, 162] {194, 291, 4, 162, 103, 110, 112, 370, 19, 308, 90, 29, 413}\n",
      "[192, 250] {192, 194, 291, 4, 162, 103, 250, 110, 112, 370, 19, 308, 90, 29, 413}\n"
     ]
    }
   ],
   "source": [
    "\n",
    "book_graph = generator.generate_mermaid_graph(board_from=29)"
   ]
  },
  {
   "cell_type": "code",
   "execution_count": null,
   "metadata": {},
   "outputs": [],
   "source": []
  }
 ],
 "metadata": {
  "kernelspec": {
   "display_name": "Python 3",
   "language": "python",
   "name": "python3"
  },
  "language_info": {
   "codemirror_mode": {
    "name": "ipython",
    "version": 3
   },
   "file_extension": ".py",
   "mimetype": "text/x-python",
   "name": "python",
   "nbconvert_exporter": "python",
   "pygments_lexer": "ipython3",
   "version": "3.12.1"
  }
 },
 "nbformat": 4,
 "nbformat_minor": 2
}
