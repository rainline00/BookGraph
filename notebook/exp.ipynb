{
 "cells": [
  {
   "cell_type": "code",
   "execution_count": 1,
   "metadata": {},
   "outputs": [
    {
     "name": "stderr",
     "output_type": "stream",
     "text": [
      "/workspaces/BookGraph/.venv/lib/python3.12/site-packages/dash_bootstrap_components/_table.py:5: UserWarning: \n",
      "The dash_html_components package is deprecated. Please replace\n",
      "`import dash_html_components as html` with `from dash import html`\n",
      "  import dash_html_components as html\n"
     ]
    }
   ],
   "source": [
    "from pathlib import Path\n",
    "from jaal import Jaal\n",
    "import pandas as pd\n",
    "from bookgraph.reader import YaneuraBookReader\n",
    "from bookgraph.util import get_project_root\n",
    "from cshogi import Board"
   ]
  },
  {
   "cell_type": "code",
   "execution_count": 2,
   "metadata": {},
   "outputs": [],
   "source": [
    "reader = YaneuraBookReader()"
   ]
  },
  {
   "cell_type": "code",
   "execution_count": 3,
   "metadata": {},
   "outputs": [],
   "source": [
    "path = get_project_root() / Path(\"data/book.db\")\n",
    "nodes = list(reader.from_file(path))"
   ]
  },
  {
   "cell_type": "markdown",
   "metadata": {},
   "source": [
    "from functools import reduce\n",
    "from typing import Callable, Iterable\n",
    "f: Callable[[list, list], list] = lambda li1, li2: li1 + li2\n",
    "moves = reduce(f, (node.candidate_moves for node in nodes), []) #type: ignore"
   ]
  },
  {
   "cell_type": "code",
   "execution_count": 4,
   "metadata": {},
   "outputs": [],
   "source": [
    "df = pd.DataFrame(nodes, columns=[\"node\"])"
   ]
  },
  {
   "cell_type": "code",
   "execution_count": 5,
   "metadata": {},
   "outputs": [],
   "source": [
    "df[\"board\"] = df[\"node\"].map(lambda x: x.sfen_for_hash)\n",
    "df[\"next_move\"] = df[\"node\"].map(lambda x: x.candidate_moves[0].chosen_move_code)"
   ]
  },
  {
   "cell_type": "code",
   "execution_count": 6,
   "metadata": {},
   "outputs": [
    {
     "data": {
      "text/html": [
       "<div>\n",
       "<style scoped>\n",
       "    .dataframe tbody tr th:only-of-type {\n",
       "        vertical-align: middle;\n",
       "    }\n",
       "\n",
       "    .dataframe tbody tr th {\n",
       "        vertical-align: top;\n",
       "    }\n",
       "\n",
       "    .dataframe thead th {\n",
       "        text-align: right;\n",
       "    }\n",
       "</style>\n",
       "<table border=\"1\" class=\"dataframe\">\n",
       "  <thead>\n",
       "    <tr style=\"text-align: right;\">\n",
       "      <th></th>\n",
       "      <th>node</th>\n",
       "      <th>board</th>\n",
       "      <th>next_move</th>\n",
       "    </tr>\n",
       "  </thead>\n",
       "  <tbody>\n",
       "    <tr>\n",
       "      <th>0</th>\n",
       "      <td>&lt;bookgraph.book_tree.Node object at 0x70361c31...</td>\n",
       "      <td>+Bn1g1g1nl/2s2k1s1/pp1ppp1p1/6p1p/9/9/PP1PPPPP...</td>\n",
       "      <td>R*9b</td>\n",
       "    </tr>\n",
       "    <tr>\n",
       "      <th>1</th>\n",
       "      <td>&lt;bookgraph.book_tree.Node object at 0x7035f280...</td>\n",
       "      <td>+Bn1g1g1nl/2s2k1s1/pp1pppbp1/6p1p/9/9/PP1PPPPP...</td>\n",
       "      <td>3c9i+</td>\n",
       "    </tr>\n",
       "    <tr>\n",
       "      <th>2</th>\n",
       "      <td>&lt;bookgraph.book_tree.Node object at 0x7035f233...</td>\n",
       "      <td>+Bn1g1g1nl/2sk2rs1/pppppp1pp/9/4b1p2/2P6/PP2PP...</td>\n",
       "      <td>3e3f</td>\n",
       "    </tr>\n",
       "    <tr>\n",
       "      <th>3</th>\n",
       "      <td>&lt;bookgraph.book_tree.Node object at 0x7035f231...</td>\n",
       "      <td>+Bn1g1g1nl/2sk2rs1/pppppp1pp/9/4b4/2P3p2/PP2PP...</td>\n",
       "      <td>3f3g+</td>\n",
       "    </tr>\n",
       "    <tr>\n",
       "      <th>4</th>\n",
       "      <td>&lt;bookgraph.book_tree.Node object at 0x7035f234...</td>\n",
       "      <td>+Bn1g1g1nl/2sk2rs1/pppppp1pp/9/4b4/2P3p2/PP2PP...</td>\n",
       "      <td>3i2h</td>\n",
       "    </tr>\n",
       "    <tr>\n",
       "      <th>...</th>\n",
       "      <td>...</td>\n",
       "      <td>...</td>\n",
       "      <td>...</td>\n",
       "    </tr>\n",
       "    <tr>\n",
       "      <th>130177</th>\n",
       "      <td>&lt;bookgraph.book_tree.Node object at 0x7035ea45...</td>\n",
       "      <td>lr4snl/3kg1gb1/p1nspp1pp/1ppp2p2/7P1/2PPP4/PPS...</td>\n",
       "      <td>9c9d</td>\n",
       "    </tr>\n",
       "    <tr>\n",
       "      <th>130178</th>\n",
       "      <td>&lt;bookgraph.book_tree.Node object at 0x7035ea45...</td>\n",
       "      <td>rn1g1g1nl/3s1k1b1/p2p3pp/1pp1Rpp2/9/2P6/PP1P1P...</td>\n",
       "      <td>B*4e</td>\n",
       "    </tr>\n",
       "    <tr>\n",
       "      <th>130179</th>\n",
       "      <td>&lt;bookgraph.book_tree.Node object at 0x7035ea45...</td>\n",
       "      <td>rn1g1g1nl/3s1k1b1/p2p3pp/1pp1spp2/9/2P6/PP1P1P...</td>\n",
       "      <td>5h5d</td>\n",
       "    </tr>\n",
       "    <tr>\n",
       "      <th>130180</th>\n",
       "      <td>&lt;bookgraph.book_tree.Node object at 0x7035ea45...</td>\n",
       "      <td>rn1gkg1nl/2s3rs1/pppppp1pp/6p2/7P1/2P3P2/PP1PP...</td>\n",
       "      <td>9a9b</td>\n",
       "    </tr>\n",
       "    <tr>\n",
       "      <th>130181</th>\n",
       "      <td>&lt;bookgraph.book_tree.Node object at 0x7035ea45...</td>\n",
       "      <td>rn1gkg1nl/2s3rs1/pppppp1pp/6p2/7P1/2P3P2/PP1PP...</td>\n",
       "      <td>5i4h</td>\n",
       "    </tr>\n",
       "  </tbody>\n",
       "</table>\n",
       "<p>130182 rows × 3 columns</p>\n",
       "</div>"
      ],
      "text/plain": [
       "                                                     node  \\\n",
       "0       <bookgraph.book_tree.Node object at 0x70361c31...   \n",
       "1       <bookgraph.book_tree.Node object at 0x7035f280...   \n",
       "2       <bookgraph.book_tree.Node object at 0x7035f233...   \n",
       "3       <bookgraph.book_tree.Node object at 0x7035f231...   \n",
       "4       <bookgraph.book_tree.Node object at 0x7035f234...   \n",
       "...                                                   ...   \n",
       "130177  <bookgraph.book_tree.Node object at 0x7035ea45...   \n",
       "130178  <bookgraph.book_tree.Node object at 0x7035ea45...   \n",
       "130179  <bookgraph.book_tree.Node object at 0x7035ea45...   \n",
       "130180  <bookgraph.book_tree.Node object at 0x7035ea45...   \n",
       "130181  <bookgraph.book_tree.Node object at 0x7035ea45...   \n",
       "\n",
       "                                                    board next_move  \n",
       "0       +Bn1g1g1nl/2s2k1s1/pp1ppp1p1/6p1p/9/9/PP1PPPPP...      R*9b  \n",
       "1       +Bn1g1g1nl/2s2k1s1/pp1pppbp1/6p1p/9/9/PP1PPPPP...     3c9i+  \n",
       "2       +Bn1g1g1nl/2sk2rs1/pppppp1pp/9/4b1p2/2P6/PP2PP...      3e3f  \n",
       "3       +Bn1g1g1nl/2sk2rs1/pppppp1pp/9/4b4/2P3p2/PP2PP...     3f3g+  \n",
       "4       +Bn1g1g1nl/2sk2rs1/pppppp1pp/9/4b4/2P3p2/PP2PP...      3i2h  \n",
       "...                                                   ...       ...  \n",
       "130177  lr4snl/3kg1gb1/p1nspp1pp/1ppp2p2/7P1/2PPP4/PPS...      9c9d  \n",
       "130178  rn1g1g1nl/3s1k1b1/p2p3pp/1pp1Rpp2/9/2P6/PP1P1P...      B*4e  \n",
       "130179  rn1g1g1nl/3s1k1b1/p2p3pp/1pp1spp2/9/2P6/PP1P1P...      5h5d  \n",
       "130180  rn1gkg1nl/2s3rs1/pppppp1pp/6p2/7P1/2P3P2/PP1PP...      9a9b  \n",
       "130181  rn1gkg1nl/2s3rs1/pppppp1pp/6p2/7P1/2P3P2/PP1PP...      5i4h  \n",
       "\n",
       "[130182 rows x 3 columns]"
      ]
     },
     "execution_count": 6,
     "metadata": {},
     "output_type": "execute_result"
    }
   ],
   "source": [
    "df"
   ]
  },
  {
   "cell_type": "code",
   "execution_count": 7,
   "metadata": {},
   "outputs": [],
   "source": [
    "moves = []\n",
    "for moves_list in (node.candidate_moves for node in nodes):\n",
    "    moves += moves_list\n",
    "moves = moves[:100]"
   ]
  },
  {
   "cell_type": "code",
   "execution_count": 8,
   "metadata": {},
   "outputs": [
    {
     "name": "stdout",
     "output_type": "stream",
     "text": [
      "sfen_for_hash: +Bn1g1g1nl/2s2k1s1/pp1ppp1p1/6p1p/9/9/PP1PPPPPP/9/+bNSGKGSNL b RLPrlp\n",
      "next_sfen_for_hash: +Bn1g1g1nl/R1s2k1s1/pp1ppp1p1/6p1p/9/9/PP1PPPPPP/9/+bNSGKGSNL w LPrlp\n",
      "chosen_move_code: R*9b\n",
      "expected_next_move_code: 4b3a\n",
      "evaluation_value: 0\n",
      "metadata: {'0': '32'}\n",
      "\n"
     ]
    }
   ],
   "source": [
    "print(moves[0])"
   ]
  },
  {
   "cell_type": "code",
   "execution_count": 9,
   "metadata": {},
   "outputs": [],
   "source": [
    "board_set = set(move.sfen_for_hash for move in moves) | set(move.next_sfen_for_hash for move in moves)\n",
    "sfen_to_id_dict = {sfen_for_hash: idx for idx, sfen_for_hash in enumerate(board_set)}"
   ]
  },
  {
   "cell_type": "code",
   "execution_count": 10,
   "metadata": {},
   "outputs": [
    {
     "data": {
      "text/plain": [
       "{'1n1g1gknl/R+Bs4s1/pp1ppp1p1/6p1p/9/9/PP1PPPPPP/9/+bNSGKGSNL w LPrlp': 0,\n",
       " '1ns2g1nl/lkg2srb1/pppppp1pp/9/1P4p2/2PP5/P1BSPPPPP/1R3K3/LN1G1GSNL b -': 1,\n",
       " '1n1g1g1nl/1Bskr2s1/lppp1p1pp/p5p2/7P1/P1P6/1PSP1PP1P/5S1R1/LNKG1G1NL b Pbp': 2,\n",
       " '+Bn1g1g1nl/2sk3s1/ppppp2pp/9/6p2/2P2r1P1/PP1PPpP1P/1K5R1/LNSGSG1NL w LPb': 3,\n",
       " '1ns2gsnl/l1kg1r1b1/pp1pp2pp/2p2pp2/9/4P2P1/PP1PSPP1P/1BR6/LNSGKG1NL b p': 4,\n",
       " 'kns2g1nl/l1g2s1b1/pppppp1pp/6r2/1P4p2/2PP5/P1BSPPPPP/1R2GKS2/LN3G1NL b -': 5,\n",
       " '1ns2g1nl/lkg2srb1/pppppp1pp/6p2/9/2PP1P3/PPBSP1PPP/1R2G1S2/LN2KG1NL w -': 6,\n",
       " '1npg1gknl/R+Bs4s1/pp1ppp1p1/6p1p/9/9/PP1PPPPPP/9/+bNSGKGSNL b LPrl': 7,\n",
       " 'kns2g1nl/l1g2srb1/pppppp1pp/9/1P4p2/2PP5/P1BSPPPPP/1R3K1S1/LN1G1G1NL b -': 8,\n",
       " '1ns4nl/lkg1gsrb1/pppppp1pp/9/1P4p2/2PP5/P1BSPPPPP/1R3KS2/LN1G1G1NL b -': 9,\n",
       " '1ns2g1nl/lk1g1rsb1/ppppp2pp/5pp2/9/4P1PP1/PP1PSP2P/1BR6/LNSGKG1NL b P': 10,\n",
       " '1n1g1g1nl/1Bskr2s1/lppp1p1pp/p5p2/7P1/P1P1P4/1P1P1PP1P/2S2S1R1/LNKG1G1NL w Pb': 11,\n",
       " '1n1g1g1nl/1Bsk3s1/lppp1p1pp/p5p2/7P1/P1P1r4/1PSP1PP1P/3K1S1R1/LN1G1G1NL b Pbp': 12,\n",
       " '1ns2g1nl/lkg2srb1/pppppp1pp/9/1P4p2/2PP5/P1BSPPPPP/1R2G1S2/LN2KG1NL w -': 13,\n",
       " '1ns1g1snl/lkg4b1/pppppp1pp/6r2/6p2/1RPP5/P1BSPPPPP/2G6/LN2KGSNL b P': 14,\n",
       " 'kns1g1snl/l1g3rb1/pppppp1pp/6p2/1P1P5/2P6/P1BSPPPPP/1R7/LN1GKGSNL b -': 15,\n",
       " '1ns1g1snl/lkg3rb1/pppppp1pp/1R4p2/9/2PP5/P1BSPPPPP/9/LN1GKGSNL b P': 16,\n",
       " '1ns2g1nl/lkg2srb1/pppppp1pp/1P4p2/9/2PP5/P1BSPPPPP/1R7/LN1GKGSNL w -': 17,\n",
       " '1ns2g1nl/lkg2srb1/pppppp1pp/9/1P4p2/2PPS4/P1B1PPPPP/1R3K3/LN1G1GSNL w -': 18,\n",
       " '1ns2g1nl/lkg2srb1/pppppp1pp/9/1P7/2PP2p2/P1BSPPSPP/1R2GK3/LN3G1NL b P': 19,\n",
       " '1ns2g1nl/lkg3rb1/ppppps1pp/5p3/1P1P2p2/2PS5/P1B1PPPPP/1R3K3/LN1G1GSNL b -': 20,\n",
       " '1ns1g1snl/lkg3rb1/pppppp1pp/6p2/1P7/2PP5/P1BSPPPPP/1R7/LN1GKGSNL b -': 21,\n",
       " 'kns2g1nl/l1g3rb1/ppppsp1pp/4p4/1P4p2/2PP5/P1BSPPPPP/1R2G1S2/LN3GKNL b -': 22,\n",
       " '1ns2g1nl/lkg3rb1/ppppps1pp/5p3/1PSP2p2/2P6/P1B1PPPPP/1R3K3/LN1G1GSNL w -': 23,\n",
       " '1n1g1g1nl/1Bsk3s1/lpp2p1pp/p2p2p2/7P1/P1P1r4/1PSP1PP1P/2K2S1R1/LN1G1G1NL b Pbp': 24,\n",
       " '1ns1g1snl/lkg3rb1/pppppp1pp/9/2P3p2/1R1P5/P1BSPPPPP/9/LN1GKGSNL w P': 25,\n",
       " '1ns2g1nl/lkg2srb1/pppppp1pp/6p2/9/1RPP5/P1BSPPPPP/9/LN1GKGSNL w P': 26,\n",
       " '1n1gkg1nl/r1s3rs1/pppppp1pp/6p2/7P1/2P3P2/PP1PPP2P/1B4GS1/LNSG2KNL w Lb': 27,\n",
       " '1ns2g1nl/lkg2srb1/pppppp1pp/9/6p2/2PP5/P1BSPPPPP/1R7/LN1GKGSNL b P': 28,\n",
       " '1ns2g1nl/lkg1rs3/pppp2bpp/4ppp2/7P1/2P1P4/PPBPSPP1P/LK5R1/1NSG1G1NL b -': 29,\n",
       " '1n1g1g1nl/lks3rb1/p1ppsp1pp/1p2p4/1N4p2/PPPP5/3SPPPPP/1B1R2S2/L2G1GKNL b -': 30,\n",
       " '1ns2g1nl/lkg2srb1/pppppp1pp/9/1P4p2/2PP5/P1BSPPPPP/1R3K1S1/LN1G1G1NL w -': 31,\n",
       " '1ns2g1nl/l1kg1rsb1/ppppp2pp/5pp2/9/4P2P1/PP1PSPP1P/1BR6/LNSGKG1NL b P': 32,\n",
       " '1ns1g1snl/lkg3rb1/pppppp1pp/9/1P4p2/2PP5/P1BSPPPPP/1R4G2/LN1G1KSNL w -': 33,\n",
       " '1n1gkg1nl/r1s3r2/ppppppspp/6p2/7P1/2P3P2/PP1PPP1SP/1B4G2/LNSG2KNL w Lb': 34,\n",
       " '1ns2g1nl/lk1g1rsb1/pppp3pp/2P1ppp2/9/4P1PP1/PP1PSP2P/1BR6/LNSGKG1NL b -': 35,\n",
       " '1ns2gs1l/lkg4b1/ppppppnpp/6r2/1P1P2p2/2P6/P1BSPPPPP/1RG2K3/LN3GSNL w -': 36,\n",
       " '1n1g1g1nl/1Bskr2s1/lppp1p1pp/p5p2/4p2P1/P1P6/1P1PPPP1P/2S2S1R1/LNKG1G1NL w b': 37,\n",
       " '1n1gkg1nl/1Bs1r2s1/lppp1p1pp/p5p2/7P1/P1P6/1PSPPPP1P/5S1R1/LN1GKG1NL b bp': 38,\n",
       " '1ns2g1nl/lkg2srb1/pppppp1pp/9/2P3p2/1R1P5/P1BSPPPPP/9/LN1GKGSNL w P': 39,\n",
       " '1npg1gknl/R+Bs4s1/pplppp1p1/6p1p/9/9/PP1PPPPPP/2S6/+bN1GKGSNL b LPr': 40,\n",
       " '1n1g1g1nl/1Bsk3s1/lppp1p1pp/p5p2/7P1/P1P1r4/1PSP1PP1P/5S1R1/LNKG1G1NL w Pbp': 41,\n",
       " '1ns1g1snl/lkg3rb1/pppppp1pp/6p2/1PP6/3P5/P1BSPPPPP/1R7/LN1GKGSNL w -': 42,\n",
       " '1ns1g1snl/lkg3rb1/pppppp1pp/9/6p2/1RPP5/P1BSPPPPP/9/LN1GKGSNL b P': 43,\n",
       " 'kns2g1nl/l1g2srb1/pppppp1pp/9/1P4p2/2PP5/P1BSPPPPP/1R3KS2/LN1G1G1NL b -': 44,\n",
       " '+Bn1g1g1nl/2s2k1s1/pp1pppbp1/6p1p/9/9/PP1PPPPPP/9/LNSGKGSNL w RLPrp': 45,\n",
       " '1n1gkg1nl/1Bs1r4/lppp1pspp/p5p2/7P1/P1P6/1PSPPPP1P/3K1S1R1/LN1G1G1NL b bp': 46,\n",
       " '+Bn1g1g1nl/2sk2rs1/pppppp1pp/9/4b4/2P3p2/PP2PPPPP/3R3S1/LNSGKG1NL w LP': 47,\n",
       " '1ns2g1nl/lkg2srb1/p1pppp1pp/1R4p2/9/2PP5/P1BSPPPPP/9/LN1GKGSNL w Pp': 48,\n",
       " '1ns1g1snl/lkg3rb1/pppppp1pp/9/6p2/1RPP5/P1BSPPPPP/2G6/LN2KGSNL w P': 49,\n",
       " '1n1g1g1nl/1Bsk3s1/lppp1p1pp/p5p2/7P1/P1P1r4/1PSP1PP1P/2K2S1R1/LN1G1G1NL w Pbp': 50,\n",
       " '+Bn1g1gknl/R1s4s1/pp1ppp1p1/6p1p/9/9/PP1PPPPPP/9/+bNSGKGSNL b LPrlp': 51,\n",
       " 'kns2gs1l/l1g4b1/ppppppnpp/6r2/1P1P2p2/2P6/P1BSPPPPP/1RG2K3/LN3GSNL b -': 52,\n",
       " '+Bn1g1g1nl/2sk2rs1/pppppp1pp/9/4b4/2P6/PP2PPSPP/3R5/LNSGKG1NL w L2Pp': 53,\n",
       " '1ns2g1nl/lkg2srb1/pppppp1pp/9/6p2/1RPP5/P1BSPPPPP/9/LN1GKGSNL b P': 54,\n",
       " 'kns1g1snl/l1g3rb1/pppppp1pp/6p2/1PP6/3P5/P1BSPPPPP/1R7/LN1GKGSNL b -': 55,\n",
       " '1ns2g1nl/l1kg1rsb1/ppppp2pp/5pp2/9/4P1PP1/PP1PSP2P/1BR6/LNSGKG1NL w P': 56,\n",
       " '1n1gkg1nl/r1s3rs1/pppppp1pp/6p2/7P1/2P3P2/PP1PPP2P/1B3KGS1/LNSG3NL b Lb': 57,\n",
       " '1ns2g1nl/lkg2srb1/pppppp1pp/9/6p2/2PP5/P1BSPPPPP/1R4S2/LN1GKG1NL w P': 58,\n",
       " '1ns2gsnl/l1kg1r1b1/pp1pp2pp/2R2pp2/9/4P2P1/PP1PSPP1P/1B7/LNSGKG1NL w Pp': 59,\n",
       " '1n1g1g1nl/lks3rb1/p1ppsp1pp/1p2p1p2/1N7/PPPP5/3SPPPPP/1B1R1KS2/L2G1G1NL b -': 60,\n",
       " '1n1g1g1nl/lks3rb1/p1ppsp1pp/1p2p1p2/1N7/PPPP5/3SPPPPP/1B1R2S2/L2G1GKNL w -': 61,\n",
       " '1ns2g1nl/lkg2srb1/pppppp1pp/6p2/1P7/2PP5/P1BSPPPPP/1R7/LN1GKGSNL b -': 62,\n",
       " '1ns2g1nl/lkg2srb1/pppppp1pp/6p2/1P7/2PP5/P1BSPPPPP/1R3K3/LN1G1GSNL w -': 63,\n",
       " '1ns2g1nl/lkg2srb1/pppppp1pp/9/1P4p2/2PP5/P1BSPPPPP/1R4S2/LN1GKG1NL b -': 64,\n",
       " '1ns2g1nl/lkg3rb1/ppppsp1pp/4p4/1P4p2/2PP5/P1BSPPPPP/1R2G1S2/LN3GKNL w -': 65,\n",
       " '1ns2g1nl/lk1g1rsb1/ppppp2pp/2P2pp2/9/4P1PP1/PP1PSP2P/1BR6/LNSGKG1NL w -': 66,\n",
       " '1ns1g1snl/lkg3rb1/p1pppp1pp/1p4p2/9/2PP5/P1BSPPPPP/1R7/LN1GKGSNL b p': 67,\n",
       " '1ns2g1nl/lkg3rb1/ppppsp1pp/4p4/1P4p2/2PP5/P1BSPPPPP/1R2GKS2/LN3G1NL b -': 68,\n",
       " '1ns2g1nl/lkg2s1b1/pppppp1pp/6r2/1P4p2/2PP5/P1BSPPPPP/1R2GKS2/LN3G1NL w -': 69,\n",
       " 'rn1g1g1nl/3s1k1b1/p2p3pp/1pp1spp2/9/2P6/PP1P1PPPP/4RK3/LNSG1GSNL b Lb2p': 70,\n",
       " '1n1gkg1nl/r1s3r2/ppppp1spp/5pp2/7P1/2P3P2/PP1PPP1SP/1B4G2/LNSG2KNL b Lb': 71,\n",
       " '+Bn1gkg1nl/r1s3rs1/pppppp1pp/6p2/7P1/2P3P2/PP1PPP2P/1B4GS1/LNSGK2NL w L': 72,\n",
       " '+Bn1g1g1nl/2s2k1s1/pp1ppp1p1/6p1p/9/9/PP1PPPPPP/9/+bNSGKGSNL b RLPrlp': 73,\n",
       " '+Bn1g1g1nl/2sk2rs1/pppppp1pp/9/4b1p2/2P6/PP2PPPPP/3R5/LNSGKGSNL w LP': 74,\n",
       " '1ns2g1nl/lkg2srb1/p1pppp1pp/1p4p2/9/2PP5/P1BSPPPPP/1R7/LN1GKGSNL b p': 75,\n",
       " '1ns2g1nl/lkg2srb1/pppppp1pp/9/1P4p2/2PP5/P1BSPPPPP/1R2G4/LN2KGSNL b -': 76,\n",
       " '1n1gkg1nl/r1s3r2/ppppp1spp/5pp2/7P1/2P3P2/PP1PPP1SP/1B4GK1/LNSG3NL w Lb': 77,\n",
       " '1ns1g1snl/lkg3rb1/pppppp1pp/6p2/1P1P5/2P6/P1BSPPPPP/1R7/LN1GKGSNL w -': 78,\n",
       " '1ns1g1snl/lkg3rb1/pppppp1pp/9/1P4p2/P1PP5/2BSPPPPP/1R2G4/LN2KGSNL w -': 79,\n",
       " '1ns1g1snl/lkg3rb1/pppppp1pp/6p2/9/1RPP5/P1BSPPPPP/9/LN1GKGSNL w P': 80,\n",
       " '1ns2g1nl/lkg2srb1/pppppp1pp/9/1P4p2/2PP5/P1BSPPPPP/1R3KS2/LN1G1G1NL w -': 81,\n",
       " '1ns1g1snl/lkg3rb1/pppppp1pp/1P4p2/9/2PP5/P1BSPPPPP/1R7/LN1GKGSNL w -': 82,\n",
       " 'kns2g1nl/l1g2srb1/pppppp1pp/9/1P4p2/2PPS4/P1B1PPPPP/1R3K3/LN1G1GSNL b -': 83,\n",
       " '1ns1g1snl/lkg3rb1/p1pppp1pp/1R4p2/9/2PP5/P1BSPPPPP/9/LN1GKGSNL w Pp': 84,\n",
       " '1ns2g1nl/lkg2srb1/pppppp1pp/9/2P6/1R1P2p2/P1BSPPPPP/9/LN1GKGSNL b P': 85,\n",
       " '+Bn1g1g1nl/2sk2rs1/pppppp1pp/9/4b4/2P3p2/PP2PPPPP/3R5/LNSGKGSNL b LP': 86,\n",
       " '1ns2g1nl/lkg1rs1b1/pppp1p1pp/4p1p2/1R7/2PP5/P1B1PPPPP/5K3/LNSG1GSNL b P': 87,\n",
       " '1n1g1g1nl/1Bskr2s1/lppp1p1pp/p5p2/7P1/P1P1p4/1P1PPPP1P/2S2S1R1/LNKG1G1NL b b': 88,\n",
       " '1ns2g1nl/lkg2srb1/pppppp1pp/9/1P7/2PP5/P1BSPPSPP/1R2GK3/LN3G1NL w Pp': 89,\n",
       " '1ns2gs1l/lkg4b1/ppppppnpp/6r2/1P1P2p2/2P6/P1BSPPPPP/1RG6/LN2KGSNL b -': 90,\n",
       " '1ns2gsnl/l1kg1r1b1/ppppp2pp/5pp2/9/4P2P1/PP1PSPP1P/1BR6/LNSGKG1NL w P': 91,\n",
       " '1ns2g1nl/lkg1rs3/pppp2bpp/4ppp2/7P1/2P1P4/PPBPSPP1P/L6R1/KNSG1G1NL w -': 92,\n",
       " '1ns2g1nl/lkg3rb1/ppppps1pp/5p3/1PSP5/2P3p2/P1B1PPPPP/1R3K3/LN1G1GSNL b -': 93,\n",
       " '1nsg2snl/lkg3rb1/pppppp1pp/9/1P4p2/P1PP5/2BSPPPPP/1R2G4/LN2KGSNL b -': 94,\n",
       " '+Bn1g1g1nl/2sk2rs1/pppppp1pp/9/9/2P6/PP2PPSPP/3R5/+bNSGKG1NL b L2Plp': 95,\n",
       " 'kns2g1nl/l1g2srb1/pppppp1pp/9/6p2/2PP5/P1BSPPPPP/1R4S2/LN1GKG1NL b P': 96,\n",
       " '1n1gkg1nl/1Bs1r2s1/lppp1p1pp/p5p2/7P1/P1P6/1PSPPPP1P/3K1S1R1/LN1G1G1NL w bp': 97,\n",
       " '1n1gkg1nl/r1s3r2/ppp1p1spp/3p1pp2/7P1/2P3P2/PP1PPP1SP/1B4GK1/LNSG3NL b Lb': 98,\n",
       " '1ns2g1nl/lkg2srb1/pppppp1pp/6p2/9/2PP1P3/PPBSP1PPP/1R4S2/LN1GKG1NL b -': 99,\n",
       " 'rn1gkg1nl/2s3rs1/pppppp1pp/6p2/7P1/2P3P2/PP1PPP2P/1B4GS1/LNSGK2NL b Lb': 100,\n",
       " '+Bn1g1g1nl/R1s2k1s1/pp1ppp1p1/6p1p/9/9/PP1PPPPPP/9/+bNSGKGSNL w LPrlp': 101,\n",
       " '1ns4nl/lkg1rsgb1/pppp1p1pp/4p1p2/7R1/2PP5/P1B1PPPPP/5K3/LNSG1GSNL b P': 102,\n",
       " 'kns2g1nl/l1g2srb1/pppppp1pp/6p2/9/2PP1P3/PPBSP1PPP/1R2G1S2/LN2KG1NL b -': 103,\n",
       " '1ns2g1nl/lkg1rs1b1/pppp1p1pp/4p1p2/7R1/2PP5/P1B1PPPPP/5K3/LNSG1GSNL w P': 104,\n",
       " '1ns2gsnl/l1kg1r1b1/ppppp2pp/2R2pp2/9/4P2P1/PP1PSPP1P/1B7/LNSGKG1NL b P': 105,\n",
       " '1n1g1g1nl/1Bsk3s1/lppp1p1pp/p5p2/7P1/P1P1r4/1P1P1PP1P/2S2S1R1/LNKG1G1NL b Pbp': 106,\n",
       " '1n1gkg1nl/r1s3r2/ppppppspp/6p2/7P1/2P3P2/PP1PPP2P/1B4GS1/LNSG2KNL b Lb': 107,\n",
       " '1ns2g1nl/lkg2s1b1/pppppp1pp/6r2/1P4p2/2PP5/P1BSPPPPP/1R2G1S2/LN2KG1NL b -': 108,\n",
       " 'kns1g1snl/l1g3rb1/pppppp1pp/9/2P3p2/1R1P5/P1BSPPPPP/9/LN1GKGSNL b P': 109,\n",
       " '1ns2g1nl/lkg2srb1/pppppp1pp/9/1P7/2PP5/P1BSPPSPP/1R3K3/LN1G1G1NL b Pp': 110,\n",
       " '1npg1gknl/R+Bs4s1/pp1ppp1p1/6p1p/9/9/PP1PPPPPP/2S6/+bN1GKGSNL w LPrl': 111,\n",
       " '1ns1g1snl/lkg3rb1/pppppp1pp/9/1P4p2/2PP5/P1BSPPPPP/1R4G2/LN1GK1SNL b -': 112,\n",
       " '+Bn1g1g1nl/2sk3s1/ppppp2pp/9/9/2P2rpP1/PP1PPpP1P/1K5R1/LNSGSG1NL b LPb': 113,\n",
       " '1ns2g1nl/lkg2srb1/pppppp1pp/1R4p2/9/2PP5/P1BSPPPPP/9/LN1GKGSNL b P': 114,\n",
       " '+Bn1g1g1nl/r2s1k1b1/p2p3pp/1pp1spp2/9/2P6/PP1P1PPPP/4RK3/LNSG1GSNL w L2p': 115,\n",
       " '+Bn1g1g1nl/2sk2rs1/pppppp1pp/9/4b4/2P6/PP2PP+pPP/3R3S1/LNSGKG1NL b LPp': 116,\n",
       " '1ns2gsnl/l1kg1r1b1/ppppp2pp/5pp2/2P6/4P2P1/PP1PSPP1P/1BR6/LNSGKG1NL b -': 117,\n",
       " 'kns1g1snl/l1g3rb1/pppppp1pp/9/1P4p2/2PP5/P1BSPPPPP/1R4G2/LN1G1KSNL b -': 118,\n",
       " 'kns2g1nl/l1g1rs3/pppp2bpp/4ppp2/7P1/2P1P4/PPBPSPP1P/L6R1/KNSG1G1NL b -': 119,\n",
       " '1ns1g1snl/lkg3rb1/pppppp1pp/9/1P4p2/2PP5/P1BSPPPPP/1R2G4/LN2KGSNL b -': 120,\n",
       " '1ns2gsnl/l1kg1r1b1/ppppp2pp/2P2pp2/9/4P2P1/PP1PSPP1P/1BR6/LNSGKG1NL w -': 121,\n",
       " 'kns2g1nl/l1g3rb1/ppppsp1pp/4p4/PP4p2/2PP5/2BSPPPPP/1R3K1S1/LN1G1G1NL b -': 122,\n",
       " '1ns2g1nl/lkg3rb1/ppppsp1pp/4p4/PP4p2/2PP5/2BSPPPPP/1R3K1S1/LN1G1G1NL w -': 123,\n",
       " '1n1g1g1nl/1Bskr2s1/lppp1p1pp/p5p2/4p2P1/P1P6/1P1PPPP1P/2S4R1/LNKG1GSNL b b': 124,\n",
       " '1ns2g1nl/lkg3rb1/ppppsp1pp/4p4/PP4p2/2PP5/2BSPPPPP/1R5S1/LN1GKG1NL b -': 125}"
      ]
     },
     "execution_count": 10,
     "metadata": {},
     "output_type": "execute_result"
    }
   ],
   "source": [
    "sfen_to_id_dict"
   ]
  },
  {
   "cell_type": "code",
   "execution_count": 11,
   "metadata": {},
   "outputs": [],
   "source": [
    "df_move = pd.DataFrame(moves, columns=[\"move\"])"
   ]
  },
  {
   "cell_type": "code",
   "execution_count": 12,
   "metadata": {},
   "outputs": [],
   "source": [
    "df_move[\"from\"] = df_move[\"move\"].map(lambda x: sfen_to_id_dict[x.sfen_for_hash])\n",
    "df_move[\"to\"] = df_move[\"move\"].map(lambda x: sfen_to_id_dict[x.next_sfen_for_hash])"
   ]
  },
  {
   "cell_type": "code",
   "execution_count": 13,
   "metadata": {},
   "outputs": [],
   "source": [
    "edge_df = df_move[[\"from\", \"to\"]].copy()"
   ]
  },
  {
   "cell_type": "code",
   "execution_count": 14,
   "metadata": {},
   "outputs": [],
   "source": [
    "node_df = pd.DataFrame(sfen_to_id_dict.keys(), columns=[\"title\"], index=sfen_to_id_dict.values())"
   ]
  },
  {
   "cell_type": "code",
   "execution_count": 15,
   "metadata": {},
   "outputs": [],
   "source": [
    "node_df[\"id\"] = node_df.index"
   ]
  },
  {
   "cell_type": "code",
   "execution_count": 16,
   "metadata": {},
   "outputs": [
    {
     "data": {
      "text/html": [
       "<div>\n",
       "<style scoped>\n",
       "    .dataframe tbody tr th:only-of-type {\n",
       "        vertical-align: middle;\n",
       "    }\n",
       "\n",
       "    .dataframe tbody tr th {\n",
       "        vertical-align: top;\n",
       "    }\n",
       "\n",
       "    .dataframe thead th {\n",
       "        text-align: right;\n",
       "    }\n",
       "</style>\n",
       "<table border=\"1\" class=\"dataframe\">\n",
       "  <thead>\n",
       "    <tr style=\"text-align: right;\">\n",
       "      <th></th>\n",
       "      <th>title</th>\n",
       "      <th>id</th>\n",
       "    </tr>\n",
       "  </thead>\n",
       "  <tbody>\n",
       "    <tr>\n",
       "      <th>0</th>\n",
       "      <td>1n1g1gknl/R+Bs4s1/pp1ppp1p1/6p1p/9/9/PP1PPPPPP...</td>\n",
       "      <td>0</td>\n",
       "    </tr>\n",
       "    <tr>\n",
       "      <th>1</th>\n",
       "      <td>1ns2g1nl/lkg2srb1/pppppp1pp/9/1P4p2/2PP5/P1BSP...</td>\n",
       "      <td>1</td>\n",
       "    </tr>\n",
       "    <tr>\n",
       "      <th>2</th>\n",
       "      <td>1n1g1g1nl/1Bskr2s1/lppp1p1pp/p5p2/7P1/P1P6/1PS...</td>\n",
       "      <td>2</td>\n",
       "    </tr>\n",
       "    <tr>\n",
       "      <th>3</th>\n",
       "      <td>+Bn1g1g1nl/2sk3s1/ppppp2pp/9/6p2/2P2r1P1/PP1PP...</td>\n",
       "      <td>3</td>\n",
       "    </tr>\n",
       "    <tr>\n",
       "      <th>4</th>\n",
       "      <td>1ns2gsnl/l1kg1r1b1/pp1pp2pp/2p2pp2/9/4P2P1/PP1...</td>\n",
       "      <td>4</td>\n",
       "    </tr>\n",
       "    <tr>\n",
       "      <th>...</th>\n",
       "      <td>...</td>\n",
       "      <td>...</td>\n",
       "    </tr>\n",
       "    <tr>\n",
       "      <th>121</th>\n",
       "      <td>1ns2gsnl/l1kg1r1b1/ppppp2pp/2P2pp2/9/4P2P1/PP1...</td>\n",
       "      <td>121</td>\n",
       "    </tr>\n",
       "    <tr>\n",
       "      <th>122</th>\n",
       "      <td>kns2g1nl/l1g3rb1/ppppsp1pp/4p4/PP4p2/2PP5/2BSP...</td>\n",
       "      <td>122</td>\n",
       "    </tr>\n",
       "    <tr>\n",
       "      <th>123</th>\n",
       "      <td>1ns2g1nl/lkg3rb1/ppppsp1pp/4p4/PP4p2/2PP5/2BSP...</td>\n",
       "      <td>123</td>\n",
       "    </tr>\n",
       "    <tr>\n",
       "      <th>124</th>\n",
       "      <td>1n1g1g1nl/1Bskr2s1/lppp1p1pp/p5p2/4p2P1/P1P6/1...</td>\n",
       "      <td>124</td>\n",
       "    </tr>\n",
       "    <tr>\n",
       "      <th>125</th>\n",
       "      <td>1ns2g1nl/lkg3rb1/ppppsp1pp/4p4/PP4p2/2PP5/2BSP...</td>\n",
       "      <td>125</td>\n",
       "    </tr>\n",
       "  </tbody>\n",
       "</table>\n",
       "<p>126 rows × 2 columns</p>\n",
       "</div>"
      ],
      "text/plain": [
       "                                                 title   id\n",
       "0    1n1g1gknl/R+Bs4s1/pp1ppp1p1/6p1p/9/9/PP1PPPPPP...    0\n",
       "1    1ns2g1nl/lkg2srb1/pppppp1pp/9/1P4p2/2PP5/P1BSP...    1\n",
       "2    1n1g1g1nl/1Bskr2s1/lppp1p1pp/p5p2/7P1/P1P6/1PS...    2\n",
       "3    +Bn1g1g1nl/2sk3s1/ppppp2pp/9/6p2/2P2r1P1/PP1PP...    3\n",
       "4    1ns2gsnl/l1kg1r1b1/pp1pp2pp/2p2pp2/9/4P2P1/PP1...    4\n",
       "..                                                 ...  ...\n",
       "121  1ns2gsnl/l1kg1r1b1/ppppp2pp/2P2pp2/9/4P2P1/PP1...  121\n",
       "122  kns2g1nl/l1g3rb1/ppppsp1pp/4p4/PP4p2/2PP5/2BSP...  122\n",
       "123  1ns2g1nl/lkg3rb1/ppppsp1pp/4p4/PP4p2/2PP5/2BSP...  123\n",
       "124  1n1g1g1nl/1Bskr2s1/lppp1p1pp/p5p2/4p2P1/P1P6/1...  124\n",
       "125  1ns2g1nl/lkg3rb1/ppppsp1pp/4p4/PP4p2/2PP5/2BSP...  125\n",
       "\n",
       "[126 rows x 2 columns]"
      ]
     },
     "execution_count": 16,
     "metadata": {},
     "output_type": "execute_result"
    }
   ],
   "source": [
    "node_df"
   ]
  },
  {
   "cell_type": "code",
   "execution_count": 17,
   "metadata": {},
   "outputs": [],
   "source": [
    "node_df[\"board\"] = node_df[\"title\"].map(lambda x: Board(sfen=x))"
   ]
  },
  {
   "cell_type": "code",
   "execution_count": 18,
   "metadata": {},
   "outputs": [
    {
     "data": {
      "text/plain": [
       "'<svg xmlns=\"http://www.w3.org/2000/svg\" version=\"1.1\" xmlns:xlink=\"http://www.w3.org/1999/xlink\" width=\"230.0\" height=\"192.0\" viewBox=\"0 0 230 192\"><defs><g id=\"black-pawn\"><text font-family=\"serif\" font-size=\"17\" text-anchor=\"middle\" x=\"10.5\" y=\"16.5\">&#27497;</text></g><g id=\"black-lance\"><text font-family=\"serif\" font-size=\"17\" text-anchor=\"middle\" x=\"10.5\" y=\"16.5\">&#39321;</text></g><g id=\"black-knight\"><text font-family=\"serif\" font-size=\"17\" text-anchor=\"middle\" x=\"10.5\" y=\"16.5\">&#26690;</text></g><g id=\"black-silver\"><text font-family=\"serif\" font-size=\"17\" text-anchor=\"middle\" x=\"10.5\" y=\"16.5\">&#37504;</text></g><g id=\"black-gold\"><text font-family=\"serif\" font-size=\"17\" text-anchor=\"middle\" x=\"10.5\" y=\"16.5\">&#37329;</text></g><g id=\"black-bishop\"><text font-family=\"serif\" font-size=\"17\" text-anchor=\"middle\" x=\"10.5\" y=\"16.5\">&#35282;</text></g><g id=\"black-rook\"><text font-family=\"serif\" font-size=\"17\" text-anchor=\"middle\" x=\"10.5\" y=\"16.5\">&#39131;</text></g><g id=\"black-king\"><text font-family=\"serif\" font-size=\"17\" text-anchor=\"middle\" x=\"10.5\" y=\"16.5\">&#29579;</text></g><g id=\"black-pro-pawn\"><text font-family=\"serif\" font-size=\"17\" text-anchor=\"middle\" x=\"10.5\" y=\"16.5\">&#12392;</text></g><g id=\"black-pro-lance\" transform=\"scale(1.0, 0.5)\"><text font-family=\"serif\" font-size=\"17\" text-anchor=\"middle\" x=\"10.5\" y=\"18\">&#25104;</text><text font-family=\"serif\" font-size=\"17\" text-anchor=\"middle\" x=\"10.5\" y=\"34\">&#39321;</text></g><g id=\"black-pro-knight\" transform=\"scale(1.0, 0.5)\"><text font-family=\"serif\" font-size=\"17\" text-anchor=\"middle\" x=\"10.5\" y=\"18\">&#25104;</text><text font-family=\"serif\" font-size=\"17\" text-anchor=\"middle\" x=\"10.5\" y=\"34\">&#26690;</text></g><g id=\"black-pro-silver\" transform=\"scale(1.0, 0.5)\"><text font-family=\"serif\" font-size=\"17\" text-anchor=\"middle\" x=\"10.5\" y=\"18\">&#25104;</text><text font-family=\"serif\" font-size=\"17\" text-anchor=\"middle\" x=\"10.5\" y=\"34\">&#37504;</text></g><g id=\"black-horse\"><text font-family=\"serif\" font-size=\"17\" text-anchor=\"middle\" x=\"10.5\" y=\"16.5\">&#39340;</text></g><g id=\"black-dragon\"><text font-family=\"serif\" font-size=\"17\" text-anchor=\"middle\" x=\"10.5\" y=\"16.5\">&#40845;</text></g><g id=\"white-pawn\" transform=\"rotate(180)\"><text font-family=\"serif\" font-size=\"17\" text-anchor=\"middle\" x=\"-10.5\" y=\"-3.5\">&#27497;</text></g><g id=\"white-lance\" transform=\"rotate(180)\"><text font-family=\"serif\" font-size=\"17\" text-anchor=\"middle\" x=\"-10.5\" y=\"-3.5\">&#39321;</text></g><g id=\"white-knight\" transform=\"rotate(180)\"><text font-family=\"serif\" font-size=\"17\" text-anchor=\"middle\" x=\"-10.5\" y=\"-3.5\">&#26690;</text></g><g id=\"white-silver\" transform=\"rotate(180)\"><text font-family=\"serif\" font-size=\"17\" text-anchor=\"middle\" x=\"-10.5\" y=\"-3.5\">&#37504;</text></g><g id=\"white-gold\" transform=\"rotate(180)\"><text font-family=\"serif\" font-size=\"17\" text-anchor=\"middle\" x=\"-10.5\" y=\"-3.5\">&#37329;</text></g><g id=\"white-bishop\" transform=\"rotate(180)\"><text font-family=\"serif\" font-size=\"17\" text-anchor=\"middle\" x=\"-10.5\" y=\"-3.5\">&#35282;</text></g><g id=\"white-rook\" transform=\"rotate(180)\"><text font-family=\"serif\" font-size=\"17\" text-anchor=\"middle\" x=\"-10.5\" y=\"-3.5\">&#39131;</text></g><g id=\"white-king\" transform=\"rotate(180)\"><text font-family=\"serif\" font-size=\"17\" text-anchor=\"middle\" x=\"-10.5\" y=\"-3.5\">&#29579;</text></g><g id=\"white-pro-pawn\" transform=\"rotate(180)\"><text font-family=\"serif\" font-size=\"17\" text-anchor=\"middle\" x=\"-10.5\" y=\"-3.5\">&#12392;</text></g><g id=\"white-pro-lance\" transform=\"scale(1.0, 0.5) rotate(180)\"><text font-family=\"serif\" font-size=\"17\" text-anchor=\"middle\" x=\"-10.5\" y=\"-22\">&#25104;</text><text font-family=\"serif\" font-size=\"17\" text-anchor=\"middle\" x=\"-10.5\" y=\"-6\">&#39321;</text></g><g id=\"white-pro-knight\" transform=\"scale(1.0, 0.5) rotate(180)\"><text font-family=\"serif\" font-size=\"17\" text-anchor=\"middle\" x=\"-10.5\" y=\"-22\">&#25104;</text><text font-family=\"serif\" font-size=\"17\" text-anchor=\"middle\" x=\"-10.5\" y=\"-6\">&#26690;</text></g><g id=\"white-pro-silver\" transform=\"scale(1.0, 0.5) rotate(180)\"><text font-family=\"serif\" font-size=\"17\" text-anchor=\"middle\" x=\"-10.5\" y=\"-22\">&#25104;</text><text font-family=\"serif\" font-size=\"17\" text-anchor=\"middle\" x=\"-10.5\" y=\"-6\">&#37504;</text></g><g id=\"white-horse\" transform=\"rotate(180)\"><text font-family=\"serif\" font-size=\"17\" text-anchor=\"middle\" x=\"-10.5\" y=\"-3.5\">&#39340;</text></g><g id=\"white-dragon\" transform=\"rotate(180)\"><text font-family=\"serif\" font-size=\"17\" text-anchor=\"middle\" x=\"-10.5\" y=\"-3.5\">&#40845;</text></g></defs><g stroke=\"black\"><rect x=\"20\" y=\"10\" width=\"181\" height=\"181\" fill=\"none\" stroke-width=\"1.5\" /><line x1=\"20.5\" y1=\"30.5\" x2=\"200.5\" y2=\"30.5\" stroke-width=\"1.0\" /><line x1=\"20.5\" y1=\"50.5\" x2=\"200.5\" y2=\"50.5\" stroke-width=\"1.0\" /><line x1=\"20.5\" y1=\"70.5\" x2=\"200.5\" y2=\"70.5\" stroke-width=\"1.0\" /><line x1=\"20.5\" y1=\"90.5\" x2=\"200.5\" y2=\"90.5\" stroke-width=\"1.0\" /><line x1=\"20.5\" y1=\"110.5\" x2=\"200.5\" y2=\"110.5\" stroke-width=\"1.0\" /><line x1=\"20.5\" y1=\"130.5\" x2=\"200.5\" y2=\"130.5\" stroke-width=\"1.0\" /><line x1=\"20.5\" y1=\"150.5\" x2=\"200.5\" y2=\"150.5\" stroke-width=\"1.0\" /><line x1=\"20.5\" y1=\"170.5\" x2=\"200.5\" y2=\"170.5\" stroke-width=\"1.0\" /><line x1=\"40.5\" y1=\"10.5\" x2=\"40.5\" y2=\"190.5\" stroke-width=\"1.0\" /><line x1=\"60.5\" y1=\"10.5\" x2=\"60.5\" y2=\"190.5\" stroke-width=\"1.0\" /><line x1=\"80.5\" y1=\"10.5\" x2=\"80.5\" y2=\"190.5\" stroke-width=\"1.0\" /><line x1=\"100.5\" y1=\"10.5\" x2=\"100.5\" y2=\"190.5\" stroke-width=\"1.0\" /><line x1=\"120.5\" y1=\"10.5\" x2=\"120.5\" y2=\"190.5\" stroke-width=\"1.0\" /><line x1=\"140.5\" y1=\"10.5\" x2=\"140.5\" y2=\"190.5\" stroke-width=\"1.0\" /><line x1=\"160.5\" y1=\"10.5\" x2=\"160.5\" y2=\"190.5\" stroke-width=\"1.0\" /><line x1=\"180.5\" y1=\"10.5\" x2=\"180.5\" y2=\"190.5\" stroke-width=\"1.0\" /></g><g><text font-family=\"serif\" text-anchor=\"middle\" font-size=\"9\" x=\"30.5\" y=\"8\">9</text><text font-family=\"serif\" text-anchor=\"middle\" font-size=\"9\" x=\"50.5\" y=\"8\">8</text><text font-family=\"serif\" text-anchor=\"middle\" font-size=\"9\" x=\"70.5\" y=\"8\">7</text><text font-family=\"serif\" text-anchor=\"middle\" font-size=\"9\" x=\"90.5\" y=\"8\">6</text><text font-family=\"serif\" text-anchor=\"middle\" font-size=\"9\" x=\"110.5\" y=\"8\">5</text><text font-family=\"serif\" text-anchor=\"middle\" font-size=\"9\" x=\"130.5\" y=\"8\">4</text><text font-family=\"serif\" text-anchor=\"middle\" font-size=\"9\" x=\"150.5\" y=\"8\">3</text><text font-family=\"serif\" text-anchor=\"middle\" font-size=\"9\" x=\"170.5\" y=\"8\">2</text><text font-family=\"serif\" text-anchor=\"middle\" font-size=\"9\" x=\"190.5\" y=\"8\">1</text><text font-family=\"serif\" font-size=\"9\" x=\"203.5\" y=\"23\">&#19968;</text><text font-family=\"serif\" font-size=\"9\" x=\"203.5\" y=\"43\">&#20108;</text><text font-family=\"serif\" font-size=\"9\" x=\"203.5\" y=\"63\">&#19977;</text><text font-family=\"serif\" font-size=\"9\" x=\"203.5\" y=\"83\">&#22235;</text><text font-family=\"serif\" font-size=\"9\" x=\"203.5\" y=\"103\">&#20116;</text><text font-family=\"serif\" font-size=\"9\" x=\"203.5\" y=\"123\">&#20845;</text><text font-family=\"serif\" font-size=\"9\" x=\"203.5\" y=\"143\">&#19971;</text><text font-family=\"serif\" font-size=\"9\" x=\"203.5\" y=\"163\">&#20843;</text><text font-family=\"serif\" font-size=\"9\" x=\"203.5\" y=\"183\">&#20061;</text></g><use xlink:href=\"#white-lance\" x=\"180.5\" y=\"10.5\" /><use xlink:href=\"#white-pawn\" x=\"180.5\" y=\"70.5\" /><use xlink:href=\"#black-pawn\" x=\"180.5\" y=\"130.5\" /><use xlink:href=\"#black-lance\" x=\"180.5\" y=\"170.5\" /><use xlink:href=\"#white-knight\" x=\"160.5\" y=\"10.5\" /><use xlink:href=\"#white-silver\" x=\"160.5\" y=\"30.5\" /><use xlink:href=\"#white-pawn\" x=\"160.5\" y=\"50.5\" /><use xlink:href=\"#black-pawn\" x=\"160.5\" y=\"130.5\" /><use xlink:href=\"#black-knight\" x=\"160.5\" y=\"170.5\" /><use xlink:href=\"#white-king\" x=\"140.5\" y=\"10.5\" /><use xlink:href=\"#white-pawn\" x=\"140.5\" y=\"70.5\" /><use xlink:href=\"#black-pawn\" x=\"140.5\" y=\"130.5\" /><use xlink:href=\"#black-silver\" x=\"140.5\" y=\"170.5\" /><use xlink:href=\"#white-gold\" x=\"120.5\" y=\"10.5\" /><use xlink:href=\"#white-pawn\" x=\"120.5\" y=\"50.5\" /><use xlink:href=\"#black-pawn\" x=\"120.5\" y=\"130.5\" /><use xlink:href=\"#black-gold\" x=\"120.5\" y=\"170.5\" /><use xlink:href=\"#white-pawn\" x=\"100.5\" y=\"50.5\" /><use xlink:href=\"#black-pawn\" x=\"100.5\" y=\"130.5\" /><use xlink:href=\"#black-king\" x=\"100.5\" y=\"170.5\" /><use xlink:href=\"#white-gold\" x=\"80.5\" y=\"10.5\" /><use xlink:href=\"#white-pawn\" x=\"80.5\" y=\"50.5\" /><use xlink:href=\"#black-pawn\" x=\"80.5\" y=\"130.5\" /><use xlink:href=\"#black-gold\" x=\"80.5\" y=\"170.5\" /><use xlink:href=\"#white-silver\" x=\"60.5\" y=\"30.5\" /><use xlink:href=\"#black-silver\" x=\"60.5\" y=\"170.5\" /><use xlink:href=\"#white-knight\" x=\"40.5\" y=\"10.5\" /><use xlink:href=\"#black-horse\" x=\"40.5\" y=\"30.5\" /><use xlink:href=\"#white-pawn\" x=\"40.5\" y=\"50.5\" /><use xlink:href=\"#black-pawn\" x=\"40.5\" y=\"130.5\" /><use xlink:href=\"#black-knight\" x=\"40.5\" y=\"170.5\" /><use xlink:href=\"#black-rook\" x=\"20.5\" y=\"30.5\" /><use xlink:href=\"#white-pawn\" x=\"20.5\" y=\"50.5\" /><use xlink:href=\"#black-pawn\" x=\"20.5\" y=\"130.5\" /><use xlink:href=\"#white-horse\" x=\"20.5\" y=\"170.5\" /><text font-family=\"serif\" font-size=\"14\" x=\"214\" y=\"190\">&#27497;</text><text font-family=\"serif\" font-size=\"14\" x=\"214\" y=\"176\">&#39321;</text><text font-family=\"serif\" font-size=\"14\" x=\"214\" y=\"148\">&#25163;</text><text font-family=\"serif\" font-size=\"14\" x=\"214\" y=\"134\">&#20808;</text><text font-family=\"serif\" font-size=\"14\" x=\"214\" y=\"120\">&#9751;</text><text font-family=\"serif\" font-size=\"14\" x=\"-16\" y=\"-10\" transform=\"rotate(180)\">&#27497;</text><text font-family=\"serif\" font-size=\"14\" x=\"-16\" y=\"-24\" transform=\"rotate(180)\">&#39321;</text><text font-family=\"serif\" font-size=\"14\" x=\"-16\" y=\"-38\" transform=\"rotate(180)\">&#39131;</text><text font-family=\"serif\" font-size=\"14\" x=\"-16\" y=\"-66\" transform=\"rotate(180)\">&#25163;</text><text font-family=\"serif\" font-size=\"14\" x=\"-16\" y=\"-80\" transform=\"rotate(180)\">&#24460;</text><text font-family=\"serif\" font-size=\"14\" x=\"-16\" y=\"-94\" transform=\"rotate(180)\">&#9750;</text></svg>'"
      ]
     },
     "execution_count": 18,
     "metadata": {},
     "output_type": "execute_result"
    }
   ],
   "source": [
    "node_df.iloc[0][\"board\"].to_svg().__str__()"
   ]
  },
  {
   "cell_type": "code",
   "execution_count": 19,
   "metadata": {},
   "outputs": [
    {
     "name": "stdout",
     "output_type": "stream",
     "text": [
      "Parsing the data...Done\n"
     ]
    },
    {
     "name": "stderr",
     "output_type": "stream",
     "text": [
      "/workspaces/BookGraph/.venv/lib/python3.12/site-packages/jaal/datasets/parse_dataframe.py:42: FutureWarning: Setting an item of incompatible dtype is deprecated and will raise in a future error of pandas. Value '['73' '45' '74' '47' '86' '116' '53' '3' '101' '115' '51' '72' '106' '50'\n",
      " '12' '41' '37' '124' '11' '88' '60' '61' '0' '97' '38' '71' '77' '34'\n",
      " '107' '57' '27' '111' '7' '84' '67' '82' '16' '78' '21' '21' '21' '42'\n",
      " '80' '120' '33' '112' '79' '25' '49' '43' '43' '56' '32' '66' '10' '87'\n",
      " '104' '92' '29' '108' '69' '48' '75' '17' '114' '63' '62' '62' '26' '6'\n",
      " '99' '13' '76' '31' '1' '1' '1' '81' '81' '64' '18' '89' '110' '39' '54'\n",
      " '58' '28' '20' '23' '65' '68' '123' '125' '36' '90' '59' '4' '121' '105'\n",
      " '117']' has dtype incompatible with int64, please explicitly cast to a compatible dtype first.\n",
      "  edge_df.loc[:, ['from', 'to']] = edge_df.loc[:, ['from', 'to']].astype(str)\n",
      "/workspaces/BookGraph/.venv/lib/python3.12/site-packages/jaal/datasets/parse_dataframe.py:42: FutureWarning: Setting an item of incompatible dtype is deprecated and will raise in a future error of pandas. Value '['101' '73' '86' '116' '47' '53' '95' '113' '51' '70' '0' '100' '41' '24'\n",
      " '50' '2' '88' '37' '106' '11' '61' '30' '7' '46' '97' '77' '98' '71' '34'\n",
      " '27' '107' '40' '111' '16' '84' '67' '80' '15' '82' '78' '42' '55' '43'\n",
      " '79' '118' '33' '94' '109' '14' '49' '25' '10' '56' '35' '66' '104' '102'\n",
      " '119' '92' '69' '5' '114' '48' '75' '26' '1' '63' '17' '54' '103' '6'\n",
      " '108' '13' '8' '81' '18' '31' '44' '9' '81' '83' '19' '89' '85' '39' '96'\n",
      " '58' '23' '93' '22' '65' '122' '123' '52' '36' '105' '59' '4' '91' '121']' has dtype incompatible with int64, please explicitly cast to a compatible dtype first.\n",
      "  edge_df.loc[:, ['from', 'to']] = edge_df.loc[:, ['from', 'to']].astype(str)\n",
      "/workspaces/BookGraph/.venv/lib/python3.12/site-packages/jaal/datasets/parse_dataframe.py:57: FutureWarning: Setting an item of incompatible dtype is deprecated and will raise in a future error of pandas. Value '['0' '1' '2' '3' '4' '5' '6' '7' '8' '9' '10' '11' '12' '13' '14' '15'\n",
      " '16' '17' '18' '19' '20' '21' '22' '23' '24' '25' '26' '27' '28' '29'\n",
      " '30' '31' '32' '33' '34' '35' '36' '37' '38' '39' '40' '41' '42' '43'\n",
      " '44' '45' '46' '47' '48' '49' '50' '51' '52' '53' '54' '55' '56' '57'\n",
      " '58' '59' '60' '61' '62' '63' '64' '65' '66' '67' '68' '69' '70' '71'\n",
      " '72' '73' '74' '75' '76' '77' '78' '79' '80' '81' '82' '83' '84' '85'\n",
      " '86' '87' '88' '89' '90' '91' '92' '93' '94' '95' '96' '97' '98' '99'\n",
      " '100' '101' '102' '103' '104' '105' '106' '107' '108' '109' '110' '111'\n",
      " '112' '113' '114' '115' '116' '117' '118' '119' '120' '121' '122' '123'\n",
      " '124' '125']' has dtype incompatible with int64, please explicitly cast to a compatible dtype first.\n",
      "  node_df.loc[:, 'id'] = node_df.loc[:, 'id'].astype(str)\n"
     ]
    },
    {
     "data": {
      "text/html": [
       "\n",
       "        <iframe\n",
       "            width=\"100%\"\n",
       "            height=\"650\"\n",
       "            src=\"http://127.0.0.1:8050/\"\n",
       "            frameborder=\"0\"\n",
       "            allowfullscreen\n",
       "            \n",
       "        ></iframe>\n",
       "        "
      ],
      "text/plain": [
       "<IPython.lib.display.IFrame at 0x70360c1b6ff0>"
      ]
     },
     "metadata": {},
     "output_type": "display_data"
    },
    {
     "name": "stderr",
     "output_type": "stream",
     "text": [
      "[2024-05-26 09:09:51,108] ERROR in app: Exception on /_dash-layout [GET]\n",
      "Traceback (most recent call last):\n",
      "  File \"/workspaces/BookGraph/.venv/lib/python3.12/site-packages/flask/app.py\", line 1473, in wsgi_app\n",
      "    response = self.full_dispatch_request()\n",
      "               ^^^^^^^^^^^^^^^^^^^^^^^^^^^^\n",
      "  File \"/workspaces/BookGraph/.venv/lib/python3.12/site-packages/flask/app.py\", line 882, in full_dispatch_request\n",
      "    rv = self.handle_user_exception(e)\n",
      "         ^^^^^^^^^^^^^^^^^^^^^^^^^^^^^\n",
      "  File \"/workspaces/BookGraph/.venv/lib/python3.12/site-packages/flask/app.py\", line 880, in full_dispatch_request\n",
      "    rv = self.dispatch_request()\n",
      "         ^^^^^^^^^^^^^^^^^^^^^^^\n",
      "  File \"/workspaces/BookGraph/.venv/lib/python3.12/site-packages/flask/app.py\", line 865, in dispatch_request\n",
      "    return self.ensure_sync(self.view_functions[rule.endpoint])(**view_args)  # type: ignore[no-any-return]\n",
      "           ^^^^^^^^^^^^^^^^^^^^^^^^^^^^^^^^^^^^^^^^^^^^^^^^^^^^^^^^^^^^^^^^^\n",
      "  File \"/workspaces/BookGraph/.venv/lib/python3.12/site-packages/dash/dash.py\", line 752, in serve_layout\n",
      "    to_json(layout),\n",
      "    ^^^^^^^^^^^^^^^\n",
      "  File \"/workspaces/BookGraph/.venv/lib/python3.12/site-packages/dash/_utils.py\", line 26, in to_json\n",
      "    return to_json_plotly(value)\n",
      "           ^^^^^^^^^^^^^^^^^^^^^\n",
      "  File \"/workspaces/BookGraph/.venv/lib/python3.12/site-packages/plotly/io/_json.py\", line 142, in to_json_plotly\n",
      "    json.dumps(plotly_object, cls=PlotlyJSONEncoder, **opts), _swap_json\n",
      "    ^^^^^^^^^^^^^^^^^^^^^^^^^^^^^^^^^^^^^^^^^^^^^^^^^^^^^^^^\n",
      "  File \"/opt/conda/lib/python3.12/json/__init__.py\", line 238, in dumps\n",
      "    **kw).encode(obj)\n",
      "          ^^^^^^^^^^^\n",
      "  File \"/workspaces/BookGraph/.venv/lib/python3.12/site-packages/_plotly_utils/utils.py\", line 56, in encode\n",
      "    encoded_o = super(PlotlyJSONEncoder, self).encode(o)\n",
      "                ^^^^^^^^^^^^^^^^^^^^^^^^^^^^^^^^^^^^^^^^\n",
      "  File \"/opt/conda/lib/python3.12/json/encoder.py\", line 200, in encode\n",
      "    chunks = self.iterencode(o, _one_shot=True)\n",
      "             ^^^^^^^^^^^^^^^^^^^^^^^^^^^^^^^^^^\n",
      "  File \"/opt/conda/lib/python3.12/json/encoder.py\", line 258, in iterencode\n",
      "    return _iterencode(o, 0)\n",
      "           ^^^^^^^^^^^^^^^^^\n",
      "  File \"/workspaces/BookGraph/.venv/lib/python3.12/site-packages/_plotly_utils/utils.py\", line 133, in default\n",
      "    return _json.JSONEncoder.default(self, obj)\n",
      "           ^^^^^^^^^^^^^^^^^^^^^^^^^^^^^^^^^^^^\n",
      "  File \"/opt/conda/lib/python3.12/json/encoder.py\", line 180, in default\n",
      "    raise TypeError(f'Object of type {o.__class__.__name__} '\n",
      "TypeError: Object of type Board is not JSON serializable\n",
      "[2024-05-26 09:10:07,574] ERROR in app: Exception on /_dash-layout [GET]\n",
      "Traceback (most recent call last):\n",
      "  File \"/workspaces/BookGraph/.venv/lib/python3.12/site-packages/flask/app.py\", line 1473, in wsgi_app\n",
      "    response = self.full_dispatch_request()\n",
      "               ^^^^^^^^^^^^^^^^^^^^^^^^^^^^\n",
      "  File \"/workspaces/BookGraph/.venv/lib/python3.12/site-packages/flask/app.py\", line 882, in full_dispatch_request\n",
      "    rv = self.handle_user_exception(e)\n",
      "         ^^^^^^^^^^^^^^^^^^^^^^^^^^^^^\n",
      "  File \"/workspaces/BookGraph/.venv/lib/python3.12/site-packages/flask/app.py\", line 880, in full_dispatch_request\n",
      "    rv = self.dispatch_request()\n",
      "         ^^^^^^^^^^^^^^^^^^^^^^^\n",
      "  File \"/workspaces/BookGraph/.venv/lib/python3.12/site-packages/flask/app.py\", line 865, in dispatch_request\n",
      "    return self.ensure_sync(self.view_functions[rule.endpoint])(**view_args)  # type: ignore[no-any-return]\n",
      "           ^^^^^^^^^^^^^^^^^^^^^^^^^^^^^^^^^^^^^^^^^^^^^^^^^^^^^^^^^^^^^^^^^\n",
      "  File \"/workspaces/BookGraph/.venv/lib/python3.12/site-packages/dash/dash.py\", line 752, in serve_layout\n",
      "    to_json(layout),\n",
      "    ^^^^^^^^^^^^^^^\n",
      "  File \"/workspaces/BookGraph/.venv/lib/python3.12/site-packages/dash/_utils.py\", line 26, in to_json\n",
      "    return to_json_plotly(value)\n",
      "           ^^^^^^^^^^^^^^^^^^^^^\n",
      "  File \"/workspaces/BookGraph/.venv/lib/python3.12/site-packages/plotly/io/_json.py\", line 142, in to_json_plotly\n",
      "    json.dumps(plotly_object, cls=PlotlyJSONEncoder, **opts), _swap_json\n",
      "    ^^^^^^^^^^^^^^^^^^^^^^^^^^^^^^^^^^^^^^^^^^^^^^^^^^^^^^^^\n",
      "  File \"/opt/conda/lib/python3.12/json/__init__.py\", line 238, in dumps\n",
      "    **kw).encode(obj)\n",
      "          ^^^^^^^^^^^\n",
      "  File \"/workspaces/BookGraph/.venv/lib/python3.12/site-packages/_plotly_utils/utils.py\", line 56, in encode\n",
      "    encoded_o = super(PlotlyJSONEncoder, self).encode(o)\n",
      "                ^^^^^^^^^^^^^^^^^^^^^^^^^^^^^^^^^^^^^^^^\n",
      "  File \"/opt/conda/lib/python3.12/json/encoder.py\", line 200, in encode\n",
      "    chunks = self.iterencode(o, _one_shot=True)\n",
      "             ^^^^^^^^^^^^^^^^^^^^^^^^^^^^^^^^^^\n",
      "  File \"/opt/conda/lib/python3.12/json/encoder.py\", line 258, in iterencode\n",
      "    return _iterencode(o, 0)\n",
      "           ^^^^^^^^^^^^^^^^^\n",
      "  File \"/workspaces/BookGraph/.venv/lib/python3.12/site-packages/_plotly_utils/utils.py\", line 133, in default\n",
      "    return _json.JSONEncoder.default(self, obj)\n",
      "           ^^^^^^^^^^^^^^^^^^^^^^^^^^^^^^^^^^^^\n",
      "  File \"/opt/conda/lib/python3.12/json/encoder.py\", line 180, in default\n",
      "    raise TypeError(f'Object of type {o.__class__.__name__} '\n",
      "TypeError: Object of type Board is not JSON serializable\n"
     ]
    }
   ],
   "source": [
    "Jaal(edge_df, node_df).plot()"
   ]
  },
  {
   "cell_type": "code",
   "execution_count": null,
   "metadata": {},
   "outputs": [],
   "source": []
  }
 ],
 "metadata": {
  "kernelspec": {
   "display_name": "Python 3",
   "language": "python",
   "name": "python3"
  },
  "language_info": {
   "codemirror_mode": {
    "name": "ipython",
    "version": 3
   },
   "file_extension": ".py",
   "mimetype": "text/x-python",
   "name": "python",
   "nbconvert_exporter": "python",
   "pygments_lexer": "ipython3",
   "version": "3.12.3"
  }
 },
 "nbformat": 4,
 "nbformat_minor": 2
}
