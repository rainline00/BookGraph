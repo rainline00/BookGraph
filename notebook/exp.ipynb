{
 "cells": [
  {
   "cell_type": "code",
   "execution_count": 2,
   "metadata": {},
   "outputs": [
    {
     "name": "stderr",
     "output_type": "stream",
     "text": [
      "/home/codespace/.python/current/lib/python3.10/site-packages/dash_bootstrap_components/_table.py:5: UserWarning: \n",
      "The dash_html_components package is deprecated. Please replace\n",
      "`import dash_html_components as html` with `from dash import html`\n",
      "  import dash_html_components as html\n"
     ]
    }
   ],
   "source": [
    "import sys\n",
    "from pathlib import Path\n",
    "from jaal import Jaal\n",
    "import pandas as pd\n",
    "sys.path.append(\"../src\")\n",
    "from reader import YaneuraBookReader"
   ]
  },
  {
   "cell_type": "code",
   "execution_count": 3,
   "metadata": {},
   "outputs": [],
   "source": [
    "reader = YaneuraBookReader()"
   ]
  },
  {
   "cell_type": "code",
   "execution_count": 4,
   "metadata": {},
   "outputs": [],
   "source": [
    "path = Path(\"../data/book.db\")\n",
    "nodes = list(reader.from_file(path))"
   ]
  },
  {
   "cell_type": "code",
   "execution_count": 5,
   "metadata": {},
   "outputs": [],
   "source": [
    "df = pd.DataFrame(nodes, columns=[\"node\"])"
   ]
  },
  {
   "cell_type": "code",
   "execution_count": 6,
   "metadata": {},
   "outputs": [],
   "source": [
    "df[\"board\"] = df[\"node\"].map(lambda x: x.sfen_for_hash)"
   ]
  },
  {
   "cell_type": "code",
   "execution_count": 7,
   "metadata": {},
   "outputs": [
    {
     "data": {
      "text/html": [
       "<div>\n",
       "<style scoped>\n",
       "    .dataframe tbody tr th:only-of-type {\n",
       "        vertical-align: middle;\n",
       "    }\n",
       "\n",
       "    .dataframe tbody tr th {\n",
       "        vertical-align: top;\n",
       "    }\n",
       "\n",
       "    .dataframe thead th {\n",
       "        text-align: right;\n",
       "    }\n",
       "</style>\n",
       "<table border=\"1\" class=\"dataframe\">\n",
       "  <thead>\n",
       "    <tr style=\"text-align: right;\">\n",
       "      <th></th>\n",
       "      <th>node</th>\n",
       "      <th>board</th>\n",
       "    </tr>\n",
       "  </thead>\n",
       "  <tbody>\n",
       "    <tr>\n",
       "      <th>0</th>\n",
       "      <td>&lt;book_tree.Node object at 0x7fc00c211c60&gt;</td>\n",
       "      <td>+Bn1g1g1nl/2s2k1s1/pp1ppp1p1/6p1p/9/9/PP1PPPPP...</td>\n",
       "    </tr>\n",
       "    <tr>\n",
       "      <th>1</th>\n",
       "      <td>&lt;book_tree.Node object at 0x7fbfe7943310&gt;</td>\n",
       "      <td>+Bn1g1g1nl/2s2k1s1/pp1pppbp1/6p1p/9/9/PP1PPPPP...</td>\n",
       "    </tr>\n",
       "    <tr>\n",
       "      <th>2</th>\n",
       "      <td>&lt;book_tree.Node object at 0x7fbfe7942ad0&gt;</td>\n",
       "      <td>+Bn1g1g1nl/2sk2rs1/pppppp1pp/9/4b1p2/2P6/PP2PP...</td>\n",
       "    </tr>\n",
       "    <tr>\n",
       "      <th>3</th>\n",
       "      <td>&lt;book_tree.Node object at 0x7fbfe7943580&gt;</td>\n",
       "      <td>+Bn1g1g1nl/2sk2rs1/pppppp1pp/9/4b4/2P3p2/PP2PP...</td>\n",
       "    </tr>\n",
       "    <tr>\n",
       "      <th>4</th>\n",
       "      <td>&lt;book_tree.Node object at 0x7fbfe7943400&gt;</td>\n",
       "      <td>+Bn1g1g1nl/2sk2rs1/pppppp1pp/9/4b4/2P3p2/PP2PP...</td>\n",
       "    </tr>\n",
       "    <tr>\n",
       "      <th>...</th>\n",
       "      <td>...</td>\n",
       "      <td>...</td>\n",
       "    </tr>\n",
       "    <tr>\n",
       "      <th>130177</th>\n",
       "      <td>&lt;book_tree.Node object at 0x7fbfde9af610&gt;</td>\n",
       "      <td>lr4snl/3kg1gb1/p1nspp1pp/1ppp2p2/7P1/2PPP4/PPS...</td>\n",
       "    </tr>\n",
       "    <tr>\n",
       "      <th>130178</th>\n",
       "      <td>&lt;book_tree.Node object at 0x7fbfde9af6d0&gt;</td>\n",
       "      <td>rn1g1g1nl/3s1k1b1/p2p3pp/1pp1Rpp2/9/2P6/PP1P1P...</td>\n",
       "    </tr>\n",
       "    <tr>\n",
       "      <th>130179</th>\n",
       "      <td>&lt;book_tree.Node object at 0x7fbfde9af790&gt;</td>\n",
       "      <td>rn1g1g1nl/3s1k1b1/p2p3pp/1pp1spp2/9/2P6/PP1P1P...</td>\n",
       "    </tr>\n",
       "    <tr>\n",
       "      <th>130180</th>\n",
       "      <td>&lt;book_tree.Node object at 0x7fbfde9af850&gt;</td>\n",
       "      <td>rn1gkg1nl/2s3rs1/pppppp1pp/6p2/7P1/2P3P2/PP1PP...</td>\n",
       "    </tr>\n",
       "    <tr>\n",
       "      <th>130181</th>\n",
       "      <td>&lt;book_tree.Node object at 0x7fbfde9af910&gt;</td>\n",
       "      <td>rn1gkg1nl/2s3rs1/pppppp1pp/6p2/7P1/2P3P2/PP1PP...</td>\n",
       "    </tr>\n",
       "  </tbody>\n",
       "</table>\n",
       "<p>130182 rows × 2 columns</p>\n",
       "</div>"
      ],
      "text/plain": [
       "                                             node  \\\n",
       "0       <book_tree.Node object at 0x7fc00c211c60>   \n",
       "1       <book_tree.Node object at 0x7fbfe7943310>   \n",
       "2       <book_tree.Node object at 0x7fbfe7942ad0>   \n",
       "3       <book_tree.Node object at 0x7fbfe7943580>   \n",
       "4       <book_tree.Node object at 0x7fbfe7943400>   \n",
       "...                                           ...   \n",
       "130177  <book_tree.Node object at 0x7fbfde9af610>   \n",
       "130178  <book_tree.Node object at 0x7fbfde9af6d0>   \n",
       "130179  <book_tree.Node object at 0x7fbfde9af790>   \n",
       "130180  <book_tree.Node object at 0x7fbfde9af850>   \n",
       "130181  <book_tree.Node object at 0x7fbfde9af910>   \n",
       "\n",
       "                                                    board  \n",
       "0       +Bn1g1g1nl/2s2k1s1/pp1ppp1p1/6p1p/9/9/PP1PPPPP...  \n",
       "1       +Bn1g1g1nl/2s2k1s1/pp1pppbp1/6p1p/9/9/PP1PPPPP...  \n",
       "2       +Bn1g1g1nl/2sk2rs1/pppppp1pp/9/4b1p2/2P6/PP2PP...  \n",
       "3       +Bn1g1g1nl/2sk2rs1/pppppp1pp/9/4b4/2P3p2/PP2PP...  \n",
       "4       +Bn1g1g1nl/2sk2rs1/pppppp1pp/9/4b4/2P3p2/PP2PP...  \n",
       "...                                                   ...  \n",
       "130177  lr4snl/3kg1gb1/p1nspp1pp/1ppp2p2/7P1/2PPP4/PPS...  \n",
       "130178  rn1g1g1nl/3s1k1b1/p2p3pp/1pp1Rpp2/9/2P6/PP1P1P...  \n",
       "130179  rn1g1g1nl/3s1k1b1/p2p3pp/1pp1spp2/9/2P6/PP1P1P...  \n",
       "130180  rn1gkg1nl/2s3rs1/pppppp1pp/6p2/7P1/2P3P2/PP1PP...  \n",
       "130181  rn1gkg1nl/2s3rs1/pppppp1pp/6p2/7P1/2P3P2/PP1PP...  \n",
       "\n",
       "[130182 rows x 2 columns]"
      ]
     },
     "execution_count": 7,
     "metadata": {},
     "output_type": "execute_result"
    }
   ],
   "source": [
    "df"
   ]
  }
 ],
 "metadata": {
  "kernelspec": {
   "display_name": "Python 3",
   "language": "python",
   "name": "python3"
  },
  "language_info": {
   "codemirror_mode": {
    "name": "ipython",
    "version": 3
   },
   "file_extension": ".py",
   "mimetype": "text/x-python",
   "name": "python",
   "nbconvert_exporter": "python",
   "pygments_lexer": "ipython3",
   "version": "3.10.13"
  }
 },
 "nbformat": 4,
 "nbformat_minor": 2
}
